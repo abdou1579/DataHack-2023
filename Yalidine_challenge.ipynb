{
 "cells": [
  {
   "cell_type": "code",
   "execution_count": 148,
   "id": "c99d6fc7-98f1-4ed9-afc1-7374db48934c",
   "metadata": {},
   "outputs": [
    {
     "name": "stdout",
     "output_type": "stream",
     "text": [
      "Downloading DATAHACK-Yalidine-Challenge.zip to /home/baki/Desktop/cse_hackathon/Yalidine challenge\n",
      "... resuming from 8998779 bytes (1683223 bytes left) ...\n",
      "100%|███████████████████████████████████████| 10.2M/10.2M [00:02<00:00, 624kB/s]\n",
      "100%|███████████████████████████████████████| 10.2M/10.2M [00:02<00:00, 606kB/s]\n"
     ]
    }
   ],
   "source": [
    "!kaggle competitions download -c DATAHACK-Yalidine-Challenge"
   ]
  },
  {
   "cell_type": "code",
   "execution_count": 4,
   "id": "fcb9b370-918d-43ca-b270-a7b32e62e3f9",
   "metadata": {},
   "outputs": [
    {
     "name": "stdout",
     "output_type": "stream",
     "text": [
      "Archive:  DATAHACK-Yalidine-Challenge.zip\n",
      "  inflating: test.csv                \n",
      "  inflating: train_data.csv          \n"
     ]
    }
   ],
   "source": [
    "!unzip DATAHACK-Yalidine-Challenge.zip"
   ]
  },
  {
   "cell_type": "code",
   "execution_count": 2,
   "id": "95ed3720-7fe3-43d1-889e-09d42038f792",
   "metadata": {},
   "outputs": [],
   "source": [
    "from sklearn.preprocessing import LabelEncoder"
   ]
  },
  {
   "cell_type": "code",
   "execution_count": 1,
   "id": "cc45c4ca-2c0c-48ae-b923-d99992df2c15",
   "metadata": {},
   "outputs": [],
   "source": [
    "import pandas as pd\n",
    "import numpy as np\n",
    "\n",
    "df_train = pd.read_csv('train_data.csv')\n",
    "df_test = pd.read_csv('test.csv')"
   ]
  },
  {
   "cell_type": "code",
   "execution_count": 3,
   "id": "f097c0a9-c7e1-49ac-8363-859ad37c56d3",
   "metadata": {},
   "outputs": [
    {
     "name": "stdout",
     "output_type": "stream",
     "text": [
      "Fri Mar  8 08:56:36 2024       \n",
      "+---------------------------------------------------------------------------------------+\n",
      "| NVIDIA-SMI 535.154.05             Driver Version: 535.154.05   CUDA Version: 12.2     |\n",
      "|-----------------------------------------+----------------------+----------------------+\n",
      "| GPU  Name                 Persistence-M | Bus-Id        Disp.A | Volatile Uncorr. ECC |\n",
      "| Fan  Temp   Perf          Pwr:Usage/Cap |         Memory-Usage | GPU-Util  Compute M. |\n",
      "|                                         |                      |               MIG M. |\n",
      "|=========================================+======================+======================|\n",
      "|   0  NVIDIA GeForce RTX 2060        Off | 00000000:01:00.0 Off |                  N/A |\n",
      "| N/A   48C    P0              14W /  80W |      6MiB /  6144MiB |      0%      Default |\n",
      "|                                         |                      |                  N/A |\n",
      "+-----------------------------------------+----------------------+----------------------+\n",
      "                                                                                         \n",
      "+---------------------------------------------------------------------------------------+\n",
      "| Processes:                                                                            |\n",
      "|  GPU   GI   CI        PID   Type   Process name                            GPU Memory |\n",
      "|        ID   ID                                                             Usage      |\n",
      "|=======================================================================================|\n",
      "|    0   N/A  N/A      1750      G   /usr/lib/xorg/Xorg                            4MiB |\n",
      "+---------------------------------------------------------------------------------------+\n"
     ]
    }
   ],
   "source": [
    "!nvidia-smi"
   ]
  },
  {
   "cell_type": "code",
   "execution_count": 224,
   "id": "89dd0235-ee3d-4b7a-a24a-c4dbc2a04a1e",
   "metadata": {},
   "outputs": [
    {
     "data": {
      "text/html": [
       "<div>\n",
       "<style scoped>\n",
       "    .dataframe tbody tr th:only-of-type {\n",
       "        vertical-align: middle;\n",
       "    }\n",
       "\n",
       "    .dataframe tbody tr th {\n",
       "        vertical-align: top;\n",
       "    }\n",
       "\n",
       "    .dataframe thead th {\n",
       "        text-align: right;\n",
       "    }\n",
       "</style>\n",
       "<table border=\"1\" class=\"dataframe\">\n",
       "  <thead>\n",
       "    <tr style=\"text-align: right;\">\n",
       "      <th></th>\n",
       "      <th>Tracking</th>\n",
       "      <th>date expédition</th>\n",
       "      <th>date première tentative</th>\n",
       "      <th>date livraison/échec</th>\n",
       "      <th>date dernier statut</th>\n",
       "      <th>ID expediteur</th>\n",
       "      <th>depart commune</th>\n",
       "      <th>depart wilaya</th>\n",
       "      <th>stop desk?</th>\n",
       "      <th>destination commune</th>\n",
       "      <th>destination wilaya</th>\n",
       "      <th>dernier statut</th>\n",
       "    </tr>\n",
       "  </thead>\n",
       "  <tbody>\n",
       "    <tr>\n",
       "      <th>0</th>\n",
       "      <td>yal-ABC240400</td>\n",
       "      <td>2024-01-10 18:18:53</td>\n",
       "      <td>2024-01-12 16:46:52</td>\n",
       "      <td>2024-01-12 16:46:52</td>\n",
       "      <td>2024-01-12 16:46:52</td>\n",
       "      <td>expyal-11571</td>\n",
       "      <td>Oued Smar</td>\n",
       "      <td>Alger</td>\n",
       "      <td>oui</td>\n",
       "      <td>El Menia</td>\n",
       "      <td>Ghardaïa</td>\n",
       "      <td>Livré</td>\n",
       "    </tr>\n",
       "    <tr>\n",
       "      <th>1</th>\n",
       "      <td>yal-ABC089640</td>\n",
       "      <td>2024-01-04 18:55:07</td>\n",
       "      <td>2024-01-05 14:50:19</td>\n",
       "      <td>2024-01-05 14:50:19</td>\n",
       "      <td>2024-01-05 14:50:19</td>\n",
       "      <td>expyal-95</td>\n",
       "      <td>Oued Smar</td>\n",
       "      <td>Alger</td>\n",
       "      <td>non</td>\n",
       "      <td>Médéa</td>\n",
       "      <td>Médéa</td>\n",
       "      <td>Livré</td>\n",
       "    </tr>\n",
       "    <tr>\n",
       "      <th>2</th>\n",
       "      <td>yal-ABC004222</td>\n",
       "      <td>2024-01-02 16:47:55</td>\n",
       "      <td>2024-01-04 08:39:02</td>\n",
       "      <td>2024-01-05 09:47:54</td>\n",
       "      <td>2024-01-05 09:47:54</td>\n",
       "      <td>expyal-571</td>\n",
       "      <td>Taher</td>\n",
       "      <td>Jijel</td>\n",
       "      <td>oui</td>\n",
       "      <td>Tizi Ouzou</td>\n",
       "      <td>Tizi Ouzou</td>\n",
       "      <td>Livré</td>\n",
       "    </tr>\n",
       "    <tr>\n",
       "      <th>3</th>\n",
       "      <td>yal-ABC003797</td>\n",
       "      <td>2024-01-01 17:27:33</td>\n",
       "      <td>2024-01-02 10:10:15</td>\n",
       "      <td>2024-01-02 10:14:20</td>\n",
       "      <td>2024-01-02 10:14:20</td>\n",
       "      <td>expyal-13280</td>\n",
       "      <td>Cheraga</td>\n",
       "      <td>Alger</td>\n",
       "      <td>non</td>\n",
       "      <td>Tlemcen</td>\n",
       "      <td>Tlemcen</td>\n",
       "      <td>Livré</td>\n",
       "    </tr>\n",
       "    <tr>\n",
       "      <th>4</th>\n",
       "      <td>yal-ABC132873</td>\n",
       "      <td>2024-01-07 14:45:47</td>\n",
       "      <td>2024-01-08 10:49:38</td>\n",
       "      <td>2024-01-08 10:49:38</td>\n",
       "      <td>2024-01-08 10:49:38</td>\n",
       "      <td>expyal-1623</td>\n",
       "      <td>Khenchela</td>\n",
       "      <td>Khenchela</td>\n",
       "      <td>non</td>\n",
       "      <td>Bordj Bou Arreridj</td>\n",
       "      <td>Bordj Bou Arreridj</td>\n",
       "      <td>Livré</td>\n",
       "    </tr>\n",
       "  </tbody>\n",
       "</table>\n",
       "</div>"
      ],
      "text/plain": [
       "        Tracking      date expédition date première tentative  \\\n",
       "0  yal-ABC240400  2024-01-10 18:18:53     2024-01-12 16:46:52   \n",
       "1  yal-ABC089640  2024-01-04 18:55:07     2024-01-05 14:50:19   \n",
       "2  yal-ABC004222  2024-01-02 16:47:55     2024-01-04 08:39:02   \n",
       "3  yal-ABC003797  2024-01-01 17:27:33     2024-01-02 10:10:15   \n",
       "4  yal-ABC132873  2024-01-07 14:45:47     2024-01-08 10:49:38   \n",
       "\n",
       "  date livraison/échec  date dernier statut ID expediteur depart commune  \\\n",
       "0  2024-01-12 16:46:52  2024-01-12 16:46:52  expyal-11571      Oued Smar   \n",
       "1  2024-01-05 14:50:19  2024-01-05 14:50:19     expyal-95      Oued Smar   \n",
       "2  2024-01-05 09:47:54  2024-01-05 09:47:54    expyal-571          Taher   \n",
       "3  2024-01-02 10:14:20  2024-01-02 10:14:20  expyal-13280        Cheraga   \n",
       "4  2024-01-08 10:49:38  2024-01-08 10:49:38   expyal-1623      Khenchela   \n",
       "\n",
       "  depart wilaya stop desk? destination commune  destination wilaya  \\\n",
       "0         Alger        oui            El Menia            Ghardaïa   \n",
       "1         Alger        non               Médéa               Médéa   \n",
       "2         Jijel        oui          Tizi Ouzou          Tizi Ouzou   \n",
       "3         Alger        non             Tlemcen             Tlemcen   \n",
       "4     Khenchela        non  Bordj Bou Arreridj  Bordj Bou Arreridj   \n",
       "\n",
       "  dernier statut  \n",
       "0          Livré  \n",
       "1          Livré  \n",
       "2          Livré  \n",
       "3          Livré  \n",
       "4          Livré  "
      ]
     },
     "execution_count": 224,
     "metadata": {},
     "output_type": "execute_result"
    }
   ],
   "source": [
    "df_train.head()"
   ]
  },
  {
   "cell_type": "code",
   "execution_count": 7,
   "id": "53c34228-d9aa-43b8-83eb-a684d0d2de89",
   "metadata": {},
   "outputs": [
    {
     "data": {
      "text/html": [
       "<div>\n",
       "<style scoped>\n",
       "    .dataframe tbody tr th:only-of-type {\n",
       "        vertical-align: middle;\n",
       "    }\n",
       "\n",
       "    .dataframe tbody tr th {\n",
       "        vertical-align: top;\n",
       "    }\n",
       "\n",
       "    .dataframe thead th {\n",
       "        text-align: right;\n",
       "    }\n",
       "</style>\n",
       "<table border=\"1\" class=\"dataframe\">\n",
       "  <thead>\n",
       "    <tr style=\"text-align: right;\">\n",
       "      <th></th>\n",
       "      <th>Tracking</th>\n",
       "      <th>date expédition</th>\n",
       "      <th>date première tentative</th>\n",
       "      <th>date livraison/échec</th>\n",
       "      <th>date dernier statut</th>\n",
       "      <th>ID expediteur</th>\n",
       "      <th>depart commune</th>\n",
       "      <th>depart wilaya</th>\n",
       "      <th>stop desk?</th>\n",
       "      <th>destination commune</th>\n",
       "      <th>destination wilaya</th>\n",
       "      <th>dernier statut</th>\n",
       "    </tr>\n",
       "  </thead>\n",
       "  <tbody>\n",
       "    <tr>\n",
       "      <th>count</th>\n",
       "      <td>271481</td>\n",
       "      <td>271481</td>\n",
       "      <td>270360</td>\n",
       "      <td>270332</td>\n",
       "      <td>271481</td>\n",
       "      <td>271481</td>\n",
       "      <td>271481</td>\n",
       "      <td>271481</td>\n",
       "      <td>271481</td>\n",
       "      <td>271481</td>\n",
       "      <td>271481</td>\n",
       "      <td>271481</td>\n",
       "    </tr>\n",
       "    <tr>\n",
       "      <th>unique</th>\n",
       "      <td>271481</td>\n",
       "      <td>42188</td>\n",
       "      <td>153353</td>\n",
       "      <td>194983</td>\n",
       "      <td>184807</td>\n",
       "      <td>15512</td>\n",
       "      <td>116</td>\n",
       "      <td>48</td>\n",
       "      <td>2</td>\n",
       "      <td>1365</td>\n",
       "      <td>48</td>\n",
       "      <td>12</td>\n",
       "    </tr>\n",
       "    <tr>\n",
       "      <th>top</th>\n",
       "      <td>yal-ABC240400</td>\n",
       "      <td>2024-01-08 15:10:17</td>\n",
       "      <td>2024-01-12 00:03:28</td>\n",
       "      <td>2024-01-15 11:54:57</td>\n",
       "      <td>2024-01-20 17:34:41</td>\n",
       "      <td>expyal-17226</td>\n",
       "      <td>Oued Smar</td>\n",
       "      <td>Alger</td>\n",
       "      <td>oui</td>\n",
       "      <td>Constantine</td>\n",
       "      <td>Alger</td>\n",
       "      <td>Livré</td>\n",
       "    </tr>\n",
       "    <tr>\n",
       "      <th>freq</th>\n",
       "      <td>1</td>\n",
       "      <td>354</td>\n",
       "      <td>30</td>\n",
       "      <td>18</td>\n",
       "      <td>703</td>\n",
       "      <td>17384</td>\n",
       "      <td>58347</td>\n",
       "      <td>115959</td>\n",
       "      <td>144903</td>\n",
       "      <td>9204</td>\n",
       "      <td>31955</td>\n",
       "      <td>236293</td>\n",
       "    </tr>\n",
       "  </tbody>\n",
       "</table>\n",
       "</div>"
      ],
      "text/plain": [
       "             Tracking      date expédition date première tentative  \\\n",
       "count          271481               271481                  270360   \n",
       "unique         271481                42188                  153353   \n",
       "top     yal-ABC240400  2024-01-08 15:10:17     2024-01-12 00:03:28   \n",
       "freq                1                  354                      30   \n",
       "\n",
       "       date livraison/échec  date dernier statut ID expediteur depart commune  \\\n",
       "count                270332               271481        271481         271481   \n",
       "unique               194983               184807         15512            116   \n",
       "top     2024-01-15 11:54:57  2024-01-20 17:34:41  expyal-17226      Oued Smar   \n",
       "freq                     18                  703         17384          58347   \n",
       "\n",
       "       depart wilaya stop desk? destination commune destination wilaya  \\\n",
       "count         271481     271481              271481             271481   \n",
       "unique            48          2                1365                 48   \n",
       "top            Alger        oui         Constantine              Alger   \n",
       "freq          115959     144903                9204              31955   \n",
       "\n",
       "       dernier statut  \n",
       "count          271481  \n",
       "unique             12  \n",
       "top             Livré  \n",
       "freq           236293  "
      ]
     },
     "execution_count": 7,
     "metadata": {},
     "output_type": "execute_result"
    }
   ],
   "source": [
    "df_train.describe()"
   ]
  },
  {
   "cell_type": "code",
   "execution_count": 8,
   "id": "abeb9015-de87-44d5-acac-58f657bca1f9",
   "metadata": {},
   "outputs": [
    {
     "data": {
      "text/plain": [
       "Tracking                      0\n",
       "date expédition               0\n",
       "date première tentative    1121\n",
       "date livraison/échec       1149\n",
       "date dernier statut           0\n",
       "ID expediteur                 0\n",
       "depart commune                0\n",
       "depart wilaya                 0\n",
       "stop desk?                    0\n",
       "destination commune           0\n",
       "destination wilaya            0\n",
       "dernier statut                0\n",
       "dtype: int64"
      ]
     },
     "execution_count": 8,
     "metadata": {},
     "output_type": "execute_result"
    }
   ],
   "source": [
    "df_train.isna().sum()"
   ]
  },
  {
   "cell_type": "code",
   "execution_count": 13,
   "id": "e388abce-6a8c-44ab-abd4-ae9ed95c6a2e",
   "metadata": {},
   "outputs": [
    {
     "data": {
      "text/plain": [
       "dernier statut\n",
       "3     236293\n",
       "8      33854\n",
       "10       542\n",
       "6        295\n",
       "11       248\n",
       "4         63\n",
       "1         56\n",
       "0         51\n",
       "2         30\n",
       "9         29\n",
       "5         12\n",
       "7          8\n",
       "Name: count, dtype: int64"
      ]
     },
     "execution_count": 13,
     "metadata": {},
     "output_type": "execute_result"
    }
   ],
   "source": [
    "df_train['dernier statut'].value_counts()"
   ]
  },
  {
   "cell_type": "code",
   "execution_count": 12,
   "id": "8e5f8648-4d32-4f9c-b51b-afba83db35e5",
   "metadata": {},
   "outputs": [
    {
     "data": {
      "text/plain": [
       "'Livré'"
      ]
     },
     "execution_count": 12,
     "metadata": {},
     "output_type": "execute_result"
    }
   ],
   "source": [
    "df_train['dernier statut'][0]"
   ]
  },
  {
   "cell_type": "code",
   "execution_count": 15,
   "id": "e4f8e59c-53b6-4a2e-bcc5-bbee2f403bb7",
   "metadata": {},
   "outputs": [
    {
     "data": {
      "text/plain": [
       "Index(['ID expediteur', 'depart commune', 'depart wilaya', 'stop desk?',\n",
       "       'destination commune', 'destination wilaya', 'dernier statut'],\n",
       "      dtype='object')"
      ]
     },
     "execution_count": 15,
     "metadata": {},
     "output_type": "execute_result"
    }
   ],
   "source": [
    "df_train.columns[5:]"
   ]
  },
  {
   "cell_type": "code",
   "execution_count": 3,
   "id": "f4b2c519-bb01-4766-855f-9de2e173c54f",
   "metadata": {},
   "outputs": [],
   "source": [
    "def process(data):\n",
    "    columns = data.columns\n",
    "    date_columns = ['date expédition' ,'date première tentative' ,'date livraison/échec' ,'date dernier statut']\n",
    "    LE = LabelEncoder()\n",
    "    gg = []\n",
    "    for le_col in columns[5:]:\n",
    "      data[le_col] = LE.fit_transform(data[le_col])\n",
    "    for clm in date_columns:\n",
    "        data[clm] = pd.to_datetime(data[clm])\n",
    "        data['year'+str(clm)] = data[clm].dt.year\n",
    "        data['year'+str(clm)] = data['year'+str(clm)].astype(float)\n",
    "        data['month'+str(clm)] = data[clm].dt.month\n",
    "        data['day'+str(clm)] = data[clm].dt.day\n",
    "        data['weekday'+str(clm)] = data[clm].dt.weekday\n",
    "        data['weekofyear'+str(clm)] = data[clm].dt.isocalendar().week\n",
    "        data['hour'+str(clm)] = data[clm].dt.hour\n",
    "        data['day_hour'+str(clm)]  = data['day'+str(clm)].astype(str) + '-' + data['hour'+str(clm)].astype(str)\n",
    "        data['month_day'+str(clm)] = data['month'+str(clm)].astype(str) + '-' + data['day'+str(clm)].astype(str)\n",
    "        LE.fit_transform(data['day_hour'+str(clm)])\n",
    "        LE.fit_transform(data['month_day'+str(clm)])\n",
    "    LE = LabelEncoder()\n",
    "    data['day_hourdate expédition'] = LE.fit_transform(data['day_hourdate expédition'])\n",
    "    data['month_daydate expédition'] = LE.fit_transform(data['month_daydate expédition'])\n",
    "    data['day_hourdate première tentative'] = LE.fit_transform(data['day_hourdate première tentative'])\n",
    "    data['month_daydate première tentative'] = LE.fit_transform(data['month_daydate première tentative'])\n",
    "    data['day_hourdate livraison/échec'] = LE.fit_transform(data['day_hourdate livraison/échec'])\n",
    "    data['month_daydate livraison/échec'] = LE.fit_transform(data['month_daydate livraison/échec'])\n",
    "    data['day_hourdate dernier statut'] = LE.fit_transform(data['day_hourdate dernier statut'])\n",
    "    data['month_daydate dernier statut'] = LE.fit_transform(data['month_daydate dernier statut'])\n",
    "    return data\n",
    "trying = process(df_train)"
   ]
  },
  {
   "cell_type": "code",
   "execution_count": 6,
   "id": "aafb93fd-2eff-4c22-b182-893334795473",
   "metadata": {},
   "outputs": [],
   "source": [
    "train = trying.dropna()\n"
   ]
  },
  {
   "cell_type": "code",
   "execution_count": 7,
   "id": "d343820b-031d-4043-89fb-8d2941d974d5",
   "metadata": {},
   "outputs": [],
   "source": [
    "from sklearn.model_selection import GroupKFold\n",
    "from sklearn.metrics import accuracy_score\n",
    "\n",
    "from tqdm.notebook import tqdm\n",
    "from tqdm import tqdm_notebook\n",
    "from sklearn.model_selection import train_test_split"
   ]
  },
  {
   "cell_type": "code",
   "execution_count": 8,
   "id": "c36eba97-940c-4af3-b628-c968f32ba434",
   "metadata": {},
   "outputs": [],
   "source": [
    "X = train.drop(['Tracking','dernier statut','date livraison/échec','date dernier statut', 'date expédition', 'date première tentative'], axis=1)\n",
    "y = train['dernier statut']\n",
    "train_x, test_x ,train_y, test_y = train_test_split(X,y, random_state=28, test_size=0.3)"
   ]
  },
  {
   "cell_type": "markdown",
   "id": "a6338712-8cee-4a6d-a30d-7457d6511f8e",
   "metadata": {},
   "source": [
    "#### LGBM"
   ]
  },
  {
   "cell_type": "code",
   "execution_count": 10,
   "id": "5d5698e7-7538-4bc6-ac7c-69c0b3d4b132",
   "metadata": {},
   "outputs": [],
   "source": [
    "from lightgbm import LGBMClassifier\n",
    "\n",
    "model_lgbm = LGBMClassifier(device = 'gpu',objective='multiclass', n_estimators=2000, num_leaves=43, learning_rate=0.001,seed= 48)"
   ]
  },
  {
   "cell_type": "code",
   "execution_count": 11,
   "id": "46f7cc24-1018-4568-a96b-f646b6824c14",
   "metadata": {
    "scrolled": true
   },
   "outputs": [
    {
     "name": "stdout",
     "output_type": "stream",
     "text": [
      "[LightGBM] [Warning] Found whitespace in feature_names, replace with underlines\n",
      "[LightGBM] [Info] This is the GPU trainer!!\n",
      "[LightGBM] [Info] Total Bins 1872\n",
      "[LightGBM] [Info] Number of data points in the train set: 189232, number of used features: 30\n",
      "[LightGBM] [Info] Using GPU Device: NVIDIA GeForce RTX 2060, Vendor: NVIDIA Corporation\n",
      "[LightGBM] [Info] Compiling OpenCL Kernel with 256 bins...\n",
      "[LightGBM] [Info] GPU programs have been built\n",
      "[LightGBM] [Info] Size of histogram bin entry: 8\n",
      "[LightGBM] [Info] 30 dense feature groups (5.77 MB) transferred to GPU in 0.006551 secs. 0 sparse feature groups\n",
      "[LightGBM] [Info] Start training from score -9.154997\n",
      "[LightGBM] [Info] Start training from score -0.134148\n",
      "[LightGBM] [Info] Start training from score -8.322088\n",
      "[LightGBM] [Info] Start training from score -10.204819\n",
      "[LightGBM] [Info] Start training from score -6.837523\n",
      "[LightGBM] [Info] Start training from score -10.358970\n",
      "[LightGBM] [Info] Start training from score -2.087080\n"
     ]
    },
    {
     "ename": "KeyboardInterrupt",
     "evalue": "",
     "output_type": "error",
     "traceback": [
      "\u001b[0;31m---------------------------------------------------------------------------\u001b[0m",
      "\u001b[0;31mKeyboardInterrupt\u001b[0m                         Traceback (most recent call last)",
      "Cell \u001b[0;32mIn[11], line 1\u001b[0m\n\u001b[0;32m----> 1\u001b[0m \u001b[43mmodel_lgbm\u001b[49m\u001b[38;5;241;43m.\u001b[39;49m\u001b[43mfit\u001b[49m\u001b[43m(\u001b[49m\u001b[43mtrain_x\u001b[49m\u001b[43m,\u001b[49m\u001b[43m \u001b[49m\u001b[43mtrain_y\u001b[49m\u001b[43m)\u001b[49m\n",
      "File \u001b[0;32m/opt/anaconda3/envs/cse/lib/python3.12/site-packages/lightgbm/sklearn.py:1187\u001b[0m, in \u001b[0;36mLGBMClassifier.fit\u001b[0;34m(self, X, y, sample_weight, init_score, eval_set, eval_names, eval_sample_weight, eval_class_weight, eval_init_score, eval_metric, feature_name, categorical_feature, callbacks, init_model)\u001b[0m\n\u001b[1;32m   1184\u001b[0m         \u001b[38;5;28;01melse\u001b[39;00m:\n\u001b[1;32m   1185\u001b[0m             valid_sets\u001b[38;5;241m.\u001b[39mappend((valid_x, \u001b[38;5;28mself\u001b[39m\u001b[38;5;241m.\u001b[39m_le\u001b[38;5;241m.\u001b[39mtransform(valid_y)))\n\u001b[0;32m-> 1187\u001b[0m \u001b[38;5;28;43msuper\u001b[39;49m\u001b[43m(\u001b[49m\u001b[43m)\u001b[49m\u001b[38;5;241;43m.\u001b[39;49m\u001b[43mfit\u001b[49m\u001b[43m(\u001b[49m\n\u001b[1;32m   1188\u001b[0m \u001b[43m    \u001b[49m\u001b[43mX\u001b[49m\u001b[43m,\u001b[49m\n\u001b[1;32m   1189\u001b[0m \u001b[43m    \u001b[49m\u001b[43m_y\u001b[49m\u001b[43m,\u001b[49m\n\u001b[1;32m   1190\u001b[0m \u001b[43m    \u001b[49m\u001b[43msample_weight\u001b[49m\u001b[38;5;241;43m=\u001b[39;49m\u001b[43msample_weight\u001b[49m\u001b[43m,\u001b[49m\n\u001b[1;32m   1191\u001b[0m \u001b[43m    \u001b[49m\u001b[43minit_score\u001b[49m\u001b[38;5;241;43m=\u001b[39;49m\u001b[43minit_score\u001b[49m\u001b[43m,\u001b[49m\n\u001b[1;32m   1192\u001b[0m \u001b[43m    \u001b[49m\u001b[43meval_set\u001b[49m\u001b[38;5;241;43m=\u001b[39;49m\u001b[43mvalid_sets\u001b[49m\u001b[43m,\u001b[49m\n\u001b[1;32m   1193\u001b[0m \u001b[43m    \u001b[49m\u001b[43meval_names\u001b[49m\u001b[38;5;241;43m=\u001b[39;49m\u001b[43meval_names\u001b[49m\u001b[43m,\u001b[49m\n\u001b[1;32m   1194\u001b[0m \u001b[43m    \u001b[49m\u001b[43meval_sample_weight\u001b[49m\u001b[38;5;241;43m=\u001b[39;49m\u001b[43meval_sample_weight\u001b[49m\u001b[43m,\u001b[49m\n\u001b[1;32m   1195\u001b[0m \u001b[43m    \u001b[49m\u001b[43meval_class_weight\u001b[49m\u001b[38;5;241;43m=\u001b[39;49m\u001b[43meval_class_weight\u001b[49m\u001b[43m,\u001b[49m\n\u001b[1;32m   1196\u001b[0m \u001b[43m    \u001b[49m\u001b[43meval_init_score\u001b[49m\u001b[38;5;241;43m=\u001b[39;49m\u001b[43meval_init_score\u001b[49m\u001b[43m,\u001b[49m\n\u001b[1;32m   1197\u001b[0m \u001b[43m    \u001b[49m\u001b[43meval_metric\u001b[49m\u001b[38;5;241;43m=\u001b[39;49m\u001b[43meval_metric\u001b[49m\u001b[43m,\u001b[49m\n\u001b[1;32m   1198\u001b[0m \u001b[43m    \u001b[49m\u001b[43mfeature_name\u001b[49m\u001b[38;5;241;43m=\u001b[39;49m\u001b[43mfeature_name\u001b[49m\u001b[43m,\u001b[49m\n\u001b[1;32m   1199\u001b[0m \u001b[43m    \u001b[49m\u001b[43mcategorical_feature\u001b[49m\u001b[38;5;241;43m=\u001b[39;49m\u001b[43mcategorical_feature\u001b[49m\u001b[43m,\u001b[49m\n\u001b[1;32m   1200\u001b[0m \u001b[43m    \u001b[49m\u001b[43mcallbacks\u001b[49m\u001b[38;5;241;43m=\u001b[39;49m\u001b[43mcallbacks\u001b[49m\u001b[43m,\u001b[49m\n\u001b[1;32m   1201\u001b[0m \u001b[43m    \u001b[49m\u001b[43minit_model\u001b[49m\u001b[38;5;241;43m=\u001b[39;49m\u001b[43minit_model\u001b[49m\n\u001b[1;32m   1202\u001b[0m \u001b[43m\u001b[49m\u001b[43m)\u001b[49m\n\u001b[1;32m   1203\u001b[0m \u001b[38;5;28;01mreturn\u001b[39;00m \u001b[38;5;28mself\u001b[39m\n",
      "File \u001b[0;32m/opt/anaconda3/envs/cse/lib/python3.12/site-packages/lightgbm/sklearn.py:885\u001b[0m, in \u001b[0;36mLGBMModel.fit\u001b[0;34m(self, X, y, sample_weight, init_score, group, eval_set, eval_names, eval_sample_weight, eval_class_weight, eval_init_score, eval_group, eval_metric, feature_name, categorical_feature, callbacks, init_model)\u001b[0m\n\u001b[1;32m    882\u001b[0m evals_result: _EvalResultDict \u001b[38;5;241m=\u001b[39m {}\n\u001b[1;32m    883\u001b[0m callbacks\u001b[38;5;241m.\u001b[39mappend(record_evaluation(evals_result))\n\u001b[0;32m--> 885\u001b[0m \u001b[38;5;28mself\u001b[39m\u001b[38;5;241m.\u001b[39m_Booster \u001b[38;5;241m=\u001b[39m \u001b[43mtrain\u001b[49m\u001b[43m(\u001b[49m\n\u001b[1;32m    886\u001b[0m \u001b[43m    \u001b[49m\u001b[43mparams\u001b[49m\u001b[38;5;241;43m=\u001b[39;49m\u001b[43mparams\u001b[49m\u001b[43m,\u001b[49m\n\u001b[1;32m    887\u001b[0m \u001b[43m    \u001b[49m\u001b[43mtrain_set\u001b[49m\u001b[38;5;241;43m=\u001b[39;49m\u001b[43mtrain_set\u001b[49m\u001b[43m,\u001b[49m\n\u001b[1;32m    888\u001b[0m \u001b[43m    \u001b[49m\u001b[43mnum_boost_round\u001b[49m\u001b[38;5;241;43m=\u001b[39;49m\u001b[38;5;28;43mself\u001b[39;49m\u001b[38;5;241;43m.\u001b[39;49m\u001b[43mn_estimators\u001b[49m\u001b[43m,\u001b[49m\n\u001b[1;32m    889\u001b[0m \u001b[43m    \u001b[49m\u001b[43mvalid_sets\u001b[49m\u001b[38;5;241;43m=\u001b[39;49m\u001b[43mvalid_sets\u001b[49m\u001b[43m,\u001b[49m\n\u001b[1;32m    890\u001b[0m \u001b[43m    \u001b[49m\u001b[43mvalid_names\u001b[49m\u001b[38;5;241;43m=\u001b[39;49m\u001b[43meval_names\u001b[49m\u001b[43m,\u001b[49m\n\u001b[1;32m    891\u001b[0m \u001b[43m    \u001b[49m\u001b[43mfeval\u001b[49m\u001b[38;5;241;43m=\u001b[39;49m\u001b[43meval_metrics_callable\u001b[49m\u001b[43m,\u001b[49m\u001b[43m  \u001b[49m\u001b[38;5;66;43;03m# type: ignore[arg-type]\u001b[39;49;00m\n\u001b[1;32m    892\u001b[0m \u001b[43m    \u001b[49m\u001b[43minit_model\u001b[49m\u001b[38;5;241;43m=\u001b[39;49m\u001b[43minit_model\u001b[49m\u001b[43m,\u001b[49m\n\u001b[1;32m    893\u001b[0m \u001b[43m    \u001b[49m\u001b[43mfeature_name\u001b[49m\u001b[38;5;241;43m=\u001b[39;49m\u001b[43mfeature_name\u001b[49m\u001b[43m,\u001b[49m\n\u001b[1;32m    894\u001b[0m \u001b[43m    \u001b[49m\u001b[43mcallbacks\u001b[49m\u001b[38;5;241;43m=\u001b[39;49m\u001b[43mcallbacks\u001b[49m\n\u001b[1;32m    895\u001b[0m \u001b[43m\u001b[49m\u001b[43m)\u001b[49m\n\u001b[1;32m    897\u001b[0m \u001b[38;5;28mself\u001b[39m\u001b[38;5;241m.\u001b[39m_evals_result \u001b[38;5;241m=\u001b[39m evals_result\n\u001b[1;32m    898\u001b[0m \u001b[38;5;28mself\u001b[39m\u001b[38;5;241m.\u001b[39m_best_iteration \u001b[38;5;241m=\u001b[39m \u001b[38;5;28mself\u001b[39m\u001b[38;5;241m.\u001b[39m_Booster\u001b[38;5;241m.\u001b[39mbest_iteration\n",
      "File \u001b[0;32m/opt/anaconda3/envs/cse/lib/python3.12/site-packages/lightgbm/engine.py:276\u001b[0m, in \u001b[0;36mtrain\u001b[0;34m(params, train_set, num_boost_round, valid_sets, valid_names, feval, init_model, feature_name, categorical_feature, keep_training_booster, callbacks)\u001b[0m\n\u001b[1;32m    268\u001b[0m \u001b[38;5;28;01mfor\u001b[39;00m cb \u001b[38;5;129;01min\u001b[39;00m callbacks_before_iter:\n\u001b[1;32m    269\u001b[0m     cb(callback\u001b[38;5;241m.\u001b[39mCallbackEnv(model\u001b[38;5;241m=\u001b[39mbooster,\n\u001b[1;32m    270\u001b[0m                             params\u001b[38;5;241m=\u001b[39mparams,\n\u001b[1;32m    271\u001b[0m                             iteration\u001b[38;5;241m=\u001b[39mi,\n\u001b[1;32m    272\u001b[0m                             begin_iteration\u001b[38;5;241m=\u001b[39minit_iteration,\n\u001b[1;32m    273\u001b[0m                             end_iteration\u001b[38;5;241m=\u001b[39minit_iteration \u001b[38;5;241m+\u001b[39m num_boost_round,\n\u001b[1;32m    274\u001b[0m                             evaluation_result_list\u001b[38;5;241m=\u001b[39m\u001b[38;5;28;01mNone\u001b[39;00m))\n\u001b[0;32m--> 276\u001b[0m \u001b[43mbooster\u001b[49m\u001b[38;5;241;43m.\u001b[39;49m\u001b[43mupdate\u001b[49m\u001b[43m(\u001b[49m\u001b[43mfobj\u001b[49m\u001b[38;5;241;43m=\u001b[39;49m\u001b[43mfobj\u001b[49m\u001b[43m)\u001b[49m\n\u001b[1;32m    278\u001b[0m evaluation_result_list: List[_LGBM_BoosterEvalMethodResultType] \u001b[38;5;241m=\u001b[39m []\n\u001b[1;32m    279\u001b[0m \u001b[38;5;66;03m# check evaluation result.\u001b[39;00m\n",
      "File \u001b[0;32m/opt/anaconda3/envs/cse/lib/python3.12/site-packages/lightgbm/basic.py:3891\u001b[0m, in \u001b[0;36mBooster.update\u001b[0;34m(self, train_set, fobj)\u001b[0m\n\u001b[1;32m   3889\u001b[0m \u001b[38;5;28;01mif\u001b[39;00m \u001b[38;5;28mself\u001b[39m\u001b[38;5;241m.\u001b[39m__set_objective_to_none:\n\u001b[1;32m   3890\u001b[0m     \u001b[38;5;28;01mraise\u001b[39;00m LightGBMError(\u001b[38;5;124m'\u001b[39m\u001b[38;5;124mCannot update due to null objective function.\u001b[39m\u001b[38;5;124m'\u001b[39m)\n\u001b[0;32m-> 3891\u001b[0m _safe_call(\u001b[43m_LIB\u001b[49m\u001b[38;5;241;43m.\u001b[39;49m\u001b[43mLGBM_BoosterUpdateOneIter\u001b[49m\u001b[43m(\u001b[49m\n\u001b[1;32m   3892\u001b[0m \u001b[43m    \u001b[49m\u001b[38;5;28;43mself\u001b[39;49m\u001b[38;5;241;43m.\u001b[39;49m\u001b[43m_handle\u001b[49m\u001b[43m,\u001b[49m\n\u001b[1;32m   3893\u001b[0m \u001b[43m    \u001b[49m\u001b[43mctypes\u001b[49m\u001b[38;5;241;43m.\u001b[39;49m\u001b[43mbyref\u001b[49m\u001b[43m(\u001b[49m\u001b[43mis_finished\u001b[49m\u001b[43m)\u001b[49m\u001b[43m)\u001b[49m)\n\u001b[1;32m   3894\u001b[0m \u001b[38;5;28mself\u001b[39m\u001b[38;5;241m.\u001b[39m__is_predicted_cur_iter \u001b[38;5;241m=\u001b[39m [\u001b[38;5;28;01mFalse\u001b[39;00m \u001b[38;5;28;01mfor\u001b[39;00m _ \u001b[38;5;129;01min\u001b[39;00m \u001b[38;5;28mrange\u001b[39m(\u001b[38;5;28mself\u001b[39m\u001b[38;5;241m.\u001b[39m__num_dataset)]\n\u001b[1;32m   3895\u001b[0m \u001b[38;5;28;01mreturn\u001b[39;00m is_finished\u001b[38;5;241m.\u001b[39mvalue \u001b[38;5;241m==\u001b[39m \u001b[38;5;241m1\u001b[39m\n",
      "\u001b[0;31mKeyboardInterrupt\u001b[0m: "
     ]
    }
   ],
   "source": [
    "model_lgbm.fit(train_x, train_y)"
   ]
  },
  {
   "cell_type": "code",
   "execution_count": 57,
   "id": "5d87497a-7cf2-4f8d-8921-3c57f322d90f",
   "metadata": {},
   "outputs": [],
   "source": [
    "y_prob = model.predict(test_x)"
   ]
  },
  {
   "cell_type": "code",
   "execution_count": 58,
   "id": "2d985329-05a1-4a96-852c-57a29a31491b",
   "metadata": {},
   "outputs": [
    {
     "name": "stdout",
     "output_type": "stream",
     "text": [
      "Accuracy: 0.9975566333108232\n"
     ]
    }
   ],
   "source": [
    "accuracy = accuracy_score(test_y, y_prob)\n",
    "print('Accuracy:', accuracy)"
   ]
  },
  {
   "cell_type": "markdown",
   "id": "23b7c660-b439-4d4a-bff9-0d8753e05397",
   "metadata": {},
   "source": [
    "#### Ensemble Learning"
   ]
  },
  {
   "cell_type": "code",
   "execution_count": 19,
   "id": "cdb2eb59-601f-47bb-b072-bb9795ef54f1",
   "metadata": {},
   "outputs": [
    {
     "data": {
      "text/plain": [
       "24"
      ]
     },
     "execution_count": 19,
     "metadata": {},
     "output_type": "execute_result"
    }
   ],
   "source": []
  },
  {
   "cell_type": "code",
   "execution_count": 21,
   "id": "e3d96b43-6d26-48fc-8f32-502b1dc6759e",
   "metadata": {},
   "outputs": [
    {
     "data": {
      "text/plain": [
       "{0: 33791.5,\n",
       " 1: 1299.673076923077,\n",
       " 3: 0.14300798591567176,\n",
       " 4: 572.7372881355932,\n",
       " 5: 3379.15,\n",
       " 6: 114.93707482993197,\n",
       " 7: 4223.9375,\n",
       " 8: 1.0044139939957792}"
      ]
     },
     "execution_count": 21,
     "metadata": {},
     "output_type": "execute_result"
    }
   ],
   "source": [
    "from sklearn.utils.class_weight import compute_class_weight\n",
    "label_encoded_targets = train['dernier statut']\n",
    "label_encoded_targets\n",
    "\n",
    "\n",
    "unique_classes = np.unique(label_encoded_targets)\n",
    "unique_classes\n",
    "\n",
    "\n",
    "class_weights = compute_class_weight(class_weight=\"balanced\", classes=unique_classes, y=label_encoded_targets)\n",
    "class_weights\n",
    "\n",
    "\n",
    "\n",
    "class_weights_param = {key: value for key, value in zip(unique_classes, class_weights)}\n",
    "class_weights_param\n",
    "\n"
   ]
  },
  {
   "cell_type": "code",
   "execution_count": 24,
   "id": "6ba85974-eae5-4230-8bf9-b7239f08d845",
   "metadata": {},
   "outputs": [],
   "source": [
    "# Models\n",
    "from xgboost import XGBClassifier\n",
    "from lightgbm import LGBMClassifier, plot_importance\n",
    "from catboost import CatBoostClassifier\n",
    "lgbm_params: dict = {\n",
    "    \"class_weight\": class_weights_param, # Balanced class weight\n",
    "    \"objective\": \"multiclass\",          # Objective function for the model\n",
    "    \"metric\": \"multi_logloss\",          # Evaluation metric\n",
    "    \"verbosity\": -1,                    # Verbosity level (-1 for silent)\n",
    "    \"boosting_type\": \"gbdt\",            # Gradient boosting type\n",
    "    \"random_state\": 42,       # Random state for reproducibility\n",
    "    \"num_class\": 12,                     # Number of classes in the dataset\n",
    "    'n_estimators': 752,\n",
    "    'learning_rate': 0.005613916463106189,\n",
    "    'max_depth': 6,\n",
    "    'num_leaves': 252,\n",
    "    'subsample': 0.6045538705062335,\n",
    "    'colsample_bytree': 0.866501494211133,\n",
    "    'colsample_bynode': 0.5443098861233086,\n",
    "    'reg_alpha': 0.0024787490924597882,\n",
    "    'reg_lambda': 3.5334079815178954,\n",
    "    'min_split_gain': 0.05539710161546875,\n",
    "}\n",
    "\n",
    "\n",
    "xgb_params: dict = {\n",
    "    'class_weight': class_weights_param,\n",
    "    'objective':'multi:softmax',\n",
    "    'n_estimators': 829,\n",
    "    'learning_rate': 0.010260565670497695,\n",
    "    'gamma': 0.16282691057583543,\n",
    "    'reg_alpha': 0.010492176264956674,\n",
    "    'reg_lambda': 0.437536781187624,\n",
    "    'max_depth': 5,\n",
    "    'min_child_weight': 2,\n",
    "    'subsample': 0.6971737476610285,\n",
    "    'colsample_bytree': 0.5115061295805807,\n",
    "    'random_state': 345,\n",
    "}\n",
    "\n",
    "cat_params: dict = {\n",
    "    'class_weights': class_weights_param,\n",
    "    'learning_rate': 0.13762007048684638,\n",
    "    'depth': 5, \n",
    "    'l2_leaf_reg': 5.285199432056192,\n",
    "    'bagging_temperature': 0.6029582154263095,\n",
    "    'random_seed': 42,\n",
    "    'verbose': False,\n",
    "    'iterations':1000,\n",
    "}\n",
    "estimators = [\n",
    "    ('XGB', XGBClassifier(**xgb_params)),\n",
    "    ('LGBM', LGBMClassifier(**lgbm_params)),\n",
    "    ('CAT', CatBoostClassifier(**cat_params))\n",
    "]"
   ]
  },
  {
   "cell_type": "code",
   "execution_count": 35,
   "id": "329f78c3-f1e1-4585-a5c0-6313c77743f6",
   "metadata": {},
   "outputs": [
    {
     "name": "stderr",
     "output_type": "stream",
     "text": [
      "[I 2024-03-08 13:53:16,349] A new study created in memory with name: no-name-510c0c72-b458-4933-87d4-12788e4416ca\n",
      "[I 2024-03-08 13:53:41,096] Trial 0 finished with value: 0.9981689385392198 and parameters: {'learning_rate': 0.01749080237694725, 'n_estimators': 591, 'lambda_l1': 0.019639878836228104, 'lambda_l2': 0.04394633936788146, 'max_depth': 7, 'colsample_bytree': 0.3935967122017216, 'subsample': 0.5290418060840998, 'min_child_samples': 45}. Best is trial 0 with value: 0.9981689385392198.\n"
     ]
    },
    {
     "name": "stdout",
     "output_type": "stream",
     "text": [
      "SCORE: 0.9981689385392198\n"
     ]
    },
    {
     "name": "stderr",
     "output_type": "stream",
     "text": [
      "[I 2024-03-08 13:54:07,467] Trial 1 finished with value: 0.9983908853829507 and parameters: {'learning_rate': 0.022022300234864175, 'n_estimators': 542, 'lambda_l1': 0.005411689885916049, 'lambda_l2': 0.05879639408647977, 'max_depth': 13, 'colsample_bytree': 0.4274034664069657, 'subsample': 0.5909124836035503, 'min_child_samples': 17}. Best is trial 1 with value: 0.9983908853829507.\n"
     ]
    },
    {
     "name": "stdout",
     "output_type": "stream",
     "text": [
      "SCORE: 0.9983908853829507\n"
     ]
    },
    {
     "name": "stderr",
     "output_type": "stream",
     "text": [
      "[I 2024-03-08 13:54:26,586] Trial 2 finished with value: 0.9981134518282871 and parameters: {'learning_rate': 0.016084844859190754, 'n_estimators': 505, 'lambda_l1': 0.013638900372842315, 'lambda_l2': 0.03164916560792168, 'max_depth': 11, 'colsample_bytree': 0.3836963163912251, 'subsample': 0.6460723242676091, 'min_child_samples': 25}. Best is trial 1 with value: 0.9983908853829507.\n"
     ]
    },
    {
     "name": "stdout",
     "output_type": "stream",
     "text": [
      "SCORE: 0.9981134518282871\n"
     ]
    },
    {
     "name": "stderr",
     "output_type": "stream",
     "text": [
      "[I 2024-03-08 13:54:53,685] Trial 3 finished with value: 0.9983169031017072 and parameters: {'learning_rate': 0.019121399684340717, 'n_estimators': 557, 'lambda_l1': 0.008993475643167194, 'lambda_l2': 0.040569377536544465, 'max_depth': 11, 'colsample_bytree': 0.3278702476319986, 'subsample': 0.8037724259507192, 'min_child_samples': 16}. Best is trial 1 with value: 0.9983908853829507.\n"
     ]
    },
    {
     "name": "stdout",
     "output_type": "stream",
     "text": [
      "SCORE: 0.9983169031017072\n"
     ]
    },
    {
     "name": "stderr",
     "output_type": "stream",
     "text": [
      "[I 2024-03-08 13:55:21,477] Trial 4 finished with value: 0.9971331866018088 and parameters: {'learning_rate': 0.011301031859705591, 'n_estimators': 590, 'lambda_l1': 0.024312640661491188, 'lambda_l2': 0.05233589392465844, 'max_depth': 8, 'colsample_bytree': 0.35860326840383033, 'subsample': 0.8421165132560784, 'min_child_samples': 28}. Best is trial 1 with value: 0.9983908853829507.\n"
     ]
    },
    {
     "name": "stdout",
     "output_type": "stream",
     "text": [
      "SCORE: 0.9971331866018088\n"
     ]
    },
    {
     "name": "stderr",
     "output_type": "stream",
     "text": [
      "[I 2024-03-08 13:55:54,962] Trial 5 finished with value: 0.9976510625705144 and parameters: {'learning_rate': 0.012440764696895576, 'n_estimators': 499, 'lambda_l1': 0.005687770422304368, 'lambda_l2': 0.056372816083151284, 'max_depth': 8, 'colsample_bytree': 0.6975133706123893, 'subsample': 0.6558555380447055, 'min_child_samples': 31}. Best is trial 1 with value: 0.9983908853829507.\n"
     ]
    },
    {
     "name": "stdout",
     "output_type": "stream",
     "text": [
      "SCORE: 0.9976510625705144\n"
     ]
    },
    {
     "name": "stderr",
     "output_type": "stream",
     "text": [
      "[I 2024-03-08 13:56:28,649] Trial 6 finished with value: 0.9982984075313962 and parameters: {'learning_rate': 0.02093420558686559, 'n_estimators': 437, 'lambda_l1': 0.024391692555291174, 'lambda_l2': 0.051005312934444574, 'max_depth': 14, 'colsample_bytree': 0.8368964102565895, 'subsample': 0.7989499894055425, 'min_child_samples': 47}. Best is trial 1 with value: 0.9983908853829507.\n"
     ]
    },
    {
     "name": "stdout",
     "output_type": "stream",
     "text": [
      "SCORE: 0.9982984075313962\n"
     ]
    },
    {
     "name": "stderr",
     "output_type": "stream",
     "text": [
      "[I 2024-03-08 13:56:50,807] Trial 7 finished with value: 0.9964303549299942 and parameters: {'learning_rate': 0.01176985004103839, 'n_estimators': 439, 'lambda_l1': 0.005904545778210761, 'lambda_l2': 0.03301321323053057, 'max_depth': 9, 'colsample_bytree': 0.4628094190643376, 'subsample': 0.9143687545759647, 'min_child_samples': 24}. Best is trial 1 with value: 0.9983908853829507.\n"
     ]
    },
    {
     "name": "stdout",
     "output_type": "stream",
     "text": [
      "SCORE: 0.9964303549299942\n"
     ]
    },
    {
     "name": "stderr",
     "output_type": "stream",
     "text": [
      "[I 2024-03-08 13:57:23,596] Trial 8 finished with value: 0.9974106201564725 and parameters: {'learning_rate': 0.015618690193747614, 'n_estimators': 509, 'lambda_l1': 0.007818484499495253, 'lambda_l2': 0.05208787923016159, 'max_depth': 6, 'colsample_bytree': 0.8921321619603104, 'subsample': 0.8861223846483287, 'min_child_samples': 18}. Best is trial 1 with value: 0.9983908853829507.\n"
     ]
    },
    {
     "name": "stdout",
     "output_type": "stream",
     "text": [
      "SCORE: 0.9974106201564725\n"
     ]
    },
    {
     "name": "stderr",
     "output_type": "stream",
     "text": [
      "[I 2024-03-08 13:57:53,441] Trial 9 finished with value: 0.9968002663362124 and parameters: {'learning_rate': 0.010110442342472048, 'n_estimators': 563, 'lambda_l1': 0.01913714687695234, 'lambda_l2': 0.04916028672163949, 'max_depth': 12, 'colsample_bytree': 0.3444267910404542, 'subsample': 0.6792328642721364, 'min_child_samples': 14}. Best is trial 1 with value: 0.9983908853829507.\n"
     ]
    },
    {
     "name": "stdout",
     "output_type": "stream",
     "text": [
      "SCORE: 0.9968002663362124\n"
     ]
    },
    {
     "name": "stderr",
     "output_type": "stream",
     "text": [
      "[I 2024-03-08 13:58:17,129] Trial 10 finished with value: 0.9984833632345054 and parameters: {'learning_rate': 0.027809570887282156, 'n_estimators': 401, 'lambda_l1': 0.012374575454421947, 'lambda_l2': 0.020718475024592783, 'max_depth': 14, 'colsample_bytree': 0.553494638652166, 'subsample': 0.507797399829228, 'min_child_samples': 37}. Best is trial 10 with value: 0.9984833632345054.\n"
     ]
    },
    {
     "name": "stdout",
     "output_type": "stream",
     "text": [
      "SCORE: 0.9984833632345054\n"
     ]
    },
    {
     "name": "stderr",
     "output_type": "stream",
     "text": [
      "[I 2024-03-08 13:58:41,054] Trial 11 finished with value: 0.9985203543751272 and parameters: {'learning_rate': 0.027623407995381356, 'n_estimators': 401, 'lambda_l1': 0.011175119494226287, 'lambda_l2': 0.02068744601075835, 'max_depth': 14, 'colsample_bytree': 0.5510904379247652, 'subsample': 0.508527113234981, 'min_child_samples': 37}. Best is trial 11 with value: 0.9985203543751272.\n"
     ]
    },
    {
     "name": "stdout",
     "output_type": "stream",
     "text": [
      "SCORE: 0.9985203543751272\n"
     ]
    },
    {
     "name": "stderr",
     "output_type": "stream",
     "text": [
      "[I 2024-03-08 13:59:04,742] Trial 12 finished with value: 0.9984833632345054 and parameters: {'learning_rate': 0.028848201750384196, 'n_estimators': 401, 'lambda_l1': 0.011866808727424292, 'lambda_l2': 0.020145629812324442, 'max_depth': 14, 'colsample_bytree': 0.5741713713316181, 'subsample': 0.5172703249832117, 'min_child_samples': 38}. Best is trial 11 with value: 0.9985203543751272.\n"
     ]
    },
    {
     "name": "stdout",
     "output_type": "stream",
     "text": [
      "SCORE: 0.9984833632345054\n"
     ]
    },
    {
     "name": "stderr",
     "output_type": "stream",
     "text": [
      "[I 2024-03-08 13:59:22,551] Trial 13 finished with value: 0.9983908853829507 and parameters: {'learning_rate': 0.029433575974443064, 'n_estimators': 406, 'lambda_l1': 0.01073912916885018, 'lambda_l2': 0.020405698837496468, 'max_depth': 13, 'colsample_bytree': 0.5626622319198946, 'subsample': 0.9996812193207756, 'min_child_samples': 37}. Best is trial 11 with value: 0.9985203543751272.\n"
     ]
    },
    {
     "name": "stdout",
     "output_type": "stream",
     "text": [
      "SCORE: 0.9983908853829507\n"
     ]
    },
    {
     "name": "stderr",
     "output_type": "stream",
     "text": [
      "[I 2024-03-08 14:00:10,693] Trial 14 finished with value: 0.9984463720938835 and parameters: {'learning_rate': 0.024950592139250556, 'n_estimators': 448, 'lambda_l1': 0.016585966225492153, 'lambda_l2': 0.02638123593227387, 'max_depth': 14, 'colsample_bytree': 0.6677103610140314, 'subsample': 0.576172806413927, 'min_child_samples': 39}. Best is trial 11 with value: 0.9985203543751272.\n"
     ]
    },
    {
     "name": "stdout",
     "output_type": "stream",
     "text": [
      "SCORE: 0.9984463720938835\n"
     ]
    },
    {
     "name": "stderr",
     "output_type": "stream",
     "text": [
      "[I 2024-03-08 14:00:59,431] Trial 15 finished with value: 0.9984648676641944 and parameters: {'learning_rate': 0.025833151232518177, 'n_estimators': 458, 'lambda_l1': 0.01535180456282801, 'lambda_l2': 0.02754908909746108, 'max_depth': 12, 'colsample_bytree': 0.5309694611006726, 'subsample': 0.7121961481372385, 'min_child_samples': 32}. Best is trial 11 with value: 0.9985203543751272.\n"
     ]
    },
    {
     "name": "stdout",
     "output_type": "stream",
     "text": [
      "SCORE: 0.9984648676641944\n"
     ]
    },
    {
     "name": "stderr",
     "output_type": "stream",
     "text": [
      "[I 2024-03-08 14:01:58,935] Trial 16 finished with value: 0.9983908853829507 and parameters: {'learning_rate': 0.02619595973873074, 'n_estimators': 474, 'lambda_l1': 0.012448559097388146, 'lambda_l2': 0.025265196221908086, 'max_depth': 12, 'colsample_bytree': 0.6720370001776703, 'subsample': 0.5023700598265446, 'min_child_samples': 43}. Best is trial 11 with value: 0.9985203543751272.\n"
     ]
    },
    {
     "name": "stdout",
     "output_type": "stream",
     "text": [
      "SCORE: 0.9983908853829507\n"
     ]
    },
    {
     "name": "stderr",
     "output_type": "stream",
     "text": [
      "[I 2024-03-08 14:02:46,202] Trial 17 finished with value: 0.9982059296798417 and parameters: {'learning_rate': 0.02268938082239203, 'n_estimators': 420, 'lambda_l1': 0.009390834122649499, 'lambda_l2': 0.035424954836588515, 'max_depth': 10, 'colsample_bytree': 0.5023844976772417, 'subsample': 0.5872348997844864, 'min_child_samples': 35}. Best is trial 11 with value: 0.9985203543751272.\n"
     ]
    },
    {
     "name": "stdout",
     "output_type": "stream",
     "text": [
      "SCORE: 0.9982059296798417\n"
     ]
    },
    {
     "name": "stderr",
     "output_type": "stream",
     "text": [
      "[I 2024-03-08 14:03:33,420] Trial 18 finished with value: 0.9984463720938835 and parameters: {'learning_rate': 0.02761252394653517, 'n_estimators': 424, 'lambda_l1': 0.01743869387995995, 'lambda_l2': 0.024117437397500135, 'max_depth': 13, 'colsample_bytree': 0.7479299713319352, 'subsample': 0.5991832032068645, 'min_child_samples': 50}. Best is trial 11 with value: 0.9985203543751272.\n"
     ]
    },
    {
     "name": "stdout",
     "output_type": "stream",
     "text": [
      "SCORE: 0.9984463720938835\n"
     ]
    },
    {
     "name": "stderr",
     "output_type": "stream",
     "text": [
      "[I 2024-03-08 14:04:20,951] Trial 19 finished with value: 0.9984278765235726 and parameters: {'learning_rate': 0.024598056811411743, 'n_estimators': 475, 'lambda_l1': 0.013746390322152992, 'lambda_l2': 0.037309824447219656, 'max_depth': 10, 'colsample_bytree': 0.60087420925342, 'subsample': 0.5553617064887678, 'min_child_samples': 43}. Best is trial 11 with value: 0.9985203543751272.\n"
     ]
    },
    {
     "name": "stdout",
     "output_type": "stream",
     "text": [
      "SCORE: 0.9984278765235726\n"
     ]
    },
    {
     "name": "stderr",
     "output_type": "stream",
     "text": [
      "[I 2024-03-08 14:05:08,933] Trial 20 finished with value: 0.9984093809532617 and parameters: {'learning_rate': 0.027591989525579615, 'n_estimators': 400, 'lambda_l1': 0.021492644510439616, 'lambda_l2': 0.0300955391485638, 'max_depth': 14, 'colsample_bytree': 0.620391546768082, 'subsample': 0.7231610042250181, 'min_child_samples': 40}. Best is trial 11 with value: 0.9985203543751272.\n"
     ]
    },
    {
     "name": "stdout",
     "output_type": "stream",
     "text": [
      "SCORE: 0.9984093809532617\n"
     ]
    },
    {
     "name": "stderr",
     "output_type": "stream",
     "text": [
      "[I 2024-03-08 14:05:55,578] Trial 21 finished with value: 0.9984463720938835 and parameters: {'learning_rate': 0.029972385150700043, 'n_estimators': 421, 'lambda_l1': 0.011698791232925897, 'lambda_l2': 0.020100049021121245, 'max_depth': 14, 'colsample_bytree': 0.4875083627031566, 'subsample': 0.5075106058128436, 'min_child_samples': 35}. Best is trial 11 with value: 0.9985203543751272.\n"
     ]
    },
    {
     "name": "stdout",
     "output_type": "stream",
     "text": [
      "SCORE: 0.9984463720938835\n"
     ]
    },
    {
     "name": "stderr",
     "output_type": "stream",
     "text": [
      "[I 2024-03-08 14:06:43,160] Trial 22 finished with value: 0.9984463720938835 and parameters: {'learning_rate': 0.028133859311029116, 'n_estimators': 402, 'lambda_l1': 0.010827141213647796, 'lambda_l2': 0.023204081635783375, 'max_depth': 13, 'colsample_bytree': 0.5821676238468513, 'subsample': 0.6222013595906849, 'min_child_samples': 40}. Best is trial 11 with value: 0.9985203543751272.\n"
     ]
    },
    {
     "name": "stdout",
     "output_type": "stream",
     "text": [
      "SCORE: 0.9984463720938835\n"
     ]
    },
    {
     "name": "stderr",
     "output_type": "stream",
     "text": [
      "[I 2024-03-08 14:07:33,496] Trial 23 finished with value: 0.9983723898126399 and parameters: {'learning_rate': 0.023108713134407266, 'n_estimators': 426, 'lambda_l1': 0.013833135598582534, 'lambda_l2': 0.02021371671022813, 'max_depth': 14, 'colsample_bytree': 0.5451876835442384, 'subsample': 0.543981942047821, 'min_child_samples': 34}. Best is trial 11 with value: 0.9985203543751272.\n"
     ]
    },
    {
     "name": "stdout",
     "output_type": "stream",
     "text": [
      "SCORE: 0.9983723898126399\n"
     ]
    },
    {
     "name": "stderr",
     "output_type": "stream",
     "text": [
      "[I 2024-03-08 14:08:31,257] Trial 24 finished with value: 0.9984648676641944 and parameters: {'learning_rate': 0.0283625775923656, 'n_estimators': 464, 'lambda_l1': 0.007967518382229824, 'lambda_l2': 0.02833528819862537, 'max_depth': 13, 'colsample_bytree': 0.630163985980791, 'subsample': 0.5437399464674749, 'min_child_samples': 27}. Best is trial 11 with value: 0.9985203543751272.\n"
     ]
    },
    {
     "name": "stdout",
     "output_type": "stream",
     "text": [
      "SCORE: 0.9984648676641944\n"
     ]
    },
    {
     "name": "stderr",
     "output_type": "stream",
     "text": [
      "[I 2024-03-08 14:09:27,019] Trial 25 finished with value: 0.9984463720938835 and parameters: {'learning_rate': 0.026846841790446645, 'n_estimators': 412, 'lambda_l1': 0.015363316653824802, 'lambda_l2': 0.02246313298012781, 'max_depth': 12, 'colsample_bytree': 0.7506529505894477, 'subsample': 0.5114371860526317, 'min_child_samples': 10}. Best is trial 11 with value: 0.9985203543751272.\n"
     ]
    },
    {
     "name": "stdout",
     "output_type": "stream",
     "text": [
      "SCORE: 0.9984463720938835\n"
     ]
    },
    {
     "name": "stderr",
     "output_type": "stream",
     "text": [
      "[I 2024-03-08 14:10:21,651] Trial 26 finished with value: 0.998335398672018 and parameters: {'learning_rate': 0.024321162997473694, 'n_estimators': 438, 'lambda_l1': 0.01235291824939523, 'lambda_l2': 0.023938716886951723, 'max_depth': 11, 'colsample_bytree': 0.4578208847436492, 'subsample': 0.6245316691476506, 'min_child_samples': 38}. Best is trial 11 with value: 0.9985203543751272.\n"
     ]
    },
    {
     "name": "stdout",
     "output_type": "stream",
     "text": [
      "SCORE: 0.998335398672018\n"
     ]
    },
    {
     "name": "stderr",
     "output_type": "stream",
     "text": [
      "[I 2024-03-08 14:11:06,414] Trial 27 finished with value: 0.9984093809532617 and parameters: {'learning_rate': 0.029455332953034322, 'n_estimators': 413, 'lambda_l1': 0.009878094711226615, 'lambda_l2': 0.029474502075907877, 'max_depth': 14, 'colsample_bytree': 0.5246880153019834, 'subsample': 0.5578893385437155, 'min_child_samples': 43}. Best is trial 11 with value: 0.9985203543751272.\n"
     ]
    },
    {
     "name": "stdout",
     "output_type": "stream",
     "text": [
      "SCORE: 0.9984093809532617\n"
     ]
    },
    {
     "name": "stderr",
     "output_type": "stream",
     "text": [
      "[I 2024-03-08 14:12:09,162] Trial 28 finished with value: 0.9984648676641944 and parameters: {'learning_rate': 0.02644527453846042, 'n_estimators': 486, 'lambda_l1': 0.007416414887096007, 'lambda_l2': 0.03366195675267278, 'max_depth': 13, 'colsample_bytree': 0.7322182368685166, 'subsample': 0.5012500695367731, 'min_child_samples': 32}. Best is trial 11 with value: 0.9985203543751272.\n"
     ]
    },
    {
     "name": "stdout",
     "output_type": "stream",
     "text": [
      "SCORE: 0.9984648676641944\n"
     ]
    },
    {
     "name": "stderr",
     "output_type": "stream",
     "text": [
      "[I 2024-03-08 14:12:48,969] Trial 29 finished with value: 0.998131947398598 and parameters: {'learning_rate': 0.019000064357062453, 'n_estimators': 450, 'lambda_l1': 0.011229782091333544, 'lambda_l2': 0.0452616093741756, 'max_depth': 12, 'colsample_bytree': 0.41553556817206694, 'subsample': 0.5329215046759682, 'min_child_samples': 22}. Best is trial 11 with value: 0.9985203543751272.\n"
     ]
    },
    {
     "name": "stdout",
     "output_type": "stream",
     "text": [
      "SCORE: 0.998131947398598\n"
     ]
    },
    {
     "name": "stderr",
     "output_type": "stream",
     "text": [
      "[I 2024-03-08 14:13:33,923] Trial 30 finished with value: 0.9982984075313962 and parameters: {'learning_rate': 0.029014067414536167, 'n_estimators': 522, 'lambda_l1': 0.017218156632063462, 'lambda_l2': 0.0381886393491789, 'max_depth': 6, 'colsample_bytree': 0.6278149704314839, 'subsample': 0.6145773566887291, 'min_child_samples': 48}. Best is trial 11 with value: 0.9985203543751272.\n"
     ]
    },
    {
     "name": "stdout",
     "output_type": "stream",
     "text": [
      "SCORE: 0.9982984075313962\n"
     ]
    },
    {
     "name": "stderr",
     "output_type": "stream",
     "text": [
      "[I 2024-03-08 14:14:07,939] Trial 31 finished with value: 0.9984278765235726 and parameters: {'learning_rate': 0.025840144497510042, 'n_estimators': 457, 'lambda_l1': 0.014569244050423182, 'lambda_l2': 0.02712883591457318, 'max_depth': 14, 'colsample_bytree': 0.5288853856556394, 'subsample': 0.7086762470476454, 'min_child_samples': 32}. Best is trial 11 with value: 0.9985203543751272.\n"
     ]
    },
    {
     "name": "stdout",
     "output_type": "stream",
     "text": [
      "SCORE: 0.9984278765235726\n"
     ]
    },
    {
     "name": "stderr",
     "output_type": "stream",
     "text": [
      "[I 2024-03-08 14:14:50,631] Trial 32 finished with value: 0.9983723898126399 and parameters: {'learning_rate': 0.023993770456242066, 'n_estimators': 432, 'lambda_l1': 0.012945584728342131, 'lambda_l2': 0.022455100205621997, 'max_depth': 12, 'colsample_bytree': 0.5581555026365891, 'subsample': 0.7561503322356837, 'min_child_samples': 29}. Best is trial 11 with value: 0.9985203543751272.\n"
     ]
    },
    {
     "name": "stdout",
     "output_type": "stream",
     "text": [
      "SCORE: 0.9983723898126399\n"
     ]
    },
    {
     "name": "stderr",
     "output_type": "stream",
     "text": [
      "[I 2024-03-08 14:15:23,363] Trial 33 finished with value: 0.9984093809532617 and parameters: {'learning_rate': 0.027300615443540236, 'n_estimators': 402, 'lambda_l1': 0.015374399142784842, 'lambda_l2': 0.026415109758480562, 'max_depth': 13, 'colsample_bytree': 0.4473721701317293, 'subsample': 0.5732976481938037, 'min_child_samples': 36}. Best is trial 11 with value: 0.9985203543751272.\n"
     ]
    },
    {
     "name": "stdout",
     "output_type": "stream",
     "text": [
      "SCORE: 0.9984093809532617\n"
     ]
    },
    {
     "name": "stderr",
     "output_type": "stream",
     "text": [
      "[I 2024-03-08 14:16:03,505] Trial 34 finished with value: 0.998335398672018 and parameters: {'learning_rate': 0.02549367533641605, 'n_estimators': 411, 'lambda_l1': 0.01869382817014413, 'lambda_l2': 0.021998145051178856, 'max_depth': 11, 'colsample_bytree': 0.48590128468068117, 'subsample': 0.6659354068434531, 'min_child_samples': 33}. Best is trial 11 with value: 0.9985203543751272.\n"
     ]
    },
    {
     "name": "stdout",
     "output_type": "stream",
     "text": [
      "SCORE: 0.998335398672018\n"
     ]
    },
    {
     "name": "stderr",
     "output_type": "stream",
     "text": [
      "[I 2024-03-08 14:16:46,681] Trial 35 finished with value: 0.998335398672018 and parameters: {'learning_rate': 0.021340260587746074, 'n_estimators': 446, 'lambda_l1': 0.015884413025282568, 'lambda_l2': 0.024956334415924313, 'max_depth': 13, 'colsample_bytree': 0.5882185365710071, 'subsample': 0.534722982846999, 'min_child_samples': 41}. Best is trial 11 with value: 0.9985203543751272.\n"
     ]
    },
    {
     "name": "stdout",
     "output_type": "stream",
     "text": [
      "SCORE: 0.998335398672018\n"
     ]
    },
    {
     "name": "stderr",
     "output_type": "stream",
     "text": [
      "[I 2024-03-08 14:17:20,394] Trial 36 finished with value: 0.9984648676641944 and parameters: {'learning_rate': 0.02857934758262865, 'n_estimators': 531, 'lambda_l1': 0.014339885087359512, 'lambda_l2': 0.03080498178879253, 'max_depth': 11, 'colsample_bytree': 0.3848684113943671, 'subsample': 0.7807385402936448, 'min_child_samples': 30}. Best is trial 11 with value: 0.9985203543751272.\n"
     ]
    },
    {
     "name": "stdout",
     "output_type": "stream",
     "text": [
      "SCORE: 0.9984648676641944\n"
     ]
    },
    {
     "name": "stderr",
     "output_type": "stream",
     "text": [
      "[I 2024-03-08 14:17:43,154] Trial 37 finished with value: 0.998335398672018 and parameters: {'learning_rate': 0.015914794735338866, 'n_estimators': 599, 'lambda_l1': 0.009832245593827725, 'lambda_l2': 0.042909732484604966, 'max_depth': 14, 'colsample_bytree': 0.512174698465452, 'subsample': 0.7033098415240533, 'min_child_samples': 45}. Best is trial 11 with value: 0.9985203543751272.\n"
     ]
    },
    {
     "name": "stdout",
     "output_type": "stream",
     "text": [
      "SCORE: 0.998335398672018\n"
     ]
    },
    {
     "name": "stderr",
     "output_type": "stream",
     "text": [
      "[I 2024-03-08 14:17:56,327] Trial 38 finished with value: 0.997946991695489 and parameters: {'learning_rate': 0.02349119327470026, 'n_estimators': 418, 'lambda_l1': 0.01296445321377571, 'lambda_l2': 0.028241844713967658, 'max_depth': 9, 'colsample_bytree': 0.30160077676636876, 'subsample': 0.6405945324376945, 'min_child_samples': 37}. Best is trial 11 with value: 0.9985203543751272.\n"
     ]
    },
    {
     "name": "stdout",
     "output_type": "stream",
     "text": [
      "SCORE: 0.997946991695489\n"
     ]
    },
    {
     "name": "stderr",
     "output_type": "stream",
     "text": [
      "[I 2024-03-08 14:18:17,391] Trial 39 finished with value: 0.9984093809532617 and parameters: {'learning_rate': 0.02662957220074766, 'n_estimators': 490, 'lambda_l1': 0.022772387135253258, 'lambda_l2': 0.021322247671838112, 'max_depth': 12, 'colsample_bytree': 0.6694427848322982, 'subsample': 0.9495881374072886, 'min_child_samples': 25}. Best is trial 11 with value: 0.9985203543751272.\n"
     ]
    },
    {
     "name": "stdout",
     "output_type": "stream",
     "text": [
      "SCORE: 0.9984093809532617\n"
     ]
    },
    {
     "name": "stderr",
     "output_type": "stream",
     "text": [
      "[I 2024-03-08 14:18:35,476] Trial 40 finished with value: 0.998335398672018 and parameters: {'learning_rate': 0.02205620454142156, 'n_estimators': 432, 'lambda_l1': 0.011624530479052054, 'lambda_l2': 0.03275592887035276, 'max_depth': 13, 'colsample_bytree': 0.5682208713747576, 'subsample': 0.8237963203856946, 'min_child_samples': 27}. Best is trial 11 with value: 0.9985203543751272.\n"
     ]
    },
    {
     "name": "stdout",
     "output_type": "stream",
     "text": [
      "SCORE: 0.998335398672018\n"
     ]
    },
    {
     "name": "stderr",
     "output_type": "stream",
     "text": [
      "[I 2024-03-08 14:18:54,997] Trial 41 finished with value: 0.9983723898126399 and parameters: {'learning_rate': 0.028322589705000994, 'n_estimators': 463, 'lambda_l1': 0.00805021988510225, 'lambda_l2': 0.028614287280516272, 'max_depth': 13, 'colsample_bytree': 0.6145738109670561, 'subsample': 0.5266269087520427, 'min_child_samples': 27}. Best is trial 11 with value: 0.9985203543751272.\n"
     ]
    },
    {
     "name": "stdout",
     "output_type": "stream",
     "text": [
      "SCORE: 0.9983723898126399\n"
     ]
    },
    {
     "name": "stderr",
     "output_type": "stream",
     "text": [
      "[I 2024-03-08 14:19:15,589] Trial 42 finished with value: 0.9978915049845561 and parameters: {'learning_rate': 0.014178422847312085, 'n_estimators': 472, 'lambda_l1': 0.006553792733423705, 'lambda_l2': 0.02485082129595783, 'max_depth': 14, 'colsample_bytree': 0.6401281922362176, 'subsample': 0.5676960168556225, 'min_child_samples': 23}. Best is trial 11 with value: 0.9985203543751272.\n"
     ]
    },
    {
     "name": "stdout",
     "output_type": "stream",
     "text": [
      "SCORE: 0.9978915049845561\n"
     ]
    },
    {
     "name": "stderr",
     "output_type": "stream",
     "text": [
      "[I 2024-03-08 14:19:38,229] Trial 43 finished with value: 0.9984833632345054 and parameters: {'learning_rate': 0.028614101312533308, 'n_estimators': 505, 'lambda_l1': 0.005121614472599448, 'lambda_l2': 0.027408385779642313, 'max_depth': 13, 'colsample_bytree': 0.696606408817346, 'subsample': 0.5340645440305338, 'min_child_samples': 31}. Best is trial 11 with value: 0.9985203543751272.\n"
     ]
    },
    {
     "name": "stdout",
     "output_type": "stream",
     "text": [
      "SCORE: 0.9984833632345054\n"
     ]
    },
    {
     "name": "stderr",
     "output_type": "stream",
     "text": [
      "[I 2024-03-08 14:20:02,573] Trial 44 finished with value: 0.9984833632345054 and parameters: {'learning_rate': 0.029948920240449733, 'n_estimators': 520, 'lambda_l1': 0.01029307847190066, 'lambda_l2': 0.02257356312748462, 'max_depth': 14, 'colsample_bytree': 0.705082610472599, 'subsample': 0.8628722558295464, 'min_child_samples': 31}. Best is trial 11 with value: 0.9985203543751272.\n"
     ]
    },
    {
     "name": "stdout",
     "output_type": "stream",
     "text": [
      "SCORE: 0.9984833632345054\n"
     ]
    },
    {
     "name": "stderr",
     "output_type": "stream",
     "text": [
      "[I 2024-03-08 14:20:27,248] Trial 45 finished with value: 0.9984648676641944 and parameters: {'learning_rate': 0.029895959661642255, 'n_estimators': 550, 'lambda_l1': 0.005196635150730731, 'lambda_l2': 0.021801199887125595, 'max_depth': 14, 'colsample_bytree': 0.715961216135979, 'subsample': 0.8423820715656437, 'min_child_samples': 30}. Best is trial 11 with value: 0.9985203543751272.\n"
     ]
    },
    {
     "name": "stdout",
     "output_type": "stream",
     "text": [
      "SCORE: 0.9984648676641944\n"
     ]
    },
    {
     "name": "stderr",
     "output_type": "stream",
     "text": [
      "[I 2024-03-08 14:20:52,779] Trial 46 finished with value: 0.9984278765235726 and parameters: {'learning_rate': 0.02911992641460256, 'n_estimators': 512, 'lambda_l1': 0.008803913934554385, 'lambda_l2': 0.05643309908483701, 'max_depth': 14, 'colsample_bytree': 0.7835173939417831, 'subsample': 0.8821723269746181, 'min_child_samples': 38}. Best is trial 11 with value: 0.9985203543751272.\n"
     ]
    },
    {
     "name": "stdout",
     "output_type": "stream",
     "text": [
      "SCORE: 0.9984278765235726\n"
     ]
    },
    {
     "name": "stderr",
     "output_type": "stream",
     "text": [
      "[I 2024-03-08 14:21:16,232] Trial 47 finished with value: 0.9984278765235726 and parameters: {'learning_rate': 0.027628329569506234, 'n_estimators': 534, 'lambda_l1': 0.010389537696397567, 'lambda_l2': 0.02567025526073813, 'max_depth': 7, 'colsample_bytree': 0.8130159737074462, 'subsample': 0.5957202956591533, 'min_child_samples': 34}. Best is trial 11 with value: 0.9985203543751272.\n"
     ]
    },
    {
     "name": "stdout",
     "output_type": "stream",
     "text": [
      "SCORE: 0.9984278765235726\n"
     ]
    },
    {
     "name": "stderr",
     "output_type": "stream",
     "text": [
      "[I 2024-03-08 14:21:42,465] Trial 48 finished with value: 0.9984833632345054 and parameters: {'learning_rate': 0.019860799371634687, 'n_estimators': 573, 'lambda_l1': 0.006681249927677508, 'lambda_l2': 0.02372657481181239, 'max_depth': 14, 'colsample_bytree': 0.686698718782508, 'subsample': 0.5260643121390102, 'min_child_samples': 21}. Best is trial 11 with value: 0.9985203543751272.\n"
     ]
    },
    {
     "name": "stdout",
     "output_type": "stream",
     "text": [
      "SCORE: 0.9984833632345054\n"
     ]
    },
    {
     "name": "stderr",
     "output_type": "stream",
     "text": [
      "[I 2024-03-08 14:22:05,941] Trial 49 finished with value: 0.9984463720938835 and parameters: {'learning_rate': 0.02502653430501886, 'n_estimators': 499, 'lambda_l1': 0.009051851831159377, 'lambda_l2': 0.020496547161774143, 'max_depth': 13, 'colsample_bytree': 0.8960893213289616, 'subsample': 0.9965923088405606, 'min_child_samples': 41}. Best is trial 11 with value: 0.9985203543751272.\n"
     ]
    },
    {
     "name": "stdout",
     "output_type": "stream",
     "text": [
      "SCORE: 0.9984463720938835\n"
     ]
    },
    {
     "name": "stderr",
     "output_type": "stream",
     "text": [
      "[I 2024-03-08 14:22:29,211] Trial 50 finished with value: 0.9983723898126399 and parameters: {'learning_rate': 0.02903774028795873, 'n_estimators': 516, 'lambda_l1': 0.012388878165208641, 'lambda_l2': 0.023046232645647136, 'max_depth': 14, 'colsample_bytree': 0.6535179634666379, 'subsample': 0.5194496594026144, 'min_child_samples': 35}. Best is trial 11 with value: 0.9985203543751272.\n"
     ]
    },
    {
     "name": "stdout",
     "output_type": "stream",
     "text": [
      "SCORE: 0.9983723898126399\n"
     ]
    },
    {
     "name": "stderr",
     "output_type": "stream",
     "text": [
      "[I 2024-03-08 14:22:55,661] Trial 51 finished with value: 0.9984278765235726 and parameters: {'learning_rate': 0.01817870416582423, 'n_estimators': 574, 'lambda_l1': 0.006639907526078853, 'lambda_l2': 0.024441515536246974, 'max_depth': 14, 'colsample_bytree': 0.6927312028122685, 'subsample': 0.5532196483219572, 'min_child_samples': 20}. Best is trial 11 with value: 0.9985203543751272.\n"
     ]
    },
    {
     "name": "stdout",
     "output_type": "stream",
     "text": [
      "SCORE: 0.9984278765235726\n"
     ]
    },
    {
     "name": "stderr",
     "output_type": "stream",
     "text": [
      "[I 2024-03-08 14:23:22,342] Trial 52 finished with value: 0.9984093809532617 and parameters: {'learning_rate': 0.020198879236551143, 'n_estimators': 577, 'lambda_l1': 0.006124759274305054, 'lambda_l2': 0.02315674404480208, 'max_depth': 14, 'colsample_bytree': 0.688233296040532, 'subsample': 0.5236745188372811, 'min_child_samples': 18}. Best is trial 11 with value: 0.9985203543751272.\n"
     ]
    },
    {
     "name": "stdout",
     "output_type": "stream",
     "text": [
      "SCORE: 0.9984093809532617\n"
     ]
    },
    {
     "name": "stderr",
     "output_type": "stream",
     "text": [
      "[I 2024-03-08 14:23:48,454] Trial 53 finished with value: 0.9984648676641944 and parameters: {'learning_rate': 0.01996537391855818, 'n_estimators': 550, 'lambda_l1': 0.005099266147105636, 'lambda_l2': 0.026235363404164186, 'max_depth': 13, 'colsample_bytree': 0.7852293465140799, 'subsample': 0.5860092907649334, 'min_child_samples': 31}. Best is trial 11 with value: 0.9985203543751272.\n"
     ]
    },
    {
     "name": "stdout",
     "output_type": "stream",
     "text": [
      "SCORE: 0.9984648676641944\n"
     ]
    },
    {
     "name": "stderr",
     "output_type": "stream",
     "text": [
      "[I 2024-03-08 14:24:11,295] Trial 54 finished with value: 0.9981874341095308 and parameters: {'learning_rate': 0.017404270829742535, 'n_estimators': 490, 'lambda_l1': 0.007193344343856918, 'lambda_l2': 0.02121298292640776, 'max_depth': 14, 'colsample_bytree': 0.7054255836309129, 'subsample': 0.5026602994015021, 'min_child_samples': 16}. Best is trial 11 with value: 0.9985203543751272.\n"
     ]
    },
    {
     "name": "stdout",
     "output_type": "stream",
     "text": [
      "SCORE: 0.9981874341095308\n"
     ]
    },
    {
     "name": "stderr",
     "output_type": "stream",
     "text": [
      "[I 2024-03-08 14:24:33,350] Trial 55 finished with value: 0.9984278765235726 and parameters: {'learning_rate': 0.027464939687844386, 'n_estimators': 503, 'lambda_l1': 0.008376193159956797, 'lambda_l2': 0.02013399525684461, 'max_depth': 14, 'colsample_bytree': 0.5805959014890838, 'subsample': 0.5409972713735758, 'min_child_samples': 13}. Best is trial 11 with value: 0.9985203543751272.\n"
     ]
    },
    {
     "name": "stdout",
     "output_type": "stream",
     "text": [
      "SCORE: 0.9984278765235726\n"
     ]
    },
    {
     "name": "stderr",
     "output_type": "stream",
     "text": [
      "[I 2024-03-08 14:24:58,001] Trial 56 finished with value: 0.9983908853829507 and parameters: {'learning_rate': 0.02833689053402473, 'n_estimators': 563, 'lambda_l1': 0.010321080620163967, 'lambda_l2': 0.02340966703757489, 'max_depth': 13, 'colsample_bytree': 0.604319024497874, 'subsample': 0.8777201906896405, 'min_child_samples': 37}. Best is trial 11 with value: 0.9985203543751272.\n"
     ]
    },
    {
     "name": "stdout",
     "output_type": "stream",
     "text": [
      "SCORE: 0.9983908853829507\n"
     ]
    },
    {
     "name": "stderr",
     "output_type": "stream",
     "text": [
      "[I 2024-03-08 14:25:23,454] Trial 57 finished with value: 0.9982984075313962 and parameters: {'learning_rate': 0.01716484873261162, 'n_estimators': 531, 'lambda_l1': 0.011744850303764761, 'lambda_l2': 0.021787023936300425, 'max_depth': 14, 'colsample_bytree': 0.8580314346978348, 'subsample': 0.564817271357774, 'min_child_samples': 28}. Best is trial 11 with value: 0.9985203543751272.\n"
     ]
    },
    {
     "name": "stdout",
     "output_type": "stream",
     "text": [
      "SCORE: 0.9982984075313962\n"
     ]
    },
    {
     "name": "stderr",
     "output_type": "stream",
     "text": [
      "[I 2024-03-08 14:25:48,428] Trial 58 finished with value: 0.998353894242329 and parameters: {'learning_rate': 0.02718850964811779, 'n_estimators': 520, 'lambda_l1': 0.005894538569823819, 'lambda_l2': 0.02457220484053554, 'max_depth': 14, 'colsample_bytree': 0.7657664575561999, 'subsample': 0.5211131655813916, 'min_child_samples': 39}. Best is trial 11 with value: 0.9985203543751272.\n"
     ]
    },
    {
     "name": "stdout",
     "output_type": "stream",
     "text": [
      "SCORE: 0.998353894242329\n"
     ]
    },
    {
     "name": "stderr",
     "output_type": "stream",
     "text": [
      "[I 2024-03-08 14:26:06,959] Trial 59 finished with value: 0.9984093809532617 and parameters: {'learning_rate': 0.02994350398256869, 'n_estimators': 410, 'lambda_l1': 0.013036901653606037, 'lambda_l2': 0.026171024140006834, 'max_depth': 9, 'colsample_bytree': 0.6508191424517196, 'subsample': 0.9418513507125934, 'min_child_samples': 33}. Best is trial 11 with value: 0.9985203543751272.\n"
     ]
    },
    {
     "name": "stdout",
     "output_type": "stream",
     "text": [
      "SCORE: 0.9984093809532617\n"
     ]
    },
    {
     "name": "stderr",
     "output_type": "stream",
     "text": [
      "[I 2024-03-08 14:26:33,800] Trial 60 finished with value: 0.998150442968909 and parameters: {'learning_rate': 0.013885206450799216, 'n_estimators': 584, 'lambda_l1': 0.00957298690608573, 'lambda_l2': 0.04859481631109534, 'max_depth': 13, 'colsample_bytree': 0.6783800795243383, 'subsample': 0.60531659240566, 'min_child_samples': 21}. Best is trial 11 with value: 0.9985203543751272.\n"
     ]
    },
    {
     "name": "stdout",
     "output_type": "stream",
     "text": [
      "SCORE: 0.998150442968909\n"
     ]
    },
    {
     "name": "stderr",
     "output_type": "stream",
     "text": [
      "[I 2024-03-08 14:26:50,687] Trial 61 finished with value: 0.998335398672018 and parameters: {'learning_rate': 0.02616222693846125, 'n_estimators': 400, 'lambda_l1': 0.016519626673546513, 'lambda_l2': 0.027552645768752465, 'max_depth': 12, 'colsample_bytree': 0.5361438344962121, 'subsample': 0.7368912938103052, 'min_child_samples': 36}. Best is trial 11 with value: 0.9985203543751272.\n"
     ]
    },
    {
     "name": "stdout",
     "output_type": "stream",
     "text": [
      "SCORE: 0.998335398672018\n"
     ]
    },
    {
     "name": "stderr",
     "output_type": "stream",
     "text": [
      "[I 2024-03-08 14:27:10,375] Trial 62 finished with value: 0.9984648676641944 and parameters: {'learning_rate': 0.0288214203663227, 'n_estimators': 480, 'lambda_l1': 0.013816081660605717, 'lambda_l2': 0.030917143338763876, 'max_depth': 14, 'colsample_bytree': 0.5035927862405182, 'subsample': 0.7688916706547584, 'min_child_samples': 32}. Best is trial 11 with value: 0.9985203543751272.\n"
     ]
    },
    {
     "name": "stdout",
     "output_type": "stream",
     "text": [
      "SCORE: 0.9984648676641944\n"
     ]
    },
    {
     "name": "stderr",
     "output_type": "stream",
     "text": [
      "[I 2024-03-08 14:27:30,650] Trial 63 finished with value: 0.998353894242329 and parameters: {'learning_rate': 0.027926467214926105, 'n_estimators': 419, 'lambda_l1': 0.010947217921605617, 'lambda_l2': 0.02323561716156282, 'max_depth': 13, 'colsample_bytree': 0.7218874984010275, 'subsample': 0.5496410124574477, 'min_child_samples': 26}. Best is trial 11 with value: 0.9985203543751272.\n"
     ]
    },
    {
     "name": "stdout",
     "output_type": "stream",
     "text": [
      "SCORE: 0.998353894242329\n"
     ]
    },
    {
     "name": "stderr",
     "output_type": "stream",
     "text": [
      "[I 2024-03-08 14:27:48,611] Trial 64 finished with value: 0.9983908853829507 and parameters: {'learning_rate': 0.02541160942276994, 'n_estimators': 430, 'lambda_l1': 0.007020705793029213, 'lambda_l2': 0.02935634485896133, 'max_depth': 13, 'colsample_bytree': 0.48015483124801267, 'subsample': 0.5788618864234012, 'min_child_samples': 29}. Best is trial 11 with value: 0.9985203543751272.\n"
     ]
    },
    {
     "name": "stdout",
     "output_type": "stream",
     "text": [
      "SCORE: 0.9983908853829507\n"
     ]
    },
    {
     "name": "stderr",
     "output_type": "stream",
     "text": [
      "[I 2024-03-08 14:28:06,661] Trial 65 finished with value: 0.9983908853829507 and parameters: {'learning_rate': 0.02701533836178417, 'n_estimators': 406, 'lambda_l1': 0.011863608361175686, 'lambda_l2': 0.027296352656279874, 'max_depth': 14, 'colsample_bytree': 0.5552713749838728, 'subsample': 0.8582719466965628, 'min_child_samples': 34}. Best is trial 11 with value: 0.9985203543751272.\n"
     ]
    },
    {
     "name": "stdout",
     "output_type": "stream",
     "text": [
      "SCORE: 0.9983908853829507\n"
     ]
    },
    {
     "name": "stderr",
     "output_type": "stream",
     "text": [
      "[I 2024-03-08 14:28:25,951] Trial 66 finished with value: 0.9984648676641944 and parameters: {'learning_rate': 0.029396346093746487, 'n_estimators': 441, 'lambda_l1': 0.013257916179436445, 'lambda_l2': 0.03593361931334291, 'max_depth': 10, 'colsample_bytree': 0.5967934320525654, 'subsample': 0.8082924562761479, 'min_child_samples': 42}. Best is trial 11 with value: 0.9985203543751272.\n"
     ]
    },
    {
     "name": "stdout",
     "output_type": "stream",
     "text": [
      "SCORE: 0.9984648676641944\n"
     ]
    },
    {
     "name": "stderr",
     "output_type": "stream",
     "text": [
      "[I 2024-03-08 14:28:49,823] Trial 67 finished with value: 0.9984833632345054 and parameters: {'learning_rate': 0.026511432267347312, 'n_estimators': 542, 'lambda_l1': 0.015069852947873896, 'lambda_l2': 0.020022079457062737, 'max_depth': 12, 'colsample_bytree': 0.5719448060465449, 'subsample': 0.90919613522613, 'min_child_samples': 31}. Best is trial 11 with value: 0.9985203543751272.\n"
     ]
    },
    {
     "name": "stdout",
     "output_type": "stream",
     "text": [
      "SCORE: 0.9984833632345054\n"
     ]
    },
    {
     "name": "stderr",
     "output_type": "stream",
     "text": [
      "[I 2024-03-08 14:29:13,668] Trial 68 finished with value: 0.9984833632345054 and parameters: {'learning_rate': 0.02803212953162746, 'n_estimators': 536, 'lambda_l1': 0.014770829923601568, 'lambda_l2': 0.021740344202800025, 'max_depth': 14, 'colsample_bytree': 0.5721874143776023, 'subsample': 0.9140016093582674, 'min_child_samples': 39}. Best is trial 11 with value: 0.9985203543751272.\n"
     ]
    },
    {
     "name": "stdout",
     "output_type": "stream",
     "text": [
      "SCORE: 0.9984833632345054\n"
     ]
    },
    {
     "name": "stderr",
     "output_type": "stream",
     "text": [
      "[I 2024-03-08 14:29:37,906] Trial 69 finished with value: 0.9984093809532617 and parameters: {'learning_rate': 0.026637829431866763, 'n_estimators': 525, 'lambda_l1': 0.008790534083469859, 'lambda_l2': 0.020271937826889897, 'max_depth': 13, 'colsample_bytree': 0.6529699328989488, 'subsample': 0.9184635555454663, 'min_child_samples': 31}. Best is trial 11 with value: 0.9985203543751272.\n"
     ]
    },
    {
     "name": "stdout",
     "output_type": "stream",
     "text": [
      "SCORE: 0.9984093809532617\n"
     ]
    },
    {
     "name": "stderr",
     "output_type": "stream",
     "text": [
      "[I 2024-03-08 14:30:04,829] Trial 70 finished with value: 0.9984093809532617 and parameters: {'learning_rate': 0.01936686038644366, 'n_estimators': 544, 'lambda_l1': 0.012232170380869918, 'lambda_l2': 0.023959015682556255, 'max_depth': 12, 'colsample_bytree': 0.7366459830487789, 'subsample': 0.900673950489795, 'min_child_samples': 24}. Best is trial 11 with value: 0.9985203543751272.\n"
     ]
    },
    {
     "name": "stdout",
     "output_type": "stream",
     "text": [
      "SCORE: 0.9984093809532617\n"
     ]
    },
    {
     "name": "stderr",
     "output_type": "stream",
     "text": [
      "[I 2024-03-08 14:30:29,251] Trial 71 finished with value: 0.9984648676641944 and parameters: {'learning_rate': 0.02802150408029306, 'n_estimators': 537, 'lambda_l1': 0.01437235171451724, 'lambda_l2': 0.02176574465313854, 'max_depth': 14, 'colsample_bytree': 0.5709462880601004, 'subsample': 0.9659299770851504, 'min_child_samples': 39}. Best is trial 11 with value: 0.9985203543751272.\n"
     ]
    },
    {
     "name": "stdout",
     "output_type": "stream",
     "text": [
      "SCORE: 0.9984648676641944\n"
     ]
    },
    {
     "name": "stderr",
     "output_type": "stream",
     "text": [
      "[I 2024-03-08 14:30:53,631] Trial 72 finished with value: 0.9984278765235726 and parameters: {'learning_rate': 0.029551460507643835, 'n_estimators': 555, 'lambda_l1': 0.017423086833568593, 'lambda_l2': 0.021205654975133464, 'max_depth': 14, 'colsample_bytree': 0.6126348498813465, 'subsample': 0.8648728266874793, 'min_child_samples': 45}. Best is trial 11 with value: 0.9985203543751272.\n"
     ]
    },
    {
     "name": "stdout",
     "output_type": "stream",
     "text": [
      "SCORE: 0.9984278765235726\n"
     ]
    },
    {
     "name": "stderr",
     "output_type": "stream",
     "text": [
      "[I 2024-03-08 14:31:15,322] Trial 73 finished with value: 0.9984463720938835 and parameters: {'learning_rate': 0.028404764138332605, 'n_estimators': 509, 'lambda_l1': 0.016045218221060073, 'lambda_l2': 0.02220355647680371, 'max_depth': 14, 'colsample_bytree': 0.5181352302492166, 'subsample': 0.9299005973776596, 'min_child_samples': 36}. Best is trial 11 with value: 0.9985203543751272.\n"
     ]
    },
    {
     "name": "stdout",
     "output_type": "stream",
     "text": [
      "SCORE: 0.9984463720938835\n"
     ]
    },
    {
     "name": "stderr",
     "output_type": "stream",
     "text": [
      "[I 2024-03-08 14:31:38,702] Trial 74 finished with value: 0.9984093809532617 and parameters: {'learning_rate': 0.028677783892584772, 'n_estimators': 540, 'lambda_l1': 0.01512695527472994, 'lambda_l2': 0.02100552720429594, 'max_depth': 13, 'colsample_bytree': 0.5394254050043085, 'subsample': 0.8992645731126239, 'min_child_samples': 38}. Best is trial 11 with value: 0.9985203543751272.\n"
     ]
    },
    {
     "name": "stdout",
     "output_type": "stream",
     "text": [
      "SCORE: 0.9984093809532617\n"
     ]
    },
    {
     "name": "stderr",
     "output_type": "stream",
     "text": [
      "[I 2024-03-08 14:32:02,118] Trial 75 finished with value: 0.9984278765235726 and parameters: {'learning_rate': 0.027647155947256287, 'n_estimators': 525, 'lambda_l1': 0.013779864593411132, 'lambda_l2': 0.020017120456416435, 'max_depth': 13, 'colsample_bytree': 0.5531094482986288, 'subsample': 0.9803176678953884, 'min_child_samples': 40}. Best is trial 11 with value: 0.9985203543751272.\n"
     ]
    },
    {
     "name": "stdout",
     "output_type": "stream",
     "text": [
      "SCORE: 0.9984278765235726\n"
     ]
    },
    {
     "name": "stderr",
     "output_type": "stream",
     "text": [
      "[I 2024-03-08 14:32:27,133] Trial 76 finished with value: 0.9984463720938835 and parameters: {'learning_rate': 0.026164736235349845, 'n_estimators': 562, 'lambda_l1': 0.014692212653449289, 'lambda_l2': 0.024829441797703335, 'max_depth': 14, 'colsample_bytree': 0.5791688326966375, 'subsample': 0.5163093885340512, 'min_child_samples': 33}. Best is trial 11 with value: 0.9985203543751272.\n"
     ]
    },
    {
     "name": "stdout",
     "output_type": "stream",
     "text": [
      "SCORE: 0.9984463720938835\n"
     ]
    },
    {
     "name": "stderr",
     "output_type": "stream",
     "text": [
      "[I 2024-03-08 14:32:50,663] Trial 77 finished with value: 0.9983723898126399 and parameters: {'learning_rate': 0.02166526209704872, 'n_estimators': 515, 'lambda_l1': 0.018483979313220645, 'lambda_l2': 0.022954491500204753, 'max_depth': 14, 'colsample_bytree': 0.6340732922280857, 'subsample': 0.5349868399033506, 'min_child_samples': 43}. Best is trial 11 with value: 0.9985203543751272.\n"
     ]
    },
    {
     "name": "stdout",
     "output_type": "stream",
     "text": [
      "SCORE: 0.9983723898126399\n"
     ]
    },
    {
     "name": "stderr",
     "output_type": "stream",
     "text": [
      "[I 2024-03-08 14:33:14,951] Trial 78 finished with value: 0.9984463720938835 and parameters: {'learning_rate': 0.027001661829528054, 'n_estimators': 546, 'lambda_l1': 0.011322744297145075, 'lambda_l2': 0.02236552576461483, 'max_depth': 14, 'colsample_bytree': 0.595225357686918, 'subsample': 0.9035658484815654, 'min_child_samples': 36}. Best is trial 11 with value: 0.9985203543751272.\n"
     ]
    },
    {
     "name": "stdout",
     "output_type": "stream",
     "text": [
      "SCORE: 0.9984463720938835\n"
     ]
    },
    {
     "name": "stderr",
     "output_type": "stream",
     "text": [
      "[I 2024-03-08 14:33:35,187] Trial 79 finished with value: 0.9984463720938835 and parameters: {'learning_rate': 0.029135485630108666, 'n_estimators': 494, 'lambda_l1': 0.010089889285874573, 'lambda_l2': 0.023881560033486328, 'max_depth': 13, 'colsample_bytree': 0.47369069306674644, 'subsample': 0.5026383308966075, 'min_child_samples': 41}. Best is trial 11 with value: 0.9985203543751272.\n"
     ]
    },
    {
     "name": "stdout",
     "output_type": "stream",
     "text": [
      "SCORE: 0.9984463720938835\n"
     ]
    },
    {
     "name": "stderr",
     "output_type": "stream",
     "text": [
      "[I 2024-03-08 14:34:01,884] Trial 80 finished with value: 0.9985018588048162 and parameters: {'learning_rate': 0.0255529644669215, 'n_estimators': 566, 'lambda_l1': 0.005567911121451871, 'lambda_l2': 0.0255778461582148, 'max_depth': 12, 'colsample_bytree': 0.7085998665484335, 'subsample': 0.931841765329666, 'min_child_samples': 29}. Best is trial 11 with value: 0.9985203543751272.\n"
     ]
    },
    {
     "name": "stdout",
     "output_type": "stream",
     "text": [
      "SCORE: 0.9985018588048162\n"
     ]
    },
    {
     "name": "stderr",
     "output_type": "stream",
     "text": [
      "[I 2024-03-08 14:34:28,575] Trial 81 finished with value: 0.9984093809532617 and parameters: {'learning_rate': 0.024968862043072783, 'n_estimators': 566, 'lambda_l1': 0.005424493223048737, 'lambda_l2': 0.025205479392976602, 'max_depth': 12, 'colsample_bytree': 0.7082373544294814, 'subsample': 0.9545566149034708, 'min_child_samples': 34}. Best is trial 11 with value: 0.9985203543751272.\n"
     ]
    },
    {
     "name": "stdout",
     "output_type": "stream",
     "text": [
      "SCORE: 0.9984093809532617\n"
     ]
    },
    {
     "name": "stderr",
     "output_type": "stream",
     "text": [
      "[I 2024-03-08 14:34:56,113] Trial 82 finished with value: 0.9984278765235726 and parameters: {'learning_rate': 0.025637292475096374, 'n_estimators': 569, 'lambda_l1': 0.006259181503717213, 'lambda_l2': 0.02128241195281358, 'max_depth': 11, 'colsample_bytree': 0.7446353647240008, 'subsample': 0.923077058757994, 'min_child_samples': 28}. Best is trial 11 with value: 0.9985203543751272.\n"
     ]
    },
    {
     "name": "stdout",
     "output_type": "stream",
     "text": [
      "SCORE: 0.9984278765235726\n"
     ]
    },
    {
     "name": "stderr",
     "output_type": "stream",
     "text": [
      "[I 2024-03-08 14:35:25,384] Trial 83 finished with value: 0.9984278765235726 and parameters: {'learning_rate': 0.027795794471092945, 'n_estimators': 581, 'lambda_l1': 0.0055686009340046, 'lambda_l2': 0.022603494321370352, 'max_depth': 12, 'colsample_bytree': 0.7656584927499616, 'subsample': 0.9282475211715342, 'min_child_samples': 29}. Best is trial 11 with value: 0.9985203543751272.\n"
     ]
    },
    {
     "name": "stdout",
     "output_type": "stream",
     "text": [
      "SCORE: 0.9984278765235726\n"
     ]
    },
    {
     "name": "stderr",
     "output_type": "stream",
     "text": [
      "[I 2024-03-08 14:35:51,960] Trial 84 finished with value: 0.9985018588048162 and parameters: {'learning_rate': 0.020520014773528654, 'n_estimators': 553, 'lambda_l1': 0.01075167876627912, 'lambda_l2': 0.02573397360965511, 'max_depth': 14, 'colsample_bytree': 0.6785239940536674, 'subsample': 0.9116053734957202, 'min_child_samples': 37}. Best is trial 11 with value: 0.9985203543751272.\n"
     ]
    },
    {
     "name": "stdout",
     "output_type": "stream",
     "text": [
      "SCORE: 0.9985018588048162\n"
     ]
    },
    {
     "name": "stderr",
     "output_type": "stream",
     "text": [
      "[I 2024-03-08 14:36:19,890] Trial 85 finished with value: 0.9984093809532617 and parameters: {'learning_rate': 0.020690544378963716, 'n_estimators': 590, 'lambda_l1': 0.007523838683967618, 'lambda_l2': 0.026673511298171047, 'max_depth': 13, 'colsample_bytree': 0.6839909715394005, 'subsample': 0.973767544172827, 'min_child_samples': 35}. Best is trial 11 with value: 0.9985203543751272.\n"
     ]
    },
    {
     "name": "stdout",
     "output_type": "stream",
     "text": [
      "SCORE: 0.9984093809532617\n"
     ]
    },
    {
     "name": "stderr",
     "output_type": "stream",
     "text": [
      "[I 2024-03-08 14:36:46,030] Trial 86 finished with value: 0.9984278765235726 and parameters: {'learning_rate': 0.022617349349376155, 'n_estimators': 558, 'lambda_l1': 0.010789330503978931, 'lambda_l2': 0.02565929585964445, 'max_depth': 14, 'colsample_bytree': 0.6586658840455636, 'subsample': 0.8672749420760814, 'min_child_samples': 37}. Best is trial 11 with value: 0.9985203543751272.\n"
     ]
    },
    {
     "name": "stdout",
     "output_type": "stream",
     "text": [
      "SCORE: 0.9984278765235726\n"
     ]
    },
    {
     "name": "stderr",
     "output_type": "stream",
     "text": [
      "[I 2024-03-08 14:37:13,085] Trial 87 finished with value: 0.9984093809532617 and parameters: {'learning_rate': 0.018344458221629088, 'n_estimators': 571, 'lambda_l1': 0.009341749916209759, 'lambda_l2': 0.023933400429345112, 'max_depth': 13, 'colsample_bytree': 0.6976599631899683, 'subsample': 0.8918395439862903, 'min_child_samples': 30}. Best is trial 11 with value: 0.9985203543751272.\n"
     ]
    },
    {
     "name": "stdout",
     "output_type": "stream",
     "text": [
      "SCORE: 0.9984093809532617\n"
     ]
    },
    {
     "name": "stderr",
     "output_type": "stream",
     "text": [
      "[I 2024-03-08 14:37:39,768] Trial 88 finished with value: 0.9984648676641944 and parameters: {'learning_rate': 0.024042257264468958, 'n_estimators': 549, 'lambda_l1': 0.008203985969257378, 'lambda_l2': 0.0283454243797027, 'max_depth': 14, 'colsample_bytree': 0.7221590600286824, 'subsample': 0.84226510778845, 'min_child_samples': 25}. Best is trial 11 with value: 0.9985203543751272.\n"
     ]
    },
    {
     "name": "stdout",
     "output_type": "stream",
     "text": [
      "SCORE: 0.9984648676641944\n"
     ]
    },
    {
     "name": "stderr",
     "output_type": "stream",
     "text": [
      "[I 2024-03-08 14:38:05,151] Trial 89 finished with value: 0.9985018588048162 and parameters: {'learning_rate': 0.02996304448780813, 'n_estimators': 558, 'lambda_l1': 0.012732328489681251, 'lambda_l2': 0.03980398268154578, 'max_depth': 11, 'colsample_bytree': 0.6223918204877295, 'subsample': 0.6802959244584479, 'min_child_samples': 31}. Best is trial 11 with value: 0.9985203543751272.\n"
     ]
    },
    {
     "name": "stdout",
     "output_type": "stream",
     "text": [
      "SCORE: 0.9985018588048162\n"
     ]
    },
    {
     "name": "stderr",
     "output_type": "stream",
     "text": [
      "[I 2024-03-08 14:38:31,082] Trial 90 finished with value: 0.9985018588048162 and parameters: {'learning_rate': 0.029636629876501737, 'n_estimators': 583, 'lambda_l1': 0.005001468253462191, 'lambda_l2': 0.03895950802997862, 'max_depth': 10, 'colsample_bytree': 0.6155836487411496, 'subsample': 0.686709414792977, 'min_child_samples': 12}. Best is trial 11 with value: 0.9985203543751272.\n"
     ]
    },
    {
     "name": "stdout",
     "output_type": "stream",
     "text": [
      "SCORE: 0.9985018588048162\n"
     ]
    },
    {
     "name": "stderr",
     "output_type": "stream",
     "text": [
      "[I 2024-03-08 14:38:57,716] Trial 91 finished with value: 0.9984463720938835 and parameters: {'learning_rate': 0.029993541318006717, 'n_estimators': 584, 'lambda_l1': 0.006785556521854916, 'lambda_l2': 0.03494459624028713, 'max_depth': 10, 'colsample_bytree': 0.6667038818344299, 'subsample': 0.6862041281668796, 'min_child_samples': 20}. Best is trial 11 with value: 0.9985203543751272.\n"
     ]
    },
    {
     "name": "stdout",
     "output_type": "stream",
     "text": [
      "SCORE: 0.9984463720938835\n"
     ]
    },
    {
     "name": "stderr",
     "output_type": "stream",
     "text": [
      "[I 2024-03-08 14:39:25,022] Trial 92 finished with value: 0.9984648676641944 and parameters: {'learning_rate': 0.02953170947448926, 'n_estimators': 599, 'lambda_l1': 0.005110388754933118, 'lambda_l2': 0.05083766863877025, 'max_depth': 11, 'colsample_bytree': 0.6319447392444228, 'subsample': 0.6399104495363874, 'min_child_samples': 11}. Best is trial 11 with value: 0.9985203543751272.\n"
     ]
    },
    {
     "name": "stdout",
     "output_type": "stream",
     "text": [
      "SCORE: 0.9984648676641944\n"
     ]
    },
    {
     "name": "stderr",
     "output_type": "stream",
     "text": [
      "[I 2024-03-08 14:39:52,163] Trial 93 finished with value: 0.9983169031017072 and parameters: {'learning_rate': 0.016741039788874673, 'n_estimators': 592, 'lambda_l1': 0.005827555218807744, 'lambda_l2': 0.03989677982409819, 'max_depth': 9, 'colsample_bytree': 0.6764905863337853, 'subsample': 0.6825895535750973, 'min_child_samples': 13}. Best is trial 11 with value: 0.9985203543751272.\n"
     ]
    },
    {
     "name": "stdout",
     "output_type": "stream",
     "text": [
      "SCORE: 0.9983169031017072\n"
     ]
    },
    {
     "name": "stderr",
     "output_type": "stream",
     "text": [
      "[I 2024-03-08 14:40:18,279] Trial 94 finished with value: 0.9985018588048162 and parameters: {'learning_rate': 0.02931317341780698, 'n_estimators': 579, 'lambda_l1': 0.012714476676083785, 'lambda_l2': 0.043605110212435065, 'max_depth': 10, 'colsample_bytree': 0.6196528416804606, 'subsample': 0.6576111211151706, 'min_child_samples': 16}. Best is trial 11 with value: 0.9985203543751272.\n"
     ]
    },
    {
     "name": "stdout",
     "output_type": "stream",
     "text": [
      "SCORE: 0.9985018588048162\n"
     ]
    },
    {
     "name": "stderr",
     "output_type": "stream",
     "text": [
      "[I 2024-03-08 14:40:43,529] Trial 95 finished with value: 0.9984648676641944 and parameters: {'learning_rate': 0.029038547448922463, 'n_estimators': 555, 'lambda_l1': 0.012702625938512846, 'lambda_l2': 0.04602325021606376, 'max_depth': 10, 'colsample_bytree': 0.6426297302053755, 'subsample': 0.6618180188659658, 'min_child_samples': 13}. Best is trial 11 with value: 0.9985203543751272.\n"
     ]
    },
    {
     "name": "stdout",
     "output_type": "stream",
     "text": [
      "SCORE: 0.9984648676641944\n"
     ]
    },
    {
     "name": "stderr",
     "output_type": "stream",
     "text": [
      "[I 2024-03-08 14:41:01,976] Trial 96 finished with value: 0.9984463720938835 and parameters: {'learning_rate': 0.02868310558482914, 'n_estimators': 406, 'lambda_l1': 0.011254898014909287, 'lambda_l2': 0.04242491448169865, 'max_depth': 10, 'colsample_bytree': 0.6211659160208877, 'subsample': 0.7255449181047309, 'min_child_samples': 17}. Best is trial 11 with value: 0.9985203543751272.\n"
     ]
    },
    {
     "name": "stdout",
     "output_type": "stream",
     "text": [
      "SCORE: 0.9984463720938835\n"
     ]
    },
    {
     "name": "stderr",
     "output_type": "stream",
     "text": [
      "[I 2024-03-08 14:41:27,695] Trial 97 finished with value: 0.9984278765235726 and parameters: {'learning_rate': 0.029600303369747696, 'n_estimators': 577, 'lambda_l1': 0.012099853332904125, 'lambda_l2': 0.04066347738769739, 'max_depth': 11, 'colsample_bytree': 0.6062964779590483, 'subsample': 0.6960554273756286, 'min_child_samples': 14}. Best is trial 11 with value: 0.9985203543751272.\n"
     ]
    },
    {
     "name": "stdout",
     "output_type": "stream",
     "text": [
      "SCORE: 0.9984278765235726\n"
     ]
    },
    {
     "name": "stderr",
     "output_type": "stream",
     "text": [
      "[I 2024-03-08 14:41:46,652] Trial 98 finished with value: 0.9984093809532617 and parameters: {'learning_rate': 0.028748759447706308, 'n_estimators': 415, 'lambda_l1': 0.013140767306732977, 'lambda_l2': 0.03809024727996584, 'max_depth': 10, 'colsample_bytree': 0.6204622096769451, 'subsample': 0.6537256379419416, 'min_child_samples': 15}. Best is trial 11 with value: 0.9985203543751272.\n"
     ]
    },
    {
     "name": "stdout",
     "output_type": "stream",
     "text": [
      "SCORE: 0.9984093809532617\n"
     ]
    },
    {
     "name": "stderr",
     "output_type": "stream",
     "text": [
      "[I 2024-03-08 14:42:11,819] Trial 99 finished with value: 0.9974106201564725 and parameters: {'learning_rate': 0.010582498675845006, 'n_estimators': 593, 'lambda_l1': 0.010358736570193585, 'lambda_l2': 0.04439540407875872, 'max_depth': 9, 'colsample_bytree': 0.5456236257601222, 'subsample': 0.6707054029658934, 'min_child_samples': 10}. Best is trial 11 with value: 0.9985203543751272.\n"
     ]
    },
    {
     "name": "stdout",
     "output_type": "stream",
     "text": [
      "SCORE: 0.9974106201564725\n"
     ]
    },
    {
     "name": "stderr",
     "output_type": "stream",
     "text": [
      "[I 2024-03-08 14:42:38,894] Trial 100 finished with value: 0.9984833632345054 and parameters: {'learning_rate': 0.029208390218066854, 'n_estimators': 581, 'lambda_l1': 0.02084883489014174, 'lambda_l2': 0.04109530348340167, 'max_depth': 11, 'colsample_bytree': 0.6978947236477676, 'subsample': 0.6202646737270249, 'min_child_samples': 38}. Best is trial 11 with value: 0.9985203543751272.\n"
     ]
    },
    {
     "name": "stdout",
     "output_type": "stream",
     "text": [
      "SCORE: 0.9984833632345054\n"
     ]
    },
    {
     "name": "stderr",
     "output_type": "stream",
     "text": [
      "[I 2024-03-08 14:43:05,479] Trial 101 finished with value: 0.9984463720938835 and parameters: {'learning_rate': 0.029538497798175422, 'n_estimators': 572, 'lambda_l1': 0.0062434358131641015, 'lambda_l2': 0.03964445166768835, 'max_depth': 10, 'colsample_bytree': 0.6617374714388847, 'subsample': 0.5121128707681182, 'min_child_samples': 11}. Best is trial 11 with value: 0.9985203543751272.\n"
     ]
    },
    {
     "name": "stdout",
     "output_type": "stream",
     "text": [
      "SCORE: 0.9984463720938835\n"
     ]
    },
    {
     "name": "stderr",
     "output_type": "stream",
     "text": [
      "[I 2024-03-08 14:43:30,444] Trial 102 finished with value: 0.9984278765235726 and parameters: {'learning_rate': 0.02821422035545304, 'n_estimators': 564, 'lambda_l1': 0.013493223289378692, 'lambda_l2': 0.04259139144961899, 'max_depth': 10, 'colsample_bytree': 0.5892688456361277, 'subsample': 0.5629804891512279, 'min_child_samples': 20}. Best is trial 11 with value: 0.9985203543751272.\n"
     ]
    },
    {
     "name": "stdout",
     "output_type": "stream",
     "text": [
      "SCORE: 0.9984278765235726\n"
     ]
    },
    {
     "name": "stderr",
     "output_type": "stream",
     "text": [
      "[I 2024-03-08 14:43:57,111] Trial 103 finished with value: 0.9984093809532617 and parameters: {'learning_rate': 0.027240048675733673, 'n_estimators': 558, 'lambda_l1': 0.012554699714931051, 'lambda_l2': 0.046322846442107594, 'max_depth': 14, 'colsample_bytree': 0.7115461121490088, 'subsample': 0.5299336212898298, 'min_child_samples': 33}. Best is trial 11 with value: 0.9985203543751272.\n"
     ]
    },
    {
     "name": "stdout",
     "output_type": "stream",
     "text": [
      "SCORE: 0.9984093809532617\n"
     ]
    },
    {
     "name": "stderr",
     "output_type": "stream",
     "text": [
      "[I 2024-03-08 14:44:24,978] Trial 104 finished with value: 0.9984648676641944 and parameters: {'learning_rate': 0.029974659755038567, 'n_estimators': 576, 'lambda_l1': 0.011869013698758604, 'lambda_l2': 0.041621034465723655, 'max_depth': 11, 'colsample_bytree': 0.7282281940510709, 'subsample': 0.5453444780165368, 'min_child_samples': 18}. Best is trial 11 with value: 0.9985203543751272.\n"
     ]
    },
    {
     "name": "stdout",
     "output_type": "stream",
     "text": [
      "SCORE: 0.9984648676641944\n"
     ]
    },
    {
     "name": "stderr",
     "output_type": "stream",
     "text": [
      "[I 2024-03-08 14:44:51,952] Trial 105 finished with value: 0.9983908853829507 and parameters: {'learning_rate': 0.019432975969477004, 'n_estimators': 568, 'lambda_l1': 0.007527007377317634, 'lambda_l2': 0.03635074199162967, 'max_depth': 9, 'colsample_bytree': 0.6838898235363389, 'subsample': 0.7198029621295254, 'min_child_samples': 32}. Best is trial 11 with value: 0.9985203543751272.\n"
     ]
    },
    {
     "name": "stdout",
     "output_type": "stream",
     "text": [
      "SCORE: 0.9983908853829507\n"
     ]
    },
    {
     "name": "stderr",
     "output_type": "stream",
     "text": [
      "[I 2024-03-08 14:45:18,444] Trial 106 finished with value: 0.9984833632345054 and parameters: {'learning_rate': 0.028389173943374785, 'n_estimators': 586, 'lambda_l1': 0.024982139204939344, 'lambda_l2': 0.03835827291088747, 'max_depth': 14, 'colsample_bytree': 0.6407909981593294, 'subsample': 0.7468499206995136, 'min_child_samples': 22}. Best is trial 11 with value: 0.9985203543751272.\n"
     ]
    },
    {
     "name": "stdout",
     "output_type": "stream",
     "text": [
      "SCORE: 0.9984833632345054\n"
     ]
    },
    {
     "name": "stderr",
     "output_type": "stream",
     "text": [
      "[I 2024-03-08 14:45:37,668] Trial 107 finished with value: 0.9982614163907744 and parameters: {'learning_rate': 0.020543109362172428, 'n_estimators': 425, 'lambda_l1': 0.01144632032140183, 'lambda_l2': 0.05583380071690645, 'max_depth': 14, 'colsample_bytree': 0.5597100264412923, 'subsample': 0.7879420812344409, 'min_child_samples': 35}. Best is trial 11 with value: 0.9985203543751272.\n"
     ]
    },
    {
     "name": "stdout",
     "output_type": "stream",
     "text": [
      "SCORE: 0.9982614163907744\n"
     ]
    },
    {
     "name": "stderr",
     "output_type": "stream",
     "text": [
      "[I 2024-03-08 14:45:54,779] Trial 108 finished with value: 0.9984463720938835 and parameters: {'learning_rate': 0.028799804407409996, 'n_estimators': 404, 'lambda_l1': 0.0107130760899907, 'lambda_l2': 0.03214488455610523, 'max_depth': 11, 'colsample_bytree': 0.49767236864655306, 'subsample': 0.6960857218815715, 'min_child_samples': 26}. Best is trial 11 with value: 0.9985203543751272.\n"
     ]
    },
    {
     "name": "stdout",
     "output_type": "stream",
     "text": [
      "SCORE: 0.9984463720938835\n"
     ]
    },
    {
     "name": "stderr",
     "output_type": "stream",
     "text": [
      "[I 2024-03-08 14:46:19,203] Trial 109 finished with value: 0.9984278765235726 and parameters: {'learning_rate': 0.027543703298952185, 'n_estimators': 498, 'lambda_l1': 0.005017336664095677, 'lambda_l2': 0.044103731676189514, 'max_depth': 14, 'colsample_bytree': 0.7669322886919709, 'subsample': 0.5137263684814966, 'min_child_samples': 34}. Best is trial 11 with value: 0.9985203543751272.\n"
     ]
    },
    {
     "name": "stdout",
     "output_type": "stream",
     "text": [
      "SCORE: 0.9984278765235726\n"
     ]
    },
    {
     "name": "stderr",
     "output_type": "stream",
     "text": [
      "[I 2024-03-08 14:46:46,443] Trial 110 finished with value: 0.9984463720938835 and parameters: {'learning_rate': 0.029451133907112625, 'n_estimators': 588, 'lambda_l1': 0.005594981986170102, 'lambda_l2': 0.025771329206085956, 'max_depth': 10, 'colsample_bytree': 0.6706559093666923, 'subsample': 0.5344921268383521, 'min_child_samples': 16}. Best is trial 11 with value: 0.9985203543751272.\n"
     ]
    },
    {
     "name": "stdout",
     "output_type": "stream",
     "text": [
      "SCORE: 0.9984463720938835\n"
     ]
    },
    {
     "name": "stderr",
     "output_type": "stream",
     "text": [
      "[I 2024-03-08 14:47:09,135] Trial 111 finished with value: 0.9984093809532617 and parameters: {'learning_rate': 0.028003868147822655, 'n_estimators': 506, 'lambda_l1': 0.01570738844454875, 'lambda_l2': 0.020679666519636576, 'max_depth': 12, 'colsample_bytree': 0.579537961428534, 'subsample': 0.9392683908132814, 'min_child_samples': 30}. Best is trial 11 with value: 0.9985203543751272.\n"
     ]
    },
    {
     "name": "stdout",
     "output_type": "stream",
     "text": [
      "SCORE: 0.9984093809532617\n"
     ]
    },
    {
     "name": "stderr",
     "output_type": "stream",
     "text": [
      "[I 2024-03-08 14:47:32,982] Trial 112 finished with value: 0.998335398672018 and parameters: {'learning_rate': 0.026596837179808288, 'n_estimators': 561, 'lambda_l1': 0.012668945438877855, 'lambda_l2': 0.03907353466228035, 'max_depth': 7, 'colsample_bytree': 0.5265060876932909, 'subsample': 0.5006985570736635, 'min_child_samples': 29}. Best is trial 11 with value: 0.9985203543751272.\n"
     ]
    },
    {
     "name": "stdout",
     "output_type": "stream",
     "text": [
      "SCORE: 0.998335398672018\n"
     ]
    },
    {
     "name": "stderr",
     "output_type": "stream",
     "text": [
      "[I 2024-03-08 14:47:57,837] Trial 113 finished with value: 0.998131947398598 and parameters: {'learning_rate': 0.01480156833886496, 'n_estimators': 552, 'lambda_l1': 0.006542103137424594, 'lambda_l2': 0.04806417287922514, 'max_depth': 12, 'colsample_bytree': 0.601655932417032, 'subsample': 0.634530637696435, 'min_child_samples': 31}. Best is trial 11 with value: 0.9985203543751272.\n"
     ]
    },
    {
     "name": "stdout",
     "output_type": "stream",
     "text": [
      "SCORE: 0.998131947398598\n"
     ]
    },
    {
     "name": "stderr",
     "output_type": "stream",
     "text": [
      "[I 2024-03-08 14:48:16,386] Trial 114 finished with value: 0.9980394695470435 and parameters: {'learning_rate': 0.018698094338452962, 'n_estimators': 410, 'lambda_l1': 0.014140254662510109, 'lambda_l2': 0.023517093291110916, 'max_depth': 14, 'colsample_bytree': 0.5642866425288257, 'subsample': 0.5555671796917966, 'min_child_samples': 28}. Best is trial 11 with value: 0.9985203543751272.\n"
     ]
    },
    {
     "name": "stdout",
     "output_type": "stream",
     "text": [
      "SCORE: 0.9980394695470435\n"
     ]
    },
    {
     "name": "stderr",
     "output_type": "stream",
     "text": [
      "[I 2024-03-08 14:48:40,245] Trial 115 finished with value: 0.9984093809532617 and parameters: {'learning_rate': 0.029199849672209482, 'n_estimators': 541, 'lambda_l1': 0.010933138339752322, 'lambda_l2': 0.034415973699047225, 'max_depth': 11, 'colsample_bytree': 0.5891927310123678, 'subsample': 0.5188660381361019, 'min_child_samples': 19}. Best is trial 11 with value: 0.9985203543751272.\n"
     ]
    },
    {
     "name": "stdout",
     "output_type": "stream",
     "text": [
      "SCORE: 0.9984093809532617\n"
     ]
    },
    {
     "name": "stderr",
     "output_type": "stream",
     "text": [
      "[I 2024-03-08 14:49:04,429] Trial 116 finished with value: 0.9983908853829507 and parameters: {'learning_rate': 0.0268811714650419, 'n_estimators': 531, 'lambda_l1': 0.012042317204074574, 'lambda_l2': 0.021021097881643632, 'max_depth': 13, 'colsample_bytree': 0.6458906580949625, 'subsample': 0.9539761563513638, 'min_child_samples': 32}. Best is trial 11 with value: 0.9985203543751272.\n"
     ]
    },
    {
     "name": "stdout",
     "output_type": "stream",
     "text": [
      "SCORE: 0.9983908853829507\n"
     ]
    },
    {
     "name": "stderr",
     "output_type": "stream",
     "text": [
      "[I 2024-03-08 14:49:29,267] Trial 117 finished with value: 0.9984833632345054 and parameters: {'learning_rate': 0.026297841369473867, 'n_estimators': 545, 'lambda_l1': 0.009696750933655653, 'lambda_l2': 0.022250877880426984, 'max_depth': 12, 'colsample_bytree': 0.6231074220225779, 'subsample': 0.6030199795598048, 'min_child_samples': 37}. Best is trial 11 with value: 0.9985203543751272.\n"
     ]
    },
    {
     "name": "stdout",
     "output_type": "stream",
     "text": [
      "SCORE: 0.9984833632345054\n"
     ]
    },
    {
     "name": "stderr",
     "output_type": "stream",
     "text": [
      "[I 2024-03-08 14:49:47,498] Trial 118 finished with value: 0.9981689385392198 and parameters: {'learning_rate': 0.021137298064032126, 'n_estimators': 400, 'lambda_l1': 0.009112677645612315, 'lambda_l2': 0.024751742669236788, 'max_depth': 14, 'colsample_bytree': 0.6107067110871796, 'subsample': 0.9110954877987562, 'min_child_samples': 40}. Best is trial 11 with value: 0.9985203543751272.\n"
     ]
    },
    {
     "name": "stdout",
     "output_type": "stream",
     "text": [
      "SCORE: 0.9981689385392198\n"
     ]
    },
    {
     "name": "stderr",
     "output_type": "stream",
     "text": [
      "[I 2024-03-08 14:50:05,508] Trial 119 finished with value: 0.9984463720938835 and parameters: {'learning_rate': 0.028567205408863486, 'n_estimators': 416, 'lambda_l1': 0.010063749300827233, 'lambda_l2': 0.02943819130823597, 'max_depth': 13, 'colsample_bytree': 0.5457044256834285, 'subsample': 0.8227745969123157, 'min_child_samples': 31}. Best is trial 11 with value: 0.9985203543751272.\n"
     ]
    },
    {
     "name": "stdout",
     "output_type": "stream",
     "text": [
      "SCORE: 0.9984463720938835\n"
     ]
    },
    {
     "name": "stderr",
     "output_type": "stream",
     "text": [
      "[I 2024-03-08 14:50:32,308] Trial 120 finished with value: 0.9984833632345054 and parameters: {'learning_rate': 0.024563939529745192, 'n_estimators': 566, 'lambda_l1': 0.006087008602718179, 'lambda_l2': 0.022831090785427416, 'max_depth': 14, 'colsample_bytree': 0.6914070516271672, 'subsample': 0.5251244034391884, 'min_child_samples': 36}. Best is trial 11 with value: 0.9985203543751272.\n"
     ]
    },
    {
     "name": "stdout",
     "output_type": "stream",
     "text": [
      "SCORE: 0.9984833632345054\n"
     ]
    },
    {
     "name": "stderr",
     "output_type": "stream",
     "text": [
      "[I 2024-03-08 14:50:55,668] Trial 121 finished with value: 0.9984648676641944 and parameters: {'learning_rate': 0.027902412447920175, 'n_estimators': 522, 'lambda_l1': 0.014141186337306768, 'lambda_l2': 0.02176905952420462, 'max_depth': 14, 'colsample_bytree': 0.5717603804509952, 'subsample': 0.894792510072631, 'min_child_samples': 39}. Best is trial 11 with value: 0.9985203543751272.\n"
     ]
    },
    {
     "name": "stdout",
     "output_type": "stream",
     "text": [
      "SCORE: 0.9984648676641944\n"
     ]
    },
    {
     "name": "stderr",
     "output_type": "stream",
     "text": [
      "[I 2024-03-08 14:51:19,655] Trial 122 finished with value: 0.9983908853829507 and parameters: {'learning_rate': 0.019846938729157042, 'n_estimators': 538, 'lambda_l1': 0.014735238870692497, 'lambda_l2': 0.02054303934645137, 'max_depth': 14, 'colsample_bytree': 0.5778811231774854, 'subsample': 0.9079304636328661, 'min_child_samples': 38}. Best is trial 11 with value: 0.9985203543751272.\n"
     ]
    },
    {
     "name": "stdout",
     "output_type": "stream",
     "text": [
      "SCORE: 0.9983908853829507\n"
     ]
    },
    {
     "name": "stderr",
     "output_type": "stream",
     "text": [
      "[I 2024-03-08 14:51:45,602] Trial 123 finished with value: 0.9984463720938835 and parameters: {'learning_rate': 0.028308335264134378, 'n_estimators': 553, 'lambda_l1': 0.016441375484646296, 'lambda_l2': 0.020065553174157265, 'max_depth': 14, 'colsample_bytree': 0.7041407783305322, 'subsample': 0.9450561915816684, 'min_child_samples': 40}. Best is trial 11 with value: 0.9985203543751272.\n"
     ]
    },
    {
     "name": "stdout",
     "output_type": "stream",
     "text": [
      "SCORE: 0.9984463720938835\n"
     ]
    },
    {
     "name": "stderr",
     "output_type": "stream",
     "text": [
      "[I 2024-03-08 14:52:08,132] Trial 124 finished with value: 0.9978545138439344 and parameters: {'learning_rate': 0.012550798261583989, 'n_estimators': 535, 'lambda_l1': 0.013542838526475582, 'lambda_l2': 0.02165709327261057, 'max_depth': 14, 'colsample_bytree': 0.5119769336224371, 'subsample': 0.9295208730912388, 'min_child_samples': 12}. Best is trial 11 with value: 0.9985203543751272.\n"
     ]
    },
    {
     "name": "stdout",
     "output_type": "stream",
     "text": [
      "SCORE: 0.9978545138439344\n"
     ]
    },
    {
     "name": "stderr",
     "output_type": "stream",
     "text": [
      "[I 2024-03-08 14:52:35,667] Trial 125 finished with value: 0.9984463720938835 and parameters: {'learning_rate': 0.02728978369215171, 'n_estimators': 579, 'lambda_l1': 0.015020821663004872, 'lambda_l2': 0.02425991966288545, 'max_depth': 13, 'colsample_bytree': 0.7474414071692009, 'subsample': 0.876816222089383, 'min_child_samples': 37}. Best is trial 11 with value: 0.9985203543751272.\n"
     ]
    },
    {
     "name": "stdout",
     "output_type": "stream",
     "text": [
      "SCORE: 0.9984463720938835\n"
     ]
    },
    {
     "name": "stderr",
     "output_type": "stream",
     "text": [
      "[I 2024-03-08 14:52:58,963] Trial 126 finished with value: 0.9984463720938835 and parameters: {'learning_rate': 0.02589732426897572, 'n_estimators': 528, 'lambda_l1': 0.005637465051647021, 'lambda_l2': 0.021057111103284138, 'max_depth': 14, 'colsample_bytree': 0.5642869094406744, 'subsample': 0.6726077053837431, 'min_child_samples': 35}. Best is trial 11 with value: 0.9985203543751272.\n"
     ]
    },
    {
     "name": "stdout",
     "output_type": "stream",
     "text": [
      "SCORE: 0.9984463720938835\n"
     ]
    },
    {
     "name": "stderr",
     "output_type": "stream",
     "text": [
      "[I 2024-03-08 14:53:23,708] Trial 127 finished with value: 0.9984278765235726 and parameters: {'learning_rate': 0.029627476730815932, 'n_estimators': 572, 'lambda_l1': 0.011445277005823701, 'lambda_l2': 0.036898177480731154, 'max_depth': 10, 'colsample_bytree': 0.551766716331292, 'subsample': 0.918273474477963, 'min_child_samples': 39}. Best is trial 11 with value: 0.9985203543751272.\n"
     ]
    },
    {
     "name": "stdout",
     "output_type": "stream",
     "text": [
      "SCORE: 0.9984278765235726\n"
     ]
    },
    {
     "name": "stderr",
     "output_type": "stream",
     "text": [
      "[I 2024-03-08 14:53:45,473] Trial 128 finished with value: 0.9984278765235726 and parameters: {'learning_rate': 0.028975738974604797, 'n_estimators': 515, 'lambda_l1': 0.012951236165777223, 'lambda_l2': 0.022993843640190283, 'max_depth': 14, 'colsample_bytree': 0.5363601130029247, 'subsample': 0.8567399147393152, 'min_child_samples': 41}. Best is trial 11 with value: 0.9985203543751272.\n"
     ]
    },
    {
     "name": "stdout",
     "output_type": "stream",
     "text": [
      "SCORE: 0.9984278765235726\n"
     ]
    },
    {
     "name": "stderr",
     "output_type": "stream",
     "text": [
      "[I 2024-03-08 14:54:09,627] Trial 129 finished with value: 0.9984093809532617 and parameters: {'learning_rate': 0.027813184745616344, 'n_estimators': 549, 'lambda_l1': 0.00852172043555673, 'lambda_l2': 0.022272411978950028, 'max_depth': 13, 'colsample_bytree': 0.5939009172959557, 'subsample': 0.5414988849871736, 'min_child_samples': 33}. Best is trial 11 with value: 0.9985203543751272.\n"
     ]
    },
    {
     "name": "stdout",
     "output_type": "stream",
     "text": [
      "SCORE: 0.9984093809532617\n"
     ]
    },
    {
     "name": "stderr",
     "output_type": "stream",
     "text": [
      "[I 2024-03-08 14:54:36,063] Trial 130 finished with value: 0.9984093809532617 and parameters: {'learning_rate': 0.029870157647788463, 'n_estimators': 558, 'lambda_l1': 0.017068818822897267, 'lambda_l2': 0.02678840204761164, 'max_depth': 13, 'colsample_bytree': 0.7190101898981135, 'subsample': 0.9633562308411554, 'min_child_samples': 42}. Best is trial 11 with value: 0.9985203543751272.\n"
     ]
    },
    {
     "name": "stdout",
     "output_type": "stream",
     "text": [
      "SCORE: 0.9984093809532617\n"
     ]
    },
    {
     "name": "stderr",
     "output_type": "stream",
     "text": [
      "[I 2024-03-08 14:55:03,669] Trial 131 finished with value: 0.9984833632345054 and parameters: {'learning_rate': 0.029130355068918076, 'n_estimators': 580, 'lambda_l1': 0.022147808712314535, 'lambda_l2': 0.041703808543869035, 'max_depth': 11, 'colsample_bytree': 0.7312365632216273, 'subsample': 0.6236663515856831, 'min_child_samples': 38}. Best is trial 11 with value: 0.9985203543751272.\n"
     ]
    },
    {
     "name": "stdout",
     "output_type": "stream",
     "text": [
      "SCORE: 0.9984833632345054\n"
     ]
    },
    {
     "name": "stderr",
     "output_type": "stream",
     "text": [
      "[I 2024-03-08 14:55:30,183] Trial 132 finished with value: 0.9984463720938835 and parameters: {'learning_rate': 0.028645332001873733, 'n_estimators': 575, 'lambda_l1': 0.010584299118756142, 'lambda_l2': 0.04324361039084797, 'max_depth': 10, 'colsample_bytree': 0.691506695146004, 'subsample': 0.585110374048623, 'min_child_samples': 30}. Best is trial 11 with value: 0.9985203543751272.\n"
     ]
    },
    {
     "name": "stdout",
     "output_type": "stream",
     "text": [
      "SCORE: 0.9984463720938835\n"
     ]
    },
    {
     "name": "stderr",
     "output_type": "stream",
     "text": [
      "[I 2024-03-08 14:55:56,957] Trial 133 finished with value: 0.9984833632345054 and parameters: {'learning_rate': 0.02923542956819388, 'n_estimators': 584, 'lambda_l1': 0.0201889866187948, 'lambda_l2': 0.041366112247181085, 'max_depth': 11, 'colsample_bytree': 0.7005122221143558, 'subsample': 0.611266843056355, 'min_child_samples': 38}. Best is trial 11 with value: 0.9985203543751272.\n"
     ]
    },
    {
     "name": "stdout",
     "output_type": "stream",
     "text": [
      "SCORE: 0.9984833632345054\n"
     ]
    },
    {
     "name": "stderr",
     "output_type": "stream",
     "text": [
      "[I 2024-03-08 14:56:23,750] Trial 134 finished with value: 0.9984463720938835 and parameters: {'learning_rate': 0.027971675518840722, 'n_estimators': 594, 'lambda_l1': 0.020261077506528245, 'lambda_l2': 0.0278142036276582, 'max_depth': 12, 'colsample_bytree': 0.6796948781058603, 'subsample': 0.6498837802667655, 'min_child_samples': 36}. Best is trial 11 with value: 0.9985203543751272.\n"
     ]
    },
    {
     "name": "stdout",
     "output_type": "stream",
     "text": [
      "SCORE: 0.9984463720938835\n"
     ]
    },
    {
     "name": "stderr",
     "output_type": "stream",
     "text": [
      "[I 2024-03-08 14:56:42,670] Trial 135 finished with value: 0.9984648676641944 and parameters: {'learning_rate': 0.02829328805096201, 'n_estimators': 410, 'lambda_l1': 0.023781590931191338, 'lambda_l2': 0.040455013630666746, 'max_depth': 14, 'colsample_bytree': 0.6548789043815718, 'subsample': 0.5098481062143835, 'min_child_samples': 37}. Best is trial 11 with value: 0.9985203543751272.\n"
     ]
    },
    {
     "name": "stdout",
     "output_type": "stream",
     "text": [
      "SCORE: 0.9984648676641944\n"
     ]
    },
    {
     "name": "stderr",
     "output_type": "stream",
     "text": [
      "[I 2024-03-08 14:57:07,826] Trial 136 finished with value: 0.9984648676641944 and parameters: {'learning_rate': 0.029379357261216692, 'n_estimators': 561, 'lambda_l1': 0.012420314747978755, 'lambda_l2': 0.04491686400026251, 'max_depth': 10, 'colsample_bytree': 0.6653257107973264, 'subsample': 0.6858820793186156, 'min_child_samples': 39}. Best is trial 11 with value: 0.9985203543751272.\n"
     ]
    },
    {
     "name": "stdout",
     "output_type": "stream",
     "text": [
      "SCORE: 0.9984648676641944\n"
     ]
    },
    {
     "name": "stderr",
     "output_type": "stream",
     "text": [
      "[I 2024-03-08 14:57:28,375] Trial 137 finished with value: 0.9985018588048162 and parameters: {'learning_rate': 0.0287893207947234, 'n_estimators': 570, 'lambda_l1': 0.005000717532326048, 'lambda_l2': 0.020016793581064927, 'max_depth': 11, 'colsample_bytree': 0.355134388735195, 'subsample': 0.7084633947901189, 'min_child_samples': 34}. Best is trial 11 with value: 0.9985203543751272.\n"
     ]
    },
    {
     "name": "stdout",
     "output_type": "stream",
     "text": [
      "SCORE: 0.9985018588048162\n"
     ]
    },
    {
     "name": "stderr",
     "output_type": "stream",
     "text": [
      "[I 2024-03-08 14:57:53,498] Trial 138 finished with value: 0.9984278765235726 and parameters: {'learning_rate': 0.027017538937887074, 'n_estimators': 566, 'lambda_l1': 0.005429814161169521, 'lambda_l2': 0.02012567860325425, 'max_depth': 14, 'colsample_bytree': 0.6350239562973953, 'subsample': 0.7116288017120703, 'min_child_samples': 33}. Best is trial 11 with value: 0.9985203543751272.\n"
     ]
    },
    {
     "name": "stdout",
     "output_type": "stream",
     "text": [
      "SCORE: 0.9984278765235726\n"
     ]
    },
    {
     "name": "stderr",
     "output_type": "stream",
     "text": [
      "[I 2024-03-08 14:58:17,494] Trial 139 finished with value: 0.9983723898126399 and parameters: {'learning_rate': 0.027620267417896475, 'n_estimators': 547, 'lambda_l1': 0.006685284588320161, 'lambda_l2': 0.021348300648337926, 'max_depth': 12, 'colsample_bytree': 0.6083927735622519, 'subsample': 0.7280424954425748, 'min_child_samples': 31}. Best is trial 11 with value: 0.9985203543751272.\n"
     ]
    },
    {
     "name": "stdout",
     "output_type": "stream",
     "text": [
      "SCORE: 0.9983723898126399\n"
     ]
    },
    {
     "name": "stderr",
     "output_type": "stream",
     "text": [
      "[I 2024-03-08 14:58:37,300] Trial 140 finished with value: 0.9984093809532617 and parameters: {'learning_rate': 0.029740972342842547, 'n_estimators': 555, 'lambda_l1': 0.005798964779992197, 'lambda_l2': 0.023820202638112627, 'max_depth': 14, 'colsample_bytree': 0.3296702358789848, 'subsample': 0.701820623860321, 'min_child_samples': 35}. Best is trial 11 with value: 0.9985203543751272.\n"
     ]
    },
    {
     "name": "stdout",
     "output_type": "stream",
     "text": [
      "SCORE: 0.9984093809532617\n"
     ]
    },
    {
     "name": "stderr",
     "output_type": "stream",
     "text": [
      "[I 2024-03-08 14:58:59,043] Trial 141 finished with value: 0.9985018588048162 and parameters: {'learning_rate': 0.028821179901619934, 'n_estimators': 579, 'lambda_l1': 0.005299081717707158, 'lambda_l2': 0.04344997982239578, 'max_depth': 11, 'colsample_bytree': 0.41176525453014434, 'subsample': 0.6764669145373663, 'min_child_samples': 34}. Best is trial 11 with value: 0.9985203543751272.\n"
     ]
    },
    {
     "name": "stdout",
     "output_type": "stream",
     "text": [
      "SCORE: 0.9985018588048162\n"
     ]
    },
    {
     "name": "stderr",
     "output_type": "stream",
     "text": [
      "[I 2024-03-08 14:59:19,810] Trial 142 finished with value: 0.9984463720938835 and parameters: {'learning_rate': 0.02871810539601948, 'n_estimators': 572, 'lambda_l1': 0.005036051589978848, 'lambda_l2': 0.022776393172582586, 'max_depth': 11, 'colsample_bytree': 0.35544620364364826, 'subsample': 0.6605678300873856, 'min_child_samples': 34}. Best is trial 11 with value: 0.9985203543751272.\n"
     ]
    },
    {
     "name": "stdout",
     "output_type": "stream",
     "text": [
      "SCORE: 0.9984463720938835\n"
     ]
    },
    {
     "name": "stderr",
     "output_type": "stream",
     "text": [
      "[I 2024-03-08 14:59:42,558] Trial 143 finished with value: 0.9984833632345054 and parameters: {'learning_rate': 0.028925121339254643, 'n_estimators': 570, 'lambda_l1': 0.006245718982740154, 'lambda_l2': 0.04340068374743478, 'max_depth': 11, 'colsample_bytree': 0.4673532299914924, 'subsample': 0.679181396719752, 'min_child_samples': 32}. Best is trial 11 with value: 0.9985203543751272.\n"
     ]
    },
    {
     "name": "stdout",
     "output_type": "stream",
     "text": [
      "SCORE: 0.9984833632345054\n"
     ]
    },
    {
     "name": "stderr",
     "output_type": "stream",
     "text": [
      "[I 2024-03-08 15:00:02,080] Trial 144 finished with value: 0.9984833632345054 and parameters: {'learning_rate': 0.02997811252653842, 'n_estimators': 543, 'lambda_l1': 0.0053580527385497295, 'lambda_l2': 0.020851433750024895, 'max_depth': 11, 'colsample_bytree': 0.3803898988057496, 'subsample': 0.7631035035857053, 'min_child_samples': 29}. Best is trial 11 with value: 0.9985203543751272.\n"
     ]
    },
    {
     "name": "stdout",
     "output_type": "stream",
     "text": [
      "SCORE: 0.9984833632345054\n"
     ]
    },
    {
     "name": "stderr",
     "output_type": "stream",
     "text": [
      "[I 2024-03-08 15:00:16,691] Trial 145 finished with value: 0.9982244252501525 and parameters: {'learning_rate': 0.028176619106523634, 'n_estimators': 407, 'lambda_l1': 0.005887174005039719, 'lambda_l2': 0.025059768658750425, 'max_depth': 8, 'colsample_bytree': 0.38079366086425076, 'subsample': 0.9377852321283296, 'min_child_samples': 15}. Best is trial 11 with value: 0.9985203543751272.\n"
     ]
    },
    {
     "name": "stdout",
     "output_type": "stream",
     "text": [
      "SCORE: 0.9982244252501525\n"
     ]
    },
    {
     "name": "stderr",
     "output_type": "stream",
     "text": [
      "[I 2024-03-08 15:00:38,826] Trial 146 finished with value: 0.9984278765235726 and parameters: {'learning_rate': 0.023424503495292983, 'n_estimators': 575, 'lambda_l1': 0.006903993685479706, 'lambda_l2': 0.0465058311344527, 'max_depth': 10, 'colsample_bytree': 0.43224556213870247, 'subsample': 0.6915847643511254, 'min_child_samples': 34}. Best is trial 11 with value: 0.9985203543751272.\n"
     ]
    },
    {
     "name": "stdout",
     "output_type": "stream",
     "text": [
      "SCORE: 0.9984278765235726\n"
     ]
    },
    {
     "name": "stderr",
     "output_type": "stream",
     "text": [
      "[I 2024-03-08 15:01:00,622] Trial 147 finished with value: 0.9984833632345054 and parameters: {'learning_rate': 0.028466732474268234, 'n_estimators': 583, 'lambda_l1': 0.011811674344970189, 'lambda_l2': 0.0216092786842631, 'max_depth': 12, 'colsample_bytree': 0.40464984550741795, 'subsample': 0.8892242726000614, 'min_child_samples': 36}. Best is trial 11 with value: 0.9985203543751272.\n"
     ]
    },
    {
     "name": "stdout",
     "output_type": "stream",
     "text": [
      "SCORE: 0.9984833632345054\n"
     ]
    },
    {
     "name": "stderr",
     "output_type": "stream",
     "text": [
      "[I 2024-03-08 15:01:20,498] Trial 148 finished with value: 0.9984648676641944 and parameters: {'learning_rate': 0.027438912744175807, 'n_estimators': 510, 'lambda_l1': 0.011064501376112977, 'lambda_l2': 0.023417659692110168, 'max_depth': 11, 'colsample_bytree': 0.44011370839249614, 'subsample': 0.7447291975401845, 'min_child_samples': 27}. Best is trial 11 with value: 0.9985203543751272.\n"
     ]
    },
    {
     "name": "stdout",
     "output_type": "stream",
     "text": [
      "SCORE: 0.9984648676641944\n"
     ]
    },
    {
     "name": "stderr",
     "output_type": "stream",
     "text": [
      "[I 2024-03-08 15:01:41,046] Trial 149 finished with value: 0.9984833632345054 and parameters: {'learning_rate': 0.02939952015683276, 'n_estimators': 562, 'lambda_l1': 0.006403309720918303, 'lambda_l2': 0.021991295614347622, 'max_depth': 14, 'colsample_bytree': 0.36727293233264063, 'subsample': 0.5236900247346906, 'min_child_samples': 32}. Best is trial 11 with value: 0.9985203543751272.\n"
     ]
    },
    {
     "name": "stdout",
     "output_type": "stream",
     "text": [
      "SCORE: 0.9984833632345054\n"
     ]
    }
   ],
   "source": [
    "import optuna\n",
    "TUNE = True\n",
    "# Define the objective function for Optuna optimization\n",
    "def objective(trial, X_train, y_train, X_test, y_test):\n",
    "    # Define parameters to be optimized for the LGBMClassifier\n",
    "    param = {\n",
    "        \"class_weight\": class_weights_param,\n",
    "        \"objective\": \"multiclass\",\n",
    "        \"metric\": \"multi_logloss\",\n",
    "        \"verbosity\": -1,\n",
    "        \"boosting_type\": \"gbdt\",\n",
    "        \"random_state\": 42,\n",
    "        \"num_class\": 7,\n",
    "        \"learning_rate\": trial.suggest_float(\"learning_rate\", 0.01, 0.03),\n",
    "        \"n_estimators\": trial.suggest_int(\"n_estimators\", 400, 600),\n",
    "        \"lambda_l1\": trial.suggest_float(\"lambda_l1\", 0.005, 0.025),\n",
    "        \"lambda_l2\": trial.suggest_float(\"lambda_l2\", 0.02, 0.06),\n",
    "        \"max_depth\": trial.suggest_int(\"max_depth\", 6, 14),\n",
    "        \"colsample_bytree\": trial.suggest_float(\"colsample_bytree\", 0.3, 0.9),\n",
    "        \"subsample\": trial.suggest_float(\"subsample\", 0.5, 1.0),\n",
    "        \"min_child_samples\": trial.suggest_int(\"min_child_samples\", 10, 50),\n",
    "    }\n",
    "\n",
    "    # Create an instance of LGBMClassifier with the suggested parameters\n",
    "    lgbm_classifier = LGBMClassifier(**param)\n",
    "    \n",
    "    # Fit the classifier on the training data\n",
    "    lgbm_classifier.fit(X_train, y_train)\n",
    "\n",
    "    # Evaluate the classifier on the test data\n",
    "    score = lgbm_classifier.score(X_test, y_test)\n",
    "    \n",
    "    print(f'SCORE: {score}')\n",
    "\n",
    "    return score\n",
    "\n",
    "# Split the data into training and test sets\n",
    "X_train, X_test, y_train, y_test = train_test_split(X, y, test_size=0.2, random_state=42)  # Adjust the test_size as needed\n",
    "\n",
    "# Set up the sampler for Optuna optimization\n",
    "sampler = optuna.samplers.TPESampler(seed=42)  # Using Tree-structured Parzen Estimator sampler for optimization\n",
    "\n",
    "# Create a study object for Optuna optimization\n",
    "study = optuna.create_study(direction=\"maximize\", sampler=sampler)\n",
    "\n",
    "# If TUNE\n",
    "if TUNE:\n",
    "    # Run the optimization process\n",
    "    study.optimize(lambda trial: objective(trial, X_train, y_train, X_test, y_test), n_trials=150)\n",
    "\n",
    "    # Get the best parameters after optimization\n",
    "    best_params = study.best_params"
   ]
  },
  {
   "cell_type": "code",
   "execution_count": null,
   "id": "e0a6b086-9462-4033-9096-63bcb71f9a28",
   "metadata": {},
   "outputs": [
    {
     "name": "stderr",
     "output_type": "stream",
     "text": [
      "[I 2024-03-08 16:31:29,834] A new study created in memory with name: no-name-2fd742c0-8323-4bc1-9833-0b8fc3b5ae71\n",
      "/opt/anaconda3/envs/cse/lib/python3.12/site-packages/xgboost/core.py:160: UserWarning: [16:31:30] WARNING: /workspace/src/learner.cc:742: \n",
      "Parameters: { \"class_weight\" } are not used.\n",
      "\n",
      "  warnings.warn(smsg, UserWarning)\n"
     ]
    }
   ],
   "source": [
    "from sklearn.ensemble import VotingClassifier, StackingClassifier\n",
    "WEIGHT_TUNE = True\n",
    "def objective(trial, X_train, y_train, X_test, y_test):\n",
    "    # Define parameters to be optimized for the weighted ensemble\n",
    "    \n",
    "    obj_estimators = [\n",
    "        ('XGB', XGBClassifier(**xgb_params)),\n",
    "        ('LGBM', LGBMClassifier(**lgbm_params)),\n",
    "        ('CAT', CatBoostClassifier(**cat_params))\n",
    "    ]\n",
    "    \n",
    "    voting_classifier = VotingClassifier(\n",
    "        estimators=obj_estimators,\n",
    "        voting='soft',\n",
    "        weights=[\n",
    "            trial.suggest_float('XGB_Weight', 1.00, 9.00),\n",
    "            trial.suggest_float('LGBM_Weight', 0.25, 5.00),\n",
    "            trial.suggest_float('CAT_Weight', 0.25, 2.00),\n",
    "        ],\n",
    "    )\n",
    "    \n",
    "    voting_classifier.fit(X_train, y_train)\n",
    "    \n",
    "    predict_probs = voting_classifier.predict_proba(X_test)\n",
    "    \n",
    "    auc_score = roc_auc_score(y_test, predict_probs, multi_class='ovr')\n",
    "\n",
    "    return auc_score\n",
    "\n",
    "# Split the data into training and test sets\n",
    "X_train, X_test, y_train, y_test = train_test_split(X, y, test_size=0.2, random_state=42)  # Adjust the test_size as needed\n",
    "\n",
    "# Set up the sampler for Optuna optimization\n",
    "weight_sampler = optuna.samplers.TPESampler(seed=42)  # Using Tree-structured Parzen Estimator sampler for optimization\n",
    "\n",
    "# Create a study object for Optuna optimization\n",
    "weight_study = optuna.create_study(direction=\"maximize\", sampler=weight_sampler)\n",
    "\n",
    "if WEIGHT_TUNE:\n",
    "\n",
    "    # Run the optimization process\n",
    "    weight_study.optimize(lambda trial: objective(trial, X_train, y_train, X_test, y_test), n_trials=300)\n",
    "\n",
    "    # Get the best parameters after optimization\n",
    "    weight_best_params = weight_study.best_params"
   ]
  },
  {
   "cell_type": "code",
   "execution_count": 29,
   "id": "3e1273c4-2918-44ca-a5f2-87bcb9d84994",
   "metadata": {},
   "outputs": [],
   "source": [
    "voting_estimators = [\n",
    "    ('XGB', XGBClassifier(**xgb_params)),\n",
    "    ('LGBM', LGBMClassifier(**lgbm_params)),\n",
    "    ('CAT', CatBoostClassifier(**cat_params))\n",
    "]"
   ]
  },
  {
   "cell_type": "code",
   "execution_count": 33,
   "id": "14efb823-c87a-4a13-82ea-37ebcd964cb3",
   "metadata": {},
   "outputs": [
    {
     "name": "stderr",
     "output_type": "stream",
     "text": [
      "/opt/anaconda3/envs/cse/lib/python3.12/site-packages/xgboost/core.py:160: UserWarning: [13:51:48] WARNING: /workspace/src/learner.cc:742: \n",
      "Parameters: { \"class_weight\" } are not used.\n",
      "\n",
      "  warnings.warn(smsg, UserWarning)\n"
     ]
    },
    {
     "ename": "KeyError",
     "evalue": "7",
     "output_type": "error",
     "traceback": [
      "\u001b[0;31m---------------------------------------------------------------------------\u001b[0m",
      "\u001b[0;31mKeyError\u001b[0m                                  Traceback (most recent call last)",
      "Cell \u001b[0;32mIn[33], line 9\u001b[0m\n\u001b[1;32m      1\u001b[0m voting_classifier \u001b[38;5;241m=\u001b[39m VotingClassifier(\n\u001b[1;32m      2\u001b[0m     estimators\u001b[38;5;241m=\u001b[39mvoting_estimators,\n\u001b[1;32m      3\u001b[0m     voting\u001b[38;5;241m=\u001b[39m\u001b[38;5;124m'\u001b[39m\u001b[38;5;124msoft\u001b[39m\u001b[38;5;124m'\u001b[39m,\n\u001b[0;32m   (...)\u001b[0m\n\u001b[1;32m      6\u001b[0m         ],\n\u001b[1;32m      7\u001b[0m     )\n\u001b[0;32m----> 9\u001b[0m \u001b[43mvoting_classifier\u001b[49m\u001b[38;5;241;43m.\u001b[39;49m\u001b[43mfit\u001b[49m\u001b[43m(\u001b[49m\u001b[43mtrain_x\u001b[49m\u001b[43m,\u001b[49m\u001b[43m \u001b[49m\u001b[43mtrain_y\u001b[49m\u001b[43m)\u001b[49m\n\u001b[1;32m     11\u001b[0m predicted_probs \u001b[38;5;241m=\u001b[39m voting_classifier\u001b[38;5;241m.\u001b[39mpredict_proba(test_x)[:, :\u001b[38;5;241m-\u001b[39m\u001b[38;5;241m1\u001b[39m] \u001b[38;5;66;03m# Filtering out 8th's target (No Faults)\u001b[39;00m\n",
      "File \u001b[0;32m/opt/anaconda3/envs/cse/lib/python3.12/site-packages/sklearn/base.py:1474\u001b[0m, in \u001b[0;36m_fit_context.<locals>.decorator.<locals>.wrapper\u001b[0;34m(estimator, *args, **kwargs)\u001b[0m\n\u001b[1;32m   1467\u001b[0m     estimator\u001b[38;5;241m.\u001b[39m_validate_params()\n\u001b[1;32m   1469\u001b[0m \u001b[38;5;28;01mwith\u001b[39;00m config_context(\n\u001b[1;32m   1470\u001b[0m     skip_parameter_validation\u001b[38;5;241m=\u001b[39m(\n\u001b[1;32m   1471\u001b[0m         prefer_skip_nested_validation \u001b[38;5;129;01mor\u001b[39;00m global_skip_validation\n\u001b[1;32m   1472\u001b[0m     )\n\u001b[1;32m   1473\u001b[0m ):\n\u001b[0;32m-> 1474\u001b[0m     \u001b[38;5;28;01mreturn\u001b[39;00m \u001b[43mfit_method\u001b[49m\u001b[43m(\u001b[49m\u001b[43mestimator\u001b[49m\u001b[43m,\u001b[49m\u001b[43m \u001b[49m\u001b[38;5;241;43m*\u001b[39;49m\u001b[43margs\u001b[49m\u001b[43m,\u001b[49m\u001b[43m \u001b[49m\u001b[38;5;241;43m*\u001b[39;49m\u001b[38;5;241;43m*\u001b[39;49m\u001b[43mkwargs\u001b[49m\u001b[43m)\u001b[49m\n",
      "File \u001b[0;32m/opt/anaconda3/envs/cse/lib/python3.12/site-packages/sklearn/ensemble/_voting.py:366\u001b[0m, in \u001b[0;36mVotingClassifier.fit\u001b[0;34m(self, X, y, sample_weight)\u001b[0m\n\u001b[1;32m    363\u001b[0m \u001b[38;5;28mself\u001b[39m\u001b[38;5;241m.\u001b[39mclasses_ \u001b[38;5;241m=\u001b[39m \u001b[38;5;28mself\u001b[39m\u001b[38;5;241m.\u001b[39mle_\u001b[38;5;241m.\u001b[39mclasses_\n\u001b[1;32m    364\u001b[0m transformed_y \u001b[38;5;241m=\u001b[39m \u001b[38;5;28mself\u001b[39m\u001b[38;5;241m.\u001b[39mle_\u001b[38;5;241m.\u001b[39mtransform(y)\n\u001b[0;32m--> 366\u001b[0m \u001b[38;5;28;01mreturn\u001b[39;00m \u001b[38;5;28;43msuper\u001b[39;49m\u001b[43m(\u001b[49m\u001b[43m)\u001b[49m\u001b[38;5;241;43m.\u001b[39;49m\u001b[43mfit\u001b[49m\u001b[43m(\u001b[49m\u001b[43mX\u001b[49m\u001b[43m,\u001b[49m\u001b[43m \u001b[49m\u001b[43mtransformed_y\u001b[49m\u001b[43m,\u001b[49m\u001b[43m \u001b[49m\u001b[43msample_weight\u001b[49m\u001b[43m)\u001b[49m\n",
      "File \u001b[0;32m/opt/anaconda3/envs/cse/lib/python3.12/site-packages/sklearn/ensemble/_voting.py:89\u001b[0m, in \u001b[0;36m_BaseVoting.fit\u001b[0;34m(self, X, y, sample_weight)\u001b[0m\n\u001b[1;32m     83\u001b[0m \u001b[38;5;28;01mif\u001b[39;00m \u001b[38;5;28mself\u001b[39m\u001b[38;5;241m.\u001b[39mweights \u001b[38;5;129;01mis\u001b[39;00m \u001b[38;5;129;01mnot\u001b[39;00m \u001b[38;5;28;01mNone\u001b[39;00m \u001b[38;5;129;01mand\u001b[39;00m \u001b[38;5;28mlen\u001b[39m(\u001b[38;5;28mself\u001b[39m\u001b[38;5;241m.\u001b[39mweights) \u001b[38;5;241m!=\u001b[39m \u001b[38;5;28mlen\u001b[39m(\u001b[38;5;28mself\u001b[39m\u001b[38;5;241m.\u001b[39mestimators):\n\u001b[1;32m     84\u001b[0m     \u001b[38;5;28;01mraise\u001b[39;00m \u001b[38;5;167;01mValueError\u001b[39;00m(\n\u001b[1;32m     85\u001b[0m         \u001b[38;5;124m\"\u001b[39m\u001b[38;5;124mNumber of `estimators` and weights must be equal; got\u001b[39m\u001b[38;5;124m\"\u001b[39m\n\u001b[1;32m     86\u001b[0m         \u001b[38;5;124mf\u001b[39m\u001b[38;5;124m\"\u001b[39m\u001b[38;5;124m \u001b[39m\u001b[38;5;132;01m{\u001b[39;00m\u001b[38;5;28mlen\u001b[39m(\u001b[38;5;28mself\u001b[39m\u001b[38;5;241m.\u001b[39mweights)\u001b[38;5;132;01m}\u001b[39;00m\u001b[38;5;124m weights, \u001b[39m\u001b[38;5;132;01m{\u001b[39;00m\u001b[38;5;28mlen\u001b[39m(\u001b[38;5;28mself\u001b[39m\u001b[38;5;241m.\u001b[39mestimators)\u001b[38;5;132;01m}\u001b[39;00m\u001b[38;5;124m estimators\u001b[39m\u001b[38;5;124m\"\u001b[39m\n\u001b[1;32m     87\u001b[0m     )\n\u001b[0;32m---> 89\u001b[0m \u001b[38;5;28mself\u001b[39m\u001b[38;5;241m.\u001b[39mestimators_ \u001b[38;5;241m=\u001b[39m \u001b[43mParallel\u001b[49m\u001b[43m(\u001b[49m\u001b[43mn_jobs\u001b[49m\u001b[38;5;241;43m=\u001b[39;49m\u001b[38;5;28;43mself\u001b[39;49m\u001b[38;5;241;43m.\u001b[39;49m\u001b[43mn_jobs\u001b[49m\u001b[43m)\u001b[49m\u001b[43m(\u001b[49m\n\u001b[1;32m     90\u001b[0m \u001b[43m    \u001b[49m\u001b[43mdelayed\u001b[49m\u001b[43m(\u001b[49m\u001b[43m_fit_single_estimator\u001b[49m\u001b[43m)\u001b[49m\u001b[43m(\u001b[49m\n\u001b[1;32m     91\u001b[0m \u001b[43m        \u001b[49m\u001b[43mclone\u001b[49m\u001b[43m(\u001b[49m\u001b[43mclf\u001b[49m\u001b[43m)\u001b[49m\u001b[43m,\u001b[49m\n\u001b[1;32m     92\u001b[0m \u001b[43m        \u001b[49m\u001b[43mX\u001b[49m\u001b[43m,\u001b[49m\n\u001b[1;32m     93\u001b[0m \u001b[43m        \u001b[49m\u001b[43my\u001b[49m\u001b[43m,\u001b[49m\n\u001b[1;32m     94\u001b[0m \u001b[43m        \u001b[49m\u001b[43msample_weight\u001b[49m\u001b[38;5;241;43m=\u001b[39;49m\u001b[43msample_weight\u001b[49m\u001b[43m,\u001b[49m\n\u001b[1;32m     95\u001b[0m \u001b[43m        \u001b[49m\u001b[43mmessage_clsname\u001b[49m\u001b[38;5;241;43m=\u001b[39;49m\u001b[38;5;124;43m\"\u001b[39;49m\u001b[38;5;124;43mVoting\u001b[39;49m\u001b[38;5;124;43m\"\u001b[39;49m\u001b[43m,\u001b[49m\n\u001b[1;32m     96\u001b[0m \u001b[43m        \u001b[49m\u001b[43mmessage\u001b[49m\u001b[38;5;241;43m=\u001b[39;49m\u001b[38;5;28;43mself\u001b[39;49m\u001b[38;5;241;43m.\u001b[39;49m\u001b[43m_log_message\u001b[49m\u001b[43m(\u001b[49m\u001b[43mnames\u001b[49m\u001b[43m[\u001b[49m\u001b[43midx\u001b[49m\u001b[43m]\u001b[49m\u001b[43m,\u001b[49m\u001b[43m \u001b[49m\u001b[43midx\u001b[49m\u001b[43m \u001b[49m\u001b[38;5;241;43m+\u001b[39;49m\u001b[43m \u001b[49m\u001b[38;5;241;43m1\u001b[39;49m\u001b[43m,\u001b[49m\u001b[43m \u001b[49m\u001b[38;5;28;43mlen\u001b[39;49m\u001b[43m(\u001b[49m\u001b[43mclfs\u001b[49m\u001b[43m)\u001b[49m\u001b[43m)\u001b[49m\u001b[43m,\u001b[49m\n\u001b[1;32m     97\u001b[0m \u001b[43m    \u001b[49m\u001b[43m)\u001b[49m\n\u001b[1;32m     98\u001b[0m \u001b[43m    \u001b[49m\u001b[38;5;28;43;01mfor\u001b[39;49;00m\u001b[43m \u001b[49m\u001b[43midx\u001b[49m\u001b[43m,\u001b[49m\u001b[43m \u001b[49m\u001b[43mclf\u001b[49m\u001b[43m \u001b[49m\u001b[38;5;129;43;01min\u001b[39;49;00m\u001b[43m \u001b[49m\u001b[38;5;28;43menumerate\u001b[39;49m\u001b[43m(\u001b[49m\u001b[43mclfs\u001b[49m\u001b[43m)\u001b[49m\n\u001b[1;32m     99\u001b[0m \u001b[43m    \u001b[49m\u001b[38;5;28;43;01mif\u001b[39;49;00m\u001b[43m \u001b[49m\u001b[43mclf\u001b[49m\u001b[43m \u001b[49m\u001b[38;5;241;43m!=\u001b[39;49m\u001b[43m \u001b[49m\u001b[38;5;124;43m\"\u001b[39;49m\u001b[38;5;124;43mdrop\u001b[39;49m\u001b[38;5;124;43m\"\u001b[39;49m\n\u001b[1;32m    100\u001b[0m \u001b[43m\u001b[49m\u001b[43m)\u001b[49m\n\u001b[1;32m    102\u001b[0m \u001b[38;5;28mself\u001b[39m\u001b[38;5;241m.\u001b[39mnamed_estimators_ \u001b[38;5;241m=\u001b[39m Bunch()\n\u001b[1;32m    104\u001b[0m \u001b[38;5;66;03m# Uses 'drop' as placeholder for dropped estimators\u001b[39;00m\n",
      "File \u001b[0;32m/opt/anaconda3/envs/cse/lib/python3.12/site-packages/sklearn/utils/parallel.py:67\u001b[0m, in \u001b[0;36mParallel.__call__\u001b[0;34m(self, iterable)\u001b[0m\n\u001b[1;32m     62\u001b[0m config \u001b[38;5;241m=\u001b[39m get_config()\n\u001b[1;32m     63\u001b[0m iterable_with_config \u001b[38;5;241m=\u001b[39m (\n\u001b[1;32m     64\u001b[0m     (_with_config(delayed_func, config), args, kwargs)\n\u001b[1;32m     65\u001b[0m     \u001b[38;5;28;01mfor\u001b[39;00m delayed_func, args, kwargs \u001b[38;5;129;01min\u001b[39;00m iterable\n\u001b[1;32m     66\u001b[0m )\n\u001b[0;32m---> 67\u001b[0m \u001b[38;5;28;01mreturn\u001b[39;00m \u001b[38;5;28;43msuper\u001b[39;49m\u001b[43m(\u001b[49m\u001b[43m)\u001b[49m\u001b[38;5;241;43m.\u001b[39;49m\u001b[38;5;21;43m__call__\u001b[39;49m\u001b[43m(\u001b[49m\u001b[43miterable_with_config\u001b[49m\u001b[43m)\u001b[49m\n",
      "File \u001b[0;32m/opt/anaconda3/envs/cse/lib/python3.12/site-packages/joblib/parallel.py:1863\u001b[0m, in \u001b[0;36mParallel.__call__\u001b[0;34m(self, iterable)\u001b[0m\n\u001b[1;32m   1861\u001b[0m     output \u001b[38;5;241m=\u001b[39m \u001b[38;5;28mself\u001b[39m\u001b[38;5;241m.\u001b[39m_get_sequential_output(iterable)\n\u001b[1;32m   1862\u001b[0m     \u001b[38;5;28mnext\u001b[39m(output)\n\u001b[0;32m-> 1863\u001b[0m     \u001b[38;5;28;01mreturn\u001b[39;00m output \u001b[38;5;28;01mif\u001b[39;00m \u001b[38;5;28mself\u001b[39m\u001b[38;5;241m.\u001b[39mreturn_generator \u001b[38;5;28;01melse\u001b[39;00m \u001b[38;5;28;43mlist\u001b[39;49m\u001b[43m(\u001b[49m\u001b[43moutput\u001b[49m\u001b[43m)\u001b[49m\n\u001b[1;32m   1865\u001b[0m \u001b[38;5;66;03m# Let's create an ID that uniquely identifies the current call. If the\u001b[39;00m\n\u001b[1;32m   1866\u001b[0m \u001b[38;5;66;03m# call is interrupted early and that the same instance is immediately\u001b[39;00m\n\u001b[1;32m   1867\u001b[0m \u001b[38;5;66;03m# re-used, this id will be used to prevent workers that were\u001b[39;00m\n\u001b[1;32m   1868\u001b[0m \u001b[38;5;66;03m# concurrently finalizing a task from the previous call to run the\u001b[39;00m\n\u001b[1;32m   1869\u001b[0m \u001b[38;5;66;03m# callback.\u001b[39;00m\n\u001b[1;32m   1870\u001b[0m \u001b[38;5;28;01mwith\u001b[39;00m \u001b[38;5;28mself\u001b[39m\u001b[38;5;241m.\u001b[39m_lock:\n",
      "File \u001b[0;32m/opt/anaconda3/envs/cse/lib/python3.12/site-packages/joblib/parallel.py:1792\u001b[0m, in \u001b[0;36mParallel._get_sequential_output\u001b[0;34m(self, iterable)\u001b[0m\n\u001b[1;32m   1790\u001b[0m \u001b[38;5;28mself\u001b[39m\u001b[38;5;241m.\u001b[39mn_dispatched_batches \u001b[38;5;241m+\u001b[39m\u001b[38;5;241m=\u001b[39m \u001b[38;5;241m1\u001b[39m\n\u001b[1;32m   1791\u001b[0m \u001b[38;5;28mself\u001b[39m\u001b[38;5;241m.\u001b[39mn_dispatched_tasks \u001b[38;5;241m+\u001b[39m\u001b[38;5;241m=\u001b[39m \u001b[38;5;241m1\u001b[39m\n\u001b[0;32m-> 1792\u001b[0m res \u001b[38;5;241m=\u001b[39m \u001b[43mfunc\u001b[49m\u001b[43m(\u001b[49m\u001b[38;5;241;43m*\u001b[39;49m\u001b[43margs\u001b[49m\u001b[43m,\u001b[49m\u001b[43m \u001b[49m\u001b[38;5;241;43m*\u001b[39;49m\u001b[38;5;241;43m*\u001b[39;49m\u001b[43mkwargs\u001b[49m\u001b[43m)\u001b[49m\n\u001b[1;32m   1793\u001b[0m \u001b[38;5;28mself\u001b[39m\u001b[38;5;241m.\u001b[39mn_completed_tasks \u001b[38;5;241m+\u001b[39m\u001b[38;5;241m=\u001b[39m \u001b[38;5;241m1\u001b[39m\n\u001b[1;32m   1794\u001b[0m \u001b[38;5;28mself\u001b[39m\u001b[38;5;241m.\u001b[39mprint_progress()\n",
      "File \u001b[0;32m/opt/anaconda3/envs/cse/lib/python3.12/site-packages/sklearn/utils/parallel.py:129\u001b[0m, in \u001b[0;36m_FuncWrapper.__call__\u001b[0;34m(self, *args, **kwargs)\u001b[0m\n\u001b[1;32m    127\u001b[0m     config \u001b[38;5;241m=\u001b[39m {}\n\u001b[1;32m    128\u001b[0m \u001b[38;5;28;01mwith\u001b[39;00m config_context(\u001b[38;5;241m*\u001b[39m\u001b[38;5;241m*\u001b[39mconfig):\n\u001b[0;32m--> 129\u001b[0m     \u001b[38;5;28;01mreturn\u001b[39;00m \u001b[38;5;28;43mself\u001b[39;49m\u001b[38;5;241;43m.\u001b[39;49m\u001b[43mfunction\u001b[49m\u001b[43m(\u001b[49m\u001b[38;5;241;43m*\u001b[39;49m\u001b[43margs\u001b[49m\u001b[43m,\u001b[49m\u001b[43m \u001b[49m\u001b[38;5;241;43m*\u001b[39;49m\u001b[38;5;241;43m*\u001b[39;49m\u001b[43mkwargs\u001b[49m\u001b[43m)\u001b[49m\n",
      "File \u001b[0;32m/opt/anaconda3/envs/cse/lib/python3.12/site-packages/sklearn/ensemble/_base.py:36\u001b[0m, in \u001b[0;36m_fit_single_estimator\u001b[0;34m(estimator, X, y, sample_weight, message_clsname, message)\u001b[0m\n\u001b[1;32m     34\u001b[0m \u001b[38;5;28;01melse\u001b[39;00m:\n\u001b[1;32m     35\u001b[0m     \u001b[38;5;28;01mwith\u001b[39;00m _print_elapsed_time(message_clsname, message):\n\u001b[0;32m---> 36\u001b[0m         \u001b[43mestimator\u001b[49m\u001b[38;5;241;43m.\u001b[39;49m\u001b[43mfit\u001b[49m\u001b[43m(\u001b[49m\u001b[43mX\u001b[49m\u001b[43m,\u001b[49m\u001b[43m \u001b[49m\u001b[43my\u001b[49m\u001b[43m)\u001b[49m\n\u001b[1;32m     37\u001b[0m \u001b[38;5;28;01mreturn\u001b[39;00m estimator\n",
      "File \u001b[0;32m/opt/anaconda3/envs/cse/lib/python3.12/site-packages/lightgbm/sklearn.py:1145\u001b[0m, in \u001b[0;36mLGBMClassifier.fit\u001b[0;34m(self, X, y, sample_weight, init_score, eval_set, eval_names, eval_sample_weight, eval_class_weight, eval_init_score, eval_metric, feature_name, categorical_feature, callbacks, init_model)\u001b[0m\n\u001b[1;32m   1143\u001b[0m \u001b[38;5;28mself\u001b[39m\u001b[38;5;241m.\u001b[39m_class_map \u001b[38;5;241m=\u001b[39m \u001b[38;5;28mdict\u001b[39m(\u001b[38;5;28mzip\u001b[39m(\u001b[38;5;28mself\u001b[39m\u001b[38;5;241m.\u001b[39m_le\u001b[38;5;241m.\u001b[39mclasses_, \u001b[38;5;28mself\u001b[39m\u001b[38;5;241m.\u001b[39m_le\u001b[38;5;241m.\u001b[39mtransform(\u001b[38;5;28mself\u001b[39m\u001b[38;5;241m.\u001b[39m_le\u001b[38;5;241m.\u001b[39mclasses_)))\n\u001b[1;32m   1144\u001b[0m \u001b[38;5;28;01mif\u001b[39;00m \u001b[38;5;28misinstance\u001b[39m(\u001b[38;5;28mself\u001b[39m\u001b[38;5;241m.\u001b[39mclass_weight, \u001b[38;5;28mdict\u001b[39m):\n\u001b[0;32m-> 1145\u001b[0m     \u001b[38;5;28mself\u001b[39m\u001b[38;5;241m.\u001b[39m_class_weight \u001b[38;5;241m=\u001b[39m {\u001b[38;5;28;43mself\u001b[39;49m\u001b[38;5;241;43m.\u001b[39;49m\u001b[43m_class_map\u001b[49m\u001b[43m[\u001b[49m\u001b[43mk\u001b[49m\u001b[43m]\u001b[49m: v \u001b[38;5;28;01mfor\u001b[39;00m k, v \u001b[38;5;129;01min\u001b[39;00m \u001b[38;5;28mself\u001b[39m\u001b[38;5;241m.\u001b[39mclass_weight\u001b[38;5;241m.\u001b[39mitems()}\n\u001b[1;32m   1147\u001b[0m \u001b[38;5;28mself\u001b[39m\u001b[38;5;241m.\u001b[39m_classes \u001b[38;5;241m=\u001b[39m \u001b[38;5;28mself\u001b[39m\u001b[38;5;241m.\u001b[39m_le\u001b[38;5;241m.\u001b[39mclasses_\n\u001b[1;32m   1148\u001b[0m \u001b[38;5;28mself\u001b[39m\u001b[38;5;241m.\u001b[39m_n_classes \u001b[38;5;241m=\u001b[39m \u001b[38;5;28mlen\u001b[39m(\u001b[38;5;28mself\u001b[39m\u001b[38;5;241m.\u001b[39m_classes)  \u001b[38;5;66;03m# type: ignore[arg-type]\u001b[39;00m\n",
      "\u001b[0;31mKeyError\u001b[0m: 7"
     ]
    }
   ],
   "source": [
    "voting_classifier = VotingClassifier(\n",
    "    estimators=voting_estimators,\n",
    "    voting='soft',\n",
    "    weights=[\n",
    "            3.9963209507789, 4.765892955447102,1.530989398169959\n",
    "        ],\n",
    "    )\n",
    "    \n",
    "voting_classifier.fit(train_x, train_y)\n",
    "\n",
    "predicted_probs = voting_classifier.predict_proba(test_x)[:, :-1] # Filtering out 8th's target (No Faults)"
   ]
  },
  {
   "cell_type": "markdown",
   "id": "cdf75ce4-4365-4dcb-87df-4fbed86bd9dd",
   "metadata": {
    "jp-MarkdownHeadingCollapsed": true
   },
   "source": [
    "#### Catboost"
   ]
  },
  {
   "cell_type": "code",
   "execution_count": null,
   "id": "f82b75ab-bf35-4b41-9f23-c801f5fb64a6",
   "metadata": {},
   "outputs": [],
   "source": [
    "from catboost import CatBoostClassifier\n",
    "\n",
    "\n",
    "model = CatBoostClassifier(task_type = 'GPU',iterations=320,learning_rate= 4.5e-2,depth= 13, l2_leaf_reg=1e-3,bootstrap_type=\"Bayesian\",random_strength=1e-8,bagging_temperature=0.5,od_wait=10,verbose=False)\n",
    "\n",
    "model.fit(train_x, train_y)\n",
    "y_pred = model.predict(test_x)\n",
    "accuracy_score(test_y, y_pred)\n",
    "\n",
    "\n"
   ]
  },
  {
   "cell_type": "code",
   "execution_count": 23,
   "id": "55bf1c86-3973-4285-a678-3eea6dba73c4",
   "metadata": {
    "collapsed": true,
    "jupyter": {
     "outputs_hidden": true
    }
   },
   "outputs": [
    {
     "name": "stderr",
     "output_type": "stream",
     "text": [
      "[W 2024-03-08 08:51:31,684] Trial 0 failed with parameters: {'iterations': 475, 'learning_rate': 0.027583475549166746, 'depth': 4, 'l2_leaf_reg': 1.0551779964424746e-05, 'bootstrap_type': 'Bayesian', 'random_strength': 2.0931628460945333e-07, 'bagging_temperature': 0.923385947687978, 'od_type': 'Iter', 'od_wait': 26} because of the following error: CatBoostError(\"/src/catboost/catboost/cuda/cuda_lib/cuda_manager.cpp:201: Condition violated: `State == nullptr'\").\n",
      "Traceback (most recent call last):\n",
      "  File \"/opt/anaconda3/envs/cse/lib/python3.12/site-packages/optuna/study/_optimize.py\", line 200, in _run_trial\n",
      "    value_or_values = func(trial)\n",
      "                      ^^^^^^^^^^^\n",
      "  File \"/tmp/ipykernel_45788/1733134025.py\", line 17, in objective\n",
      "    model.fit(train_x, train_y)\n",
      "  File \"/opt/anaconda3/envs/cse/lib/python3.12/site-packages/catboost/core.py\", line 5201, in fit\n",
      "    self._fit(X, y, cat_features, text_features, embedding_features, None, sample_weight, None, None, None, None, baseline, use_best_model,\n",
      "  File \"/opt/anaconda3/envs/cse/lib/python3.12/site-packages/catboost/core.py\", line 2396, in _fit\n",
      "    self._train(\n",
      "  File \"/opt/anaconda3/envs/cse/lib/python3.12/site-packages/catboost/core.py\", line 1776, in _train\n",
      "    self._object._train(train_pool, test_pool, params, allow_clear_pool, init_model._object if init_model else None)\n",
      "  File \"_catboost.pyx\", line 4833, in _catboost._CatBoost._train\n",
      "  File \"_catboost.pyx\", line 4882, in _catboost._CatBoost._train\n",
      "_catboost.CatBoostError: /src/catboost/catboost/cuda/cuda_lib/cuda_manager.cpp:201: Condition violated: `State == nullptr'\n",
      "[W 2024-03-08 08:51:31,684] Trial 0 failed with value None.\n"
     ]
    },
    {
     "ename": "CatBoostError",
     "evalue": "/src/catboost/catboost/cuda/cuda_lib/cuda_manager.cpp:201: Condition violated: `State == nullptr'",
     "output_type": "error",
     "traceback": [
      "\u001b[0;31m---------------------------------------------------------------------------\u001b[0m",
      "\u001b[0;31mCatBoostError\u001b[0m                             Traceback (most recent call last)",
      "Cell \u001b[0;32mIn[23], line 5\u001b[0m\n\u001b[1;32m      3\u001b[0m sampler \u001b[38;5;241m=\u001b[39m TPESampler(seed\u001b[38;5;241m=\u001b[39m\u001b[38;5;241m1\u001b[39m)\n\u001b[1;32m      4\u001b[0m study \u001b[38;5;241m=\u001b[39m optuna\u001b[38;5;241m.\u001b[39mcreate_study(study_name\u001b[38;5;241m=\u001b[39m\u001b[38;5;124m\"\u001b[39m\u001b[38;5;124mcatboost\u001b[39m\u001b[38;5;124m\"\u001b[39m, direction\u001b[38;5;241m=\u001b[39m\u001b[38;5;124m\"\u001b[39m\u001b[38;5;124mmaximize\u001b[39m\u001b[38;5;124m\"\u001b[39m, sampler\u001b[38;5;241m=\u001b[39msampler)\n\u001b[0;32m----> 5\u001b[0m \u001b[43mstudy\u001b[49m\u001b[38;5;241;43m.\u001b[39;49m\u001b[43moptimize\u001b[49m\u001b[43m(\u001b[49m\u001b[43mobjective\u001b[49m\u001b[43m,\u001b[49m\u001b[43m \u001b[49m\u001b[43mn_trials\u001b[49m\u001b[38;5;241;43m=\u001b[39;49m\u001b[38;5;241;43m100\u001b[39;49m\u001b[43m)\u001b[49m\n",
      "File \u001b[0;32m/opt/anaconda3/envs/cse/lib/python3.12/site-packages/optuna/study/study.py:451\u001b[0m, in \u001b[0;36mStudy.optimize\u001b[0;34m(self, func, n_trials, timeout, n_jobs, catch, callbacks, gc_after_trial, show_progress_bar)\u001b[0m\n\u001b[1;32m    348\u001b[0m \u001b[38;5;28;01mdef\u001b[39;00m \u001b[38;5;21moptimize\u001b[39m(\n\u001b[1;32m    349\u001b[0m     \u001b[38;5;28mself\u001b[39m,\n\u001b[1;32m    350\u001b[0m     func: ObjectiveFuncType,\n\u001b[0;32m   (...)\u001b[0m\n\u001b[1;32m    357\u001b[0m     show_progress_bar: \u001b[38;5;28mbool\u001b[39m \u001b[38;5;241m=\u001b[39m \u001b[38;5;28;01mFalse\u001b[39;00m,\n\u001b[1;32m    358\u001b[0m ) \u001b[38;5;241m-\u001b[39m\u001b[38;5;241m>\u001b[39m \u001b[38;5;28;01mNone\u001b[39;00m:\n\u001b[1;32m    359\u001b[0m \u001b[38;5;250m    \u001b[39m\u001b[38;5;124;03m\"\"\"Optimize an objective function.\u001b[39;00m\n\u001b[1;32m    360\u001b[0m \n\u001b[1;32m    361\u001b[0m \u001b[38;5;124;03m    Optimization is done by choosing a suitable set of hyperparameter values from a given\u001b[39;00m\n\u001b[0;32m   (...)\u001b[0m\n\u001b[1;32m    449\u001b[0m \u001b[38;5;124;03m            If nested invocation of this method occurs.\u001b[39;00m\n\u001b[1;32m    450\u001b[0m \u001b[38;5;124;03m    \"\"\"\u001b[39;00m\n\u001b[0;32m--> 451\u001b[0m     \u001b[43m_optimize\u001b[49m\u001b[43m(\u001b[49m\n\u001b[1;32m    452\u001b[0m \u001b[43m        \u001b[49m\u001b[43mstudy\u001b[49m\u001b[38;5;241;43m=\u001b[39;49m\u001b[38;5;28;43mself\u001b[39;49m\u001b[43m,\u001b[49m\n\u001b[1;32m    453\u001b[0m \u001b[43m        \u001b[49m\u001b[43mfunc\u001b[49m\u001b[38;5;241;43m=\u001b[39;49m\u001b[43mfunc\u001b[49m\u001b[43m,\u001b[49m\n\u001b[1;32m    454\u001b[0m \u001b[43m        \u001b[49m\u001b[43mn_trials\u001b[49m\u001b[38;5;241;43m=\u001b[39;49m\u001b[43mn_trials\u001b[49m\u001b[43m,\u001b[49m\n\u001b[1;32m    455\u001b[0m \u001b[43m        \u001b[49m\u001b[43mtimeout\u001b[49m\u001b[38;5;241;43m=\u001b[39;49m\u001b[43mtimeout\u001b[49m\u001b[43m,\u001b[49m\n\u001b[1;32m    456\u001b[0m \u001b[43m        \u001b[49m\u001b[43mn_jobs\u001b[49m\u001b[38;5;241;43m=\u001b[39;49m\u001b[43mn_jobs\u001b[49m\u001b[43m,\u001b[49m\n\u001b[1;32m    457\u001b[0m \u001b[43m        \u001b[49m\u001b[43mcatch\u001b[49m\u001b[38;5;241;43m=\u001b[39;49m\u001b[38;5;28;43mtuple\u001b[39;49m\u001b[43m(\u001b[49m\u001b[43mcatch\u001b[49m\u001b[43m)\u001b[49m\u001b[43m \u001b[49m\u001b[38;5;28;43;01mif\u001b[39;49;00m\u001b[43m \u001b[49m\u001b[38;5;28;43misinstance\u001b[39;49m\u001b[43m(\u001b[49m\u001b[43mcatch\u001b[49m\u001b[43m,\u001b[49m\u001b[43m \u001b[49m\u001b[43mIterable\u001b[49m\u001b[43m)\u001b[49m\u001b[43m \u001b[49m\u001b[38;5;28;43;01melse\u001b[39;49;00m\u001b[43m \u001b[49m\u001b[43m(\u001b[49m\u001b[43mcatch\u001b[49m\u001b[43m,\u001b[49m\u001b[43m)\u001b[49m\u001b[43m,\u001b[49m\n\u001b[1;32m    458\u001b[0m \u001b[43m        \u001b[49m\u001b[43mcallbacks\u001b[49m\u001b[38;5;241;43m=\u001b[39;49m\u001b[43mcallbacks\u001b[49m\u001b[43m,\u001b[49m\n\u001b[1;32m    459\u001b[0m \u001b[43m        \u001b[49m\u001b[43mgc_after_trial\u001b[49m\u001b[38;5;241;43m=\u001b[39;49m\u001b[43mgc_after_trial\u001b[49m\u001b[43m,\u001b[49m\n\u001b[1;32m    460\u001b[0m \u001b[43m        \u001b[49m\u001b[43mshow_progress_bar\u001b[49m\u001b[38;5;241;43m=\u001b[39;49m\u001b[43mshow_progress_bar\u001b[49m\u001b[43m,\u001b[49m\n\u001b[1;32m    461\u001b[0m \u001b[43m    \u001b[49m\u001b[43m)\u001b[49m\n",
      "File \u001b[0;32m/opt/anaconda3/envs/cse/lib/python3.12/site-packages/optuna/study/_optimize.py:66\u001b[0m, in \u001b[0;36m_optimize\u001b[0;34m(study, func, n_trials, timeout, n_jobs, catch, callbacks, gc_after_trial, show_progress_bar)\u001b[0m\n\u001b[1;32m     64\u001b[0m \u001b[38;5;28;01mtry\u001b[39;00m:\n\u001b[1;32m     65\u001b[0m     \u001b[38;5;28;01mif\u001b[39;00m n_jobs \u001b[38;5;241m==\u001b[39m \u001b[38;5;241m1\u001b[39m:\n\u001b[0;32m---> 66\u001b[0m         \u001b[43m_optimize_sequential\u001b[49m\u001b[43m(\u001b[49m\n\u001b[1;32m     67\u001b[0m \u001b[43m            \u001b[49m\u001b[43mstudy\u001b[49m\u001b[43m,\u001b[49m\n\u001b[1;32m     68\u001b[0m \u001b[43m            \u001b[49m\u001b[43mfunc\u001b[49m\u001b[43m,\u001b[49m\n\u001b[1;32m     69\u001b[0m \u001b[43m            \u001b[49m\u001b[43mn_trials\u001b[49m\u001b[43m,\u001b[49m\n\u001b[1;32m     70\u001b[0m \u001b[43m            \u001b[49m\u001b[43mtimeout\u001b[49m\u001b[43m,\u001b[49m\n\u001b[1;32m     71\u001b[0m \u001b[43m            \u001b[49m\u001b[43mcatch\u001b[49m\u001b[43m,\u001b[49m\n\u001b[1;32m     72\u001b[0m \u001b[43m            \u001b[49m\u001b[43mcallbacks\u001b[49m\u001b[43m,\u001b[49m\n\u001b[1;32m     73\u001b[0m \u001b[43m            \u001b[49m\u001b[43mgc_after_trial\u001b[49m\u001b[43m,\u001b[49m\n\u001b[1;32m     74\u001b[0m \u001b[43m            \u001b[49m\u001b[43mreseed_sampler_rng\u001b[49m\u001b[38;5;241;43m=\u001b[39;49m\u001b[38;5;28;43;01mFalse\u001b[39;49;00m\u001b[43m,\u001b[49m\n\u001b[1;32m     75\u001b[0m \u001b[43m            \u001b[49m\u001b[43mtime_start\u001b[49m\u001b[38;5;241;43m=\u001b[39;49m\u001b[38;5;28;43;01mNone\u001b[39;49;00m\u001b[43m,\u001b[49m\n\u001b[1;32m     76\u001b[0m \u001b[43m            \u001b[49m\u001b[43mprogress_bar\u001b[49m\u001b[38;5;241;43m=\u001b[39;49m\u001b[43mprogress_bar\u001b[49m\u001b[43m,\u001b[49m\n\u001b[1;32m     77\u001b[0m \u001b[43m        \u001b[49m\u001b[43m)\u001b[49m\n\u001b[1;32m     78\u001b[0m     \u001b[38;5;28;01melse\u001b[39;00m:\n\u001b[1;32m     79\u001b[0m         \u001b[38;5;28;01mif\u001b[39;00m n_jobs \u001b[38;5;241m==\u001b[39m \u001b[38;5;241m-\u001b[39m\u001b[38;5;241m1\u001b[39m:\n",
      "File \u001b[0;32m/opt/anaconda3/envs/cse/lib/python3.12/site-packages/optuna/study/_optimize.py:163\u001b[0m, in \u001b[0;36m_optimize_sequential\u001b[0;34m(study, func, n_trials, timeout, catch, callbacks, gc_after_trial, reseed_sampler_rng, time_start, progress_bar)\u001b[0m\n\u001b[1;32m    160\u001b[0m         \u001b[38;5;28;01mbreak\u001b[39;00m\n\u001b[1;32m    162\u001b[0m \u001b[38;5;28;01mtry\u001b[39;00m:\n\u001b[0;32m--> 163\u001b[0m     frozen_trial \u001b[38;5;241m=\u001b[39m \u001b[43m_run_trial\u001b[49m\u001b[43m(\u001b[49m\u001b[43mstudy\u001b[49m\u001b[43m,\u001b[49m\u001b[43m \u001b[49m\u001b[43mfunc\u001b[49m\u001b[43m,\u001b[49m\u001b[43m \u001b[49m\u001b[43mcatch\u001b[49m\u001b[43m)\u001b[49m\n\u001b[1;32m    164\u001b[0m \u001b[38;5;28;01mfinally\u001b[39;00m:\n\u001b[1;32m    165\u001b[0m     \u001b[38;5;66;03m# The following line mitigates memory problems that can be occurred in some\u001b[39;00m\n\u001b[1;32m    166\u001b[0m     \u001b[38;5;66;03m# environments (e.g., services that use computing containers such as GitHub Actions).\u001b[39;00m\n\u001b[1;32m    167\u001b[0m     \u001b[38;5;66;03m# Please refer to the following PR for further details:\u001b[39;00m\n\u001b[1;32m    168\u001b[0m     \u001b[38;5;66;03m# https://github.com/optuna/optuna/pull/325.\u001b[39;00m\n\u001b[1;32m    169\u001b[0m     \u001b[38;5;28;01mif\u001b[39;00m gc_after_trial:\n",
      "File \u001b[0;32m/opt/anaconda3/envs/cse/lib/python3.12/site-packages/optuna/study/_optimize.py:251\u001b[0m, in \u001b[0;36m_run_trial\u001b[0;34m(study, func, catch)\u001b[0m\n\u001b[1;32m    244\u001b[0m         \u001b[38;5;28;01massert\u001b[39;00m \u001b[38;5;28;01mFalse\u001b[39;00m, \u001b[38;5;124m\"\u001b[39m\u001b[38;5;124mShould not reach.\u001b[39m\u001b[38;5;124m\"\u001b[39m\n\u001b[1;32m    246\u001b[0m \u001b[38;5;28;01mif\u001b[39;00m (\n\u001b[1;32m    247\u001b[0m     frozen_trial\u001b[38;5;241m.\u001b[39mstate \u001b[38;5;241m==\u001b[39m TrialState\u001b[38;5;241m.\u001b[39mFAIL\n\u001b[1;32m    248\u001b[0m     \u001b[38;5;129;01mand\u001b[39;00m func_err \u001b[38;5;129;01mis\u001b[39;00m \u001b[38;5;129;01mnot\u001b[39;00m \u001b[38;5;28;01mNone\u001b[39;00m\n\u001b[1;32m    249\u001b[0m     \u001b[38;5;129;01mand\u001b[39;00m \u001b[38;5;129;01mnot\u001b[39;00m \u001b[38;5;28misinstance\u001b[39m(func_err, catch)\n\u001b[1;32m    250\u001b[0m ):\n\u001b[0;32m--> 251\u001b[0m     \u001b[38;5;28;01mraise\u001b[39;00m func_err\n\u001b[1;32m    252\u001b[0m \u001b[38;5;28;01mreturn\u001b[39;00m frozen_trial\n",
      "File \u001b[0;32m/opt/anaconda3/envs/cse/lib/python3.12/site-packages/optuna/study/_optimize.py:200\u001b[0m, in \u001b[0;36m_run_trial\u001b[0;34m(study, func, catch)\u001b[0m\n\u001b[1;32m    198\u001b[0m \u001b[38;5;28;01mwith\u001b[39;00m get_heartbeat_thread(trial\u001b[38;5;241m.\u001b[39m_trial_id, study\u001b[38;5;241m.\u001b[39m_storage):\n\u001b[1;32m    199\u001b[0m     \u001b[38;5;28;01mtry\u001b[39;00m:\n\u001b[0;32m--> 200\u001b[0m         value_or_values \u001b[38;5;241m=\u001b[39m \u001b[43mfunc\u001b[49m\u001b[43m(\u001b[49m\u001b[43mtrial\u001b[49m\u001b[43m)\u001b[49m\n\u001b[1;32m    201\u001b[0m     \u001b[38;5;28;01mexcept\u001b[39;00m exceptions\u001b[38;5;241m.\u001b[39mTrialPruned \u001b[38;5;28;01mas\u001b[39;00m e:\n\u001b[1;32m    202\u001b[0m         \u001b[38;5;66;03m# TODO(mamu): Handle multi-objective cases.\u001b[39;00m\n\u001b[1;32m    203\u001b[0m         state \u001b[38;5;241m=\u001b[39m TrialState\u001b[38;5;241m.\u001b[39mPRUNED\n",
      "Cell \u001b[0;32mIn[22], line 17\u001b[0m, in \u001b[0;36mobjective\u001b[0;34m(trial)\u001b[0m\n\u001b[1;32m      4\u001b[0m \u001b[38;5;28;01mdef\u001b[39;00m \u001b[38;5;21mobjective\u001b[39m(trial):\n\u001b[1;32m      5\u001b[0m     model \u001b[38;5;241m=\u001b[39m CatBoostClassifier(task_type \u001b[38;5;241m=\u001b[39m \u001b[38;5;124m'\u001b[39m\u001b[38;5;124mGPU\u001b[39m\u001b[38;5;124m'\u001b[39m,\n\u001b[1;32m      6\u001b[0m         iterations\u001b[38;5;241m=\u001b[39mtrial\u001b[38;5;241m.\u001b[39msuggest_int(\u001b[38;5;124m\"\u001b[39m\u001b[38;5;124miterations\u001b[39m\u001b[38;5;124m\"\u001b[39m, \u001b[38;5;241m100\u001b[39m, \u001b[38;5;241m1000\u001b[39m),\n\u001b[1;32m      7\u001b[0m         learning_rate\u001b[38;5;241m=\u001b[39mtrial\u001b[38;5;241m.\u001b[39msuggest_float(\u001b[38;5;124m\"\u001b[39m\u001b[38;5;124mlearning_rate\u001b[39m\u001b[38;5;124m\"\u001b[39m, \u001b[38;5;241m1e-3\u001b[39m, \u001b[38;5;241m1e-1\u001b[39m, log\u001b[38;5;241m=\u001b[39m\u001b[38;5;28;01mTrue\u001b[39;00m),\n\u001b[0;32m   (...)\u001b[0m\n\u001b[1;32m     15\u001b[0m         verbose\u001b[38;5;241m=\u001b[39m\u001b[38;5;28;01mFalse\u001b[39;00m\n\u001b[1;32m     16\u001b[0m     )\n\u001b[0;32m---> 17\u001b[0m     \u001b[43mmodel\u001b[49m\u001b[38;5;241;43m.\u001b[39;49m\u001b[43mfit\u001b[49m\u001b[43m(\u001b[49m\u001b[43mtrain_x\u001b[49m\u001b[43m,\u001b[49m\u001b[43m \u001b[49m\u001b[43mtrain_y\u001b[49m\u001b[43m)\u001b[49m\n\u001b[1;32m     18\u001b[0m     y_pred \u001b[38;5;241m=\u001b[39m model\u001b[38;5;241m.\u001b[39mpredict(test_x)\n\u001b[1;32m     19\u001b[0m     \u001b[38;5;28;01mreturn\u001b[39;00m accuracy_score(test_y, y_pred)\n",
      "File \u001b[0;32m/opt/anaconda3/envs/cse/lib/python3.12/site-packages/catboost/core.py:5201\u001b[0m, in \u001b[0;36mCatBoostClassifier.fit\u001b[0;34m(self, X, y, cat_features, text_features, embedding_features, sample_weight, baseline, use_best_model, eval_set, verbose, logging_level, plot, plot_file, column_description, verbose_eval, metric_period, silent, early_stopping_rounds, save_snapshot, snapshot_file, snapshot_interval, init_model, callbacks, log_cout, log_cerr)\u001b[0m\n\u001b[1;32m   5198\u001b[0m \u001b[38;5;28;01mif\u001b[39;00m \u001b[38;5;124m'\u001b[39m\u001b[38;5;124mloss_function\u001b[39m\u001b[38;5;124m'\u001b[39m \u001b[38;5;129;01min\u001b[39;00m params:\n\u001b[1;32m   5199\u001b[0m     CatBoostClassifier\u001b[38;5;241m.\u001b[39m_check_is_compatible_loss(params[\u001b[38;5;124m'\u001b[39m\u001b[38;5;124mloss_function\u001b[39m\u001b[38;5;124m'\u001b[39m])\n\u001b[0;32m-> 5201\u001b[0m \u001b[38;5;28;43mself\u001b[39;49m\u001b[38;5;241;43m.\u001b[39;49m\u001b[43m_fit\u001b[49m\u001b[43m(\u001b[49m\u001b[43mX\u001b[49m\u001b[43m,\u001b[49m\u001b[43m \u001b[49m\u001b[43my\u001b[49m\u001b[43m,\u001b[49m\u001b[43m \u001b[49m\u001b[43mcat_features\u001b[49m\u001b[43m,\u001b[49m\u001b[43m \u001b[49m\u001b[43mtext_features\u001b[49m\u001b[43m,\u001b[49m\u001b[43m \u001b[49m\u001b[43membedding_features\u001b[49m\u001b[43m,\u001b[49m\u001b[43m \u001b[49m\u001b[38;5;28;43;01mNone\u001b[39;49;00m\u001b[43m,\u001b[49m\u001b[43m \u001b[49m\u001b[43msample_weight\u001b[49m\u001b[43m,\u001b[49m\u001b[43m \u001b[49m\u001b[38;5;28;43;01mNone\u001b[39;49;00m\u001b[43m,\u001b[49m\u001b[43m \u001b[49m\u001b[38;5;28;43;01mNone\u001b[39;49;00m\u001b[43m,\u001b[49m\u001b[43m \u001b[49m\u001b[38;5;28;43;01mNone\u001b[39;49;00m\u001b[43m,\u001b[49m\u001b[43m \u001b[49m\u001b[38;5;28;43;01mNone\u001b[39;49;00m\u001b[43m,\u001b[49m\u001b[43m \u001b[49m\u001b[43mbaseline\u001b[49m\u001b[43m,\u001b[49m\u001b[43m \u001b[49m\u001b[43muse_best_model\u001b[49m\u001b[43m,\u001b[49m\n\u001b[1;32m   5202\u001b[0m \u001b[43m          \u001b[49m\u001b[43meval_set\u001b[49m\u001b[43m,\u001b[49m\u001b[43m \u001b[49m\u001b[43mverbose\u001b[49m\u001b[43m,\u001b[49m\u001b[43m \u001b[49m\u001b[43mlogging_level\u001b[49m\u001b[43m,\u001b[49m\u001b[43m \u001b[49m\u001b[43mplot\u001b[49m\u001b[43m,\u001b[49m\u001b[43m \u001b[49m\u001b[43mplot_file\u001b[49m\u001b[43m,\u001b[49m\u001b[43m \u001b[49m\u001b[43mcolumn_description\u001b[49m\u001b[43m,\u001b[49m\u001b[43m \u001b[49m\u001b[43mverbose_eval\u001b[49m\u001b[43m,\u001b[49m\u001b[43m \u001b[49m\u001b[43mmetric_period\u001b[49m\u001b[43m,\u001b[49m\n\u001b[1;32m   5203\u001b[0m \u001b[43m          \u001b[49m\u001b[43msilent\u001b[49m\u001b[43m,\u001b[49m\u001b[43m \u001b[49m\u001b[43mearly_stopping_rounds\u001b[49m\u001b[43m,\u001b[49m\u001b[43m \u001b[49m\u001b[43msave_snapshot\u001b[49m\u001b[43m,\u001b[49m\u001b[43m \u001b[49m\u001b[43msnapshot_file\u001b[49m\u001b[43m,\u001b[49m\u001b[43m \u001b[49m\u001b[43msnapshot_interval\u001b[49m\u001b[43m,\u001b[49m\u001b[43m \u001b[49m\u001b[43minit_model\u001b[49m\u001b[43m,\u001b[49m\u001b[43m \u001b[49m\u001b[43mcallbacks\u001b[49m\u001b[43m,\u001b[49m\u001b[43m \u001b[49m\u001b[43mlog_cout\u001b[49m\u001b[43m,\u001b[49m\u001b[43m \u001b[49m\u001b[43mlog_cerr\u001b[49m\u001b[43m)\u001b[49m\n\u001b[1;32m   5204\u001b[0m \u001b[38;5;28;01mreturn\u001b[39;00m \u001b[38;5;28mself\u001b[39m\n",
      "File \u001b[0;32m/opt/anaconda3/envs/cse/lib/python3.12/site-packages/catboost/core.py:2396\u001b[0m, in \u001b[0;36mCatBoost._fit\u001b[0;34m(self, X, y, cat_features, text_features, embedding_features, pairs, sample_weight, group_id, group_weight, subgroup_id, pairs_weight, baseline, use_best_model, eval_set, verbose, logging_level, plot, plot_file, column_description, verbose_eval, metric_period, silent, early_stopping_rounds, save_snapshot, snapshot_file, snapshot_interval, init_model, callbacks, log_cout, log_cerr)\u001b[0m\n\u001b[1;32m   2393\u001b[0m allow_clear_pool \u001b[38;5;241m=\u001b[39m train_params[\u001b[38;5;124m\"\u001b[39m\u001b[38;5;124mallow_clear_pool\u001b[39m\u001b[38;5;124m\"\u001b[39m]\n\u001b[1;32m   2395\u001b[0m \u001b[38;5;28;01mwith\u001b[39;00m plot_wrapper(plot, plot_file, \u001b[38;5;124m'\u001b[39m\u001b[38;5;124mTraining plots\u001b[39m\u001b[38;5;124m'\u001b[39m, [_get_train_dir(\u001b[38;5;28mself\u001b[39m\u001b[38;5;241m.\u001b[39mget_params())]):\n\u001b[0;32m-> 2396\u001b[0m     \u001b[38;5;28;43mself\u001b[39;49m\u001b[38;5;241;43m.\u001b[39;49m\u001b[43m_train\u001b[49m\u001b[43m(\u001b[49m\n\u001b[1;32m   2397\u001b[0m \u001b[43m        \u001b[49m\u001b[43mtrain_pool\u001b[49m\u001b[43m,\u001b[49m\n\u001b[1;32m   2398\u001b[0m \u001b[43m        \u001b[49m\u001b[43mtrain_params\u001b[49m\u001b[43m[\u001b[49m\u001b[38;5;124;43m\"\u001b[39;49m\u001b[38;5;124;43meval_sets\u001b[39;49m\u001b[38;5;124;43m\"\u001b[39;49m\u001b[43m]\u001b[49m\u001b[43m,\u001b[49m\n\u001b[1;32m   2399\u001b[0m \u001b[43m        \u001b[49m\u001b[43mparams\u001b[49m\u001b[43m,\u001b[49m\n\u001b[1;32m   2400\u001b[0m \u001b[43m        \u001b[49m\u001b[43mallow_clear_pool\u001b[49m\u001b[43m,\u001b[49m\n\u001b[1;32m   2401\u001b[0m \u001b[43m        \u001b[49m\u001b[43mtrain_params\u001b[49m\u001b[43m[\u001b[49m\u001b[38;5;124;43m\"\u001b[39;49m\u001b[38;5;124;43minit_model\u001b[39;49m\u001b[38;5;124;43m\"\u001b[39;49m\u001b[43m]\u001b[49m\n\u001b[1;32m   2402\u001b[0m \u001b[43m    \u001b[49m\u001b[43m)\u001b[49m\n\u001b[1;32m   2404\u001b[0m \u001b[38;5;66;03m# Have property feature_importance possibly set\u001b[39;00m\n\u001b[1;32m   2405\u001b[0m loss \u001b[38;5;241m=\u001b[39m \u001b[38;5;28mself\u001b[39m\u001b[38;5;241m.\u001b[39m_object\u001b[38;5;241m.\u001b[39m_get_loss_function_name()\n",
      "File \u001b[0;32m/opt/anaconda3/envs/cse/lib/python3.12/site-packages/catboost/core.py:1776\u001b[0m, in \u001b[0;36m_CatBoostBase._train\u001b[0;34m(self, train_pool, test_pool, params, allow_clear_pool, init_model)\u001b[0m\n\u001b[1;32m   1775\u001b[0m \u001b[38;5;28;01mdef\u001b[39;00m \u001b[38;5;21m_train\u001b[39m(\u001b[38;5;28mself\u001b[39m, train_pool, test_pool, params, allow_clear_pool, init_model):\n\u001b[0;32m-> 1776\u001b[0m     \u001b[38;5;28;43mself\u001b[39;49m\u001b[38;5;241;43m.\u001b[39;49m\u001b[43m_object\u001b[49m\u001b[38;5;241;43m.\u001b[39;49m\u001b[43m_train\u001b[49m\u001b[43m(\u001b[49m\u001b[43mtrain_pool\u001b[49m\u001b[43m,\u001b[49m\u001b[43m \u001b[49m\u001b[43mtest_pool\u001b[49m\u001b[43m,\u001b[49m\u001b[43m \u001b[49m\u001b[43mparams\u001b[49m\u001b[43m,\u001b[49m\u001b[43m \u001b[49m\u001b[43mallow_clear_pool\u001b[49m\u001b[43m,\u001b[49m\u001b[43m \u001b[49m\u001b[43minit_model\u001b[49m\u001b[38;5;241;43m.\u001b[39;49m\u001b[43m_object\u001b[49m\u001b[43m \u001b[49m\u001b[38;5;28;43;01mif\u001b[39;49;00m\u001b[43m \u001b[49m\u001b[43minit_model\u001b[49m\u001b[43m \u001b[49m\u001b[38;5;28;43;01melse\u001b[39;49;00m\u001b[43m \u001b[49m\u001b[38;5;28;43;01mNone\u001b[39;49;00m\u001b[43m)\u001b[49m\n\u001b[1;32m   1777\u001b[0m     \u001b[38;5;28mself\u001b[39m\u001b[38;5;241m.\u001b[39m_set_trained_model_attributes()\n",
      "File \u001b[0;32m_catboost.pyx:4833\u001b[0m, in \u001b[0;36m_catboost._CatBoost._train\u001b[0;34m()\u001b[0m\n",
      "File \u001b[0;32m_catboost.pyx:4882\u001b[0m, in \u001b[0;36m_catboost._CatBoost._train\u001b[0;34m()\u001b[0m\n",
      "\u001b[0;31mCatBoostError\u001b[0m: /src/catboost/catboost/cuda/cuda_lib/cuda_manager.cpp:201: Condition violated: `State == nullptr'"
     ]
    }
   ],
   "source": [
    "optuna.logging.set_verbosity(optuna.logging.WARNING)\n",
    "\n",
    "sampler = TPESampler(seed=1)\n",
    "study = optuna.create_study(study_name=\"catboost\", direction=\"maximize\", sampler=sampler)\n",
    "study.optimize(objective, n_trials=100)\n"
   ]
  },
  {
   "cell_type": "code",
   "execution_count": 318,
   "id": "4bda86b9-8098-442e-b8bc-b9ed8600c85e",
   "metadata": {},
   "outputs": [
    {
     "name": "stdout",
     "output_type": "stream",
     "text": [
      "Accuracy: 0.9945486021584589\n"
     ]
    }
   ],
   "source": [
    "y_prob = modelcat.predict(test_x)\n",
    "accuracy = accuracy_score(test_y, y_prob)\n",
    "print('Accuracy:', accuracy)"
   ]
  },
  {
   "cell_type": "markdown",
   "id": "87dbf66d-819b-4914-9162-e5dbd02cbf3b",
   "metadata": {},
   "source": [
    "#### The rest"
   ]
  },
  {
   "cell_type": "code",
   "execution_count": 149,
   "id": "c2a23d3a-3a9d-4ce1-9abe-74c54ff38a53",
   "metadata": {},
   "outputs": [],
   "source": [
    "%%bash\n",
    "sudo mv /home/baki/Downloads/test.csv.zip /home/baki/Desktop/cse_hackathon/"
   ]
  },
  {
   "cell_type": "code",
   "execution_count": 156,
   "id": "4499e9d7-b162-482e-b80f-790234cf95db",
   "metadata": {},
   "outputs": [
    {
     "name": "stdout",
     "output_type": "stream",
     "text": [
      "Archive:  test.csv.zip\n",
      "  inflating: test.csv                \n"
     ]
    }
   ],
   "source": [
    "!unzip test.csv.zip"
   ]
  },
  {
   "cell_type": "code",
   "execution_count": 15,
   "id": "b8ff6f47-87ae-44ff-8247-0b39edb33390",
   "metadata": {},
   "outputs": [],
   "source": [
    "test = pd.read_csv('test.csv')"
   ]
  },
  {
   "cell_type": "code",
   "execution_count": 263,
   "id": "2811bc84-16d3-4bef-9969-7e2e0dcf1000",
   "metadata": {},
   "outputs": [
    {
     "data": {
      "text/plain": [
       "0       2024-01-10 18:18:53\n",
       "1       2024-01-04 18:55:07\n",
       "2       2024-01-02 16:47:55\n",
       "3       2024-01-01 17:27:33\n",
       "4       2024-01-07 14:45:47\n",
       "                ...        \n",
       "67866   2024-01-07 19:37:24\n",
       "67867   2024-01-11 15:47:07\n",
       "67868   2024-01-12 18:41:00\n",
       "67869   2024-01-07 11:17:12\n",
       "67870   2024-01-11 17:38:40\n",
       "Name: date expédition, Length: 67871, dtype: datetime64[ns]"
      ]
     },
     "execution_count": 263,
     "metadata": {},
     "output_type": "execute_result"
    }
   ],
   "source": [
    "test['date expédition'] = pd.to_datetime(df_train['date expédition'])\n",
    "test['date expédition']"
   ]
  },
  {
   "cell_type": "code",
   "execution_count": 16,
   "id": "b459133d-4a2b-4e40-b078-3409970cf723",
   "metadata": {},
   "outputs": [],
   "source": [
    "testing = process(test)"
   ]
  },
  {
   "cell_type": "code",
   "execution_count": 17,
   "id": "1f12ce5e-081b-46bd-807f-f40da3eb6ebb",
   "metadata": {},
   "outputs": [],
   "source": [
    "to_predict = testing.drop(['Tracking','date livraison/échec','date dernier statut', 'date expédition', 'date première tentative'], axis=1)"
   ]
  },
  {
   "cell_type": "code",
   "execution_count": 44,
   "id": "b54863e2-483d-4749-b3dd-e37942d74655",
   "metadata": {},
   "outputs": [
    {
     "name": "stdout",
     "output_type": "stream",
     "text": [
      "<class 'pandas.core.frame.DataFrame'>\n",
      "RangeIndex: 67871 entries, 0 to 67870\n",
      "Data columns (total 38 columns):\n",
      " #   Column                             Non-Null Count  Dtype  \n",
      "---  ------                             --------------  -----  \n",
      " 0   ID expediteur                      67871 non-null  int64  \n",
      " 1   depart commune                     67871 non-null  int64  \n",
      " 2   depart wilaya                      67871 non-null  int64  \n",
      " 3   stop desk?                         67871 non-null  int64  \n",
      " 4   destination commune                67871 non-null  int64  \n",
      " 5   destination wilaya                 67871 non-null  int64  \n",
      " 6   yeardate expédition                67871 non-null  float64\n",
      " 7   monthdate expédition               67871 non-null  int32  \n",
      " 8   daydate expédition                 67871 non-null  int32  \n",
      " 9   weekdaydate expédition             67871 non-null  int32  \n",
      " 10  weekofyeardate expédition          67871 non-null  UInt32 \n",
      " 11  hourdate expédition                67871 non-null  int32  \n",
      " 12  day_hourdate expédition            67871 non-null  int64  \n",
      " 13  month_daydate expédition           67871 non-null  int64  \n",
      " 14  yeardate première tentative        67583 non-null  float64\n",
      " 15  monthdate première tentative       67583 non-null  float64\n",
      " 16  daydate première tentative         67583 non-null  float64\n",
      " 17  weekdaydate première tentative     67583 non-null  float64\n",
      " 18  weekofyeardate première tentative  67583 non-null  UInt32 \n",
      " 19  hourdate première tentative        67583 non-null  float64\n",
      " 20  day_hourdate première tentative    67871 non-null  int64  \n",
      " 21  month_daydate première tentative   67871 non-null  int64  \n",
      " 22  yeardate livraison/échec           67575 non-null  float64\n",
      " 23  monthdate livraison/échec          67575 non-null  float64\n",
      " 24  daydate livraison/échec            67575 non-null  float64\n",
      " 25  weekdaydate livraison/échec        67575 non-null  float64\n",
      " 26  weekofyeardate livraison/échec     67575 non-null  UInt32 \n",
      " 27  hourdate livraison/échec           67575 non-null  float64\n",
      " 28  day_hourdate livraison/échec       67871 non-null  int64  \n",
      " 29  month_daydate livraison/échec      67871 non-null  int64  \n",
      " 30  yeardate dernier statut            67871 non-null  float64\n",
      " 31  monthdate dernier statut           67871 non-null  int32  \n",
      " 32  daydate dernier statut             67871 non-null  int32  \n",
      " 33  weekdaydate dernier statut         67871 non-null  int32  \n",
      " 34  weekofyeardate dernier statut      67871 non-null  UInt32 \n",
      " 35  hourdate dernier statut            67871 non-null  int32  \n",
      " 36  day_hourdate dernier statut        67871 non-null  int64  \n",
      " 37  month_daydate dernier statut       67871 non-null  int64  \n",
      "dtypes: UInt32(4), float64(12), int32(8), int64(14)\n",
      "memory usage: 16.8 MB\n"
     ]
    }
   ],
   "source": [
    "to_predict.info()"
   ]
  },
  {
   "cell_type": "code",
   "execution_count": 45,
   "id": "9f8f8a62-1c1f-45c7-88bd-8d47c466a677",
   "metadata": {},
   "outputs": [],
   "source": [
    "y_predict = model.predict(to_predict)"
   ]
  },
  {
   "cell_type": "code",
   "execution_count": 268,
   "id": "03a96e89-49ed-482b-8387-07e112edd27d",
   "metadata": {},
   "outputs": [
    {
     "data": {
      "text/html": [
       "<div>\n",
       "<style scoped>\n",
       "    .dataframe tbody tr th:only-of-type {\n",
       "        vertical-align: middle;\n",
       "    }\n",
       "\n",
       "    .dataframe tbody tr th {\n",
       "        vertical-align: top;\n",
       "    }\n",
       "\n",
       "    .dataframe thead th {\n",
       "        text-align: right;\n",
       "    }\n",
       "</style>\n",
       "<table border=\"1\" class=\"dataframe\">\n",
       "  <thead>\n",
       "    <tr style=\"text-align: right;\">\n",
       "      <th></th>\n",
       "      <th>Tracking</th>\n",
       "      <th>dernier statut</th>\n",
       "    </tr>\n",
       "  </thead>\n",
       "  <tbody>\n",
       "    <tr>\n",
       "      <th>0</th>\n",
       "      <td>yal-ABC256315</td>\n",
       "      <td>3</td>\n",
       "    </tr>\n",
       "    <tr>\n",
       "      <th>1</th>\n",
       "      <td>yal-ABC291785</td>\n",
       "      <td>3</td>\n",
       "    </tr>\n",
       "    <tr>\n",
       "      <th>2</th>\n",
       "      <td>yal-ABC288610</td>\n",
       "      <td>3</td>\n",
       "    </tr>\n",
       "    <tr>\n",
       "      <th>3</th>\n",
       "      <td>yal-ABC196442</td>\n",
       "      <td>3</td>\n",
       "    </tr>\n",
       "    <tr>\n",
       "      <th>4</th>\n",
       "      <td>yal-ABC131159</td>\n",
       "      <td>3</td>\n",
       "    </tr>\n",
       "    <tr>\n",
       "      <th>5</th>\n",
       "      <td>yal-ABC272768</td>\n",
       "      <td>3</td>\n",
       "    </tr>\n",
       "    <tr>\n",
       "      <th>6</th>\n",
       "      <td>yal-ABC119741</td>\n",
       "      <td>3</td>\n",
       "    </tr>\n",
       "    <tr>\n",
       "      <th>7</th>\n",
       "      <td>yal-ABC195795</td>\n",
       "      <td>3</td>\n",
       "    </tr>\n",
       "    <tr>\n",
       "      <th>8</th>\n",
       "      <td>yal-ABC094490</td>\n",
       "      <td>3</td>\n",
       "    </tr>\n",
       "    <tr>\n",
       "      <th>9</th>\n",
       "      <td>yal-ABC214527</td>\n",
       "      <td>3</td>\n",
       "    </tr>\n",
       "  </tbody>\n",
       "</table>\n",
       "</div>"
      ],
      "text/plain": [
       "        Tracking  dernier statut\n",
       "0  yal-ABC256315               3\n",
       "1  yal-ABC291785               3\n",
       "2  yal-ABC288610               3\n",
       "3  yal-ABC196442               3\n",
       "4  yal-ABC131159               3\n",
       "5  yal-ABC272768               3\n",
       "6  yal-ABC119741               3\n",
       "7  yal-ABC195795               3\n",
       "8  yal-ABC094490               3\n",
       "9  yal-ABC214527               3"
      ]
     },
     "execution_count": 268,
     "metadata": {},
     "output_type": "execute_result"
    }
   ],
   "source": [
    "xx = pd.DataFrame()\n",
    "xx['Tracking'] = testing['Tracking']\n",
    "xx['dernier statut'] = y_predict\n",
    "xx.to_csv('submission_Yalidine5.csv', index=False)\n",
    "xx.head(10)"
   ]
  },
  {
   "cell_type": "code",
   "execution_count": 48,
   "id": "92053c96-f1fc-41a1-a599-8939dafeafeb",
   "metadata": {},
   "outputs": [],
   "source": [
    "%%bash\n",
    "sudo cp submission_Yalidine9.csv /home/baki/Desktop/\n",
    "sudo chown baki submission_Yalidine4.csv"
   ]
  },
  {
   "cell_type": "code",
   "execution_count": 201,
   "id": "0961b2e3-155f-4d1e-8f9e-c73221e408ee",
   "metadata": {},
   "outputs": [],
   "source": [
    "inversed_predict = LE.inverse_transform(y_predict)"
   ]
  },
  {
   "cell_type": "code",
   "execution_count": 36,
   "id": "954b1425-c2db-4b03-ad33-1c74c0db8cbe",
   "metadata": {},
   "outputs": [],
   "source": [
    "lee = LabelEncoder()\n",
    "y = lee.fit_transform(df_train['dernier statut'])"
   ]
  },
  {
   "cell_type": "code",
   "execution_count": 26,
   "id": "808bc49b-889b-45cc-baa7-5f437ddf9d93",
   "metadata": {},
   "outputs": [
    {
     "data": {
      "text/plain": [
       "0         Livré\n",
       "1         Livré\n",
       "2         Livré\n",
       "3         Livré\n",
       "4         Livré\n",
       "          ...  \n",
       "271476    Livré\n",
       "271477    Livré\n",
       "271478    Livré\n",
       "271479    Livré\n",
       "271480    Livré\n",
       "Name: dernier statut, Length: 271481, dtype: object"
      ]
     },
     "execution_count": 26,
     "metadata": {},
     "output_type": "execute_result"
    }
   ],
   "source": [
    "df_train['dernier statut']"
   ]
  },
  {
   "cell_type": "code",
   "execution_count": 46,
   "id": "c3733cd3-1214-4a05-b293-1a75360f7015",
   "metadata": {},
   "outputs": [],
   "source": [
    "invers = lee.inverse_transform(y_predict)"
   ]
  },
  {
   "cell_type": "code",
   "execution_count": 38,
   "id": "9ed40617-6111-4ec3-ae06-958ce4daa488",
   "metadata": {},
   "outputs": [
    {
     "data": {
      "text/plain": [
       "array(['Livré', 'Livré', 'Livré', ..., 'Livré', 'Livré', 'Livré'],\n",
       "      dtype=object)"
      ]
     },
     "execution_count": 38,
     "metadata": {},
     "output_type": "execute_result"
    }
   ],
   "source": [
    "invers"
   ]
  },
  {
   "cell_type": "code",
   "execution_count": 47,
   "id": "22739141-43c6-4da3-9d9d-b4de62b11601",
   "metadata": {},
   "outputs": [
    {
     "data": {
      "text/html": [
       "<div>\n",
       "<style scoped>\n",
       "    .dataframe tbody tr th:only-of-type {\n",
       "        vertical-align: middle;\n",
       "    }\n",
       "\n",
       "    .dataframe tbody tr th {\n",
       "        vertical-align: top;\n",
       "    }\n",
       "\n",
       "    .dataframe thead th {\n",
       "        text-align: right;\n",
       "    }\n",
       "</style>\n",
       "<table border=\"1\" class=\"dataframe\">\n",
       "  <thead>\n",
       "    <tr style=\"text-align: right;\">\n",
       "      <th></th>\n",
       "      <th>Tracking</th>\n",
       "      <th>dernier statut</th>\n",
       "    </tr>\n",
       "  </thead>\n",
       "  <tbody>\n",
       "    <tr>\n",
       "      <th>0</th>\n",
       "      <td>yal-ABC256315</td>\n",
       "      <td>Livré</td>\n",
       "    </tr>\n",
       "    <tr>\n",
       "      <th>1</th>\n",
       "      <td>yal-ABC291785</td>\n",
       "      <td>Livré</td>\n",
       "    </tr>\n",
       "    <tr>\n",
       "      <th>2</th>\n",
       "      <td>yal-ABC288610</td>\n",
       "      <td>Livré</td>\n",
       "    </tr>\n",
       "    <tr>\n",
       "      <th>3</th>\n",
       "      <td>yal-ABC196442</td>\n",
       "      <td>Livré</td>\n",
       "    </tr>\n",
       "    <tr>\n",
       "      <th>4</th>\n",
       "      <td>yal-ABC131159</td>\n",
       "      <td>Livré</td>\n",
       "    </tr>\n",
       "    <tr>\n",
       "      <th>5</th>\n",
       "      <td>yal-ABC272768</td>\n",
       "      <td>Livré</td>\n",
       "    </tr>\n",
       "    <tr>\n",
       "      <th>6</th>\n",
       "      <td>yal-ABC119741</td>\n",
       "      <td>Livré</td>\n",
       "    </tr>\n",
       "    <tr>\n",
       "      <th>7</th>\n",
       "      <td>yal-ABC195795</td>\n",
       "      <td>Livré</td>\n",
       "    </tr>\n",
       "    <tr>\n",
       "      <th>8</th>\n",
       "      <td>yal-ABC094490</td>\n",
       "      <td>Livré</td>\n",
       "    </tr>\n",
       "    <tr>\n",
       "      <th>9</th>\n",
       "      <td>yal-ABC214527</td>\n",
       "      <td>Livré</td>\n",
       "    </tr>\n",
       "  </tbody>\n",
       "</table>\n",
       "</div>"
      ],
      "text/plain": [
       "        Tracking dernier statut\n",
       "0  yal-ABC256315          Livré\n",
       "1  yal-ABC291785          Livré\n",
       "2  yal-ABC288610          Livré\n",
       "3  yal-ABC196442          Livré\n",
       "4  yal-ABC131159          Livré\n",
       "5  yal-ABC272768          Livré\n",
       "6  yal-ABC119741          Livré\n",
       "7  yal-ABC195795          Livré\n",
       "8  yal-ABC094490          Livré\n",
       "9  yal-ABC214527          Livré"
      ]
     },
     "execution_count": 47,
     "metadata": {},
     "output_type": "execute_result"
    }
   ],
   "source": [
    "xx = pd.DataFrame()\n",
    "xx['Tracking'] = testing['Tracking']\n",
    "xx['dernier statut'] = invers\n",
    "xx.to_csv('submission_Yalidine9.csv', index=False)\n",
    "xx.head(10)"
   ]
  }
 ],
 "metadata": {
  "kernelspec": {
   "display_name": "Python 3 (ipykernel)",
   "language": "python",
   "name": "python3"
  },
  "language_info": {
   "codemirror_mode": {
    "name": "ipython",
    "version": 3
   },
   "file_extension": ".py",
   "mimetype": "text/x-python",
   "name": "python",
   "nbconvert_exporter": "python",
   "pygments_lexer": "ipython3",
   "version": "3.12.2"
  }
 },
 "nbformat": 4,
 "nbformat_minor": 5
}
